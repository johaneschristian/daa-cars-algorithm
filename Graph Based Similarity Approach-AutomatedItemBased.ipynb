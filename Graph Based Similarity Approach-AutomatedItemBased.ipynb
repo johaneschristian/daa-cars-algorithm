{
 "cells": [
  {
   "cell_type": "markdown",
   "id": "53833cc7",
   "metadata": {},
   "source": [
    "# Context-Aware Recommendation Algorithm by PAPERDAA-2"
   ]
  },
  {
   "cell_type": "code",
   "execution_count": 1,
   "id": "84e73941",
   "metadata": {},
   "outputs": [],
   "source": [
    "import numpy as np\n",
    "import pandas as pd\n",
    "import math\n",
    "from sklearn import preprocessing\n",
    "from itertools import product as cartesian_product"
   ]
  },
  {
   "cell_type": "markdown",
   "id": "1ff7bae3",
   "metadata": {},
   "source": [
    "# Training"
   ]
  },
  {
   "cell_type": "markdown",
   "id": "7d8858c5",
   "metadata": {},
   "source": [
    "## Program Arguments"
   ]
  },
  {
   "cell_type": "code",
   "execution_count": 2,
   "id": "af501bd7",
   "metadata": {},
   "outputs": [],
   "source": [
    "LMAX = 10    # Maximum transitive path length\n",
    "K = 50       # Nearest neighbors"
   ]
  },
  {
   "cell_type": "markdown",
   "id": "d663b8a1",
   "metadata": {},
   "source": [
    "## Preprocessing"
   ]
  },
  {
   "cell_type": "code",
   "execution_count": 3,
   "id": "6baf61de",
   "metadata": {
    "scrolled": true
   },
   "outputs": [
    {
     "data": {
      "text/html": [
       "<div>\n",
       "<style scoped>\n",
       "    .dataframe tbody tr th:only-of-type {\n",
       "        vertical-align: middle;\n",
       "    }\n",
       "\n",
       "    .dataframe tbody tr th {\n",
       "        vertical-align: top;\n",
       "    }\n",
       "\n",
       "    .dataframe thead th {\n",
       "        text-align: right;\n",
       "    }\n",
       "</style>\n",
       "<table border=\"1\" class=\"dataframe\">\n",
       "  <thead>\n",
       "    <tr style=\"text-align: right;\">\n",
       "      <th></th>\n",
       "      <th>userid</th>\n",
       "      <th>itemid</th>\n",
       "      <th>rating</th>\n",
       "      <th>Time</th>\n",
       "      <th>Location</th>\n",
       "      <th>Companion</th>\n",
       "    </tr>\n",
       "  </thead>\n",
       "  <tbody>\n",
       "    <tr>\n",
       "      <th>3432</th>\n",
       "      <td>1082</td>\n",
       "      <td>tt0413267</td>\n",
       "      <td>1</td>\n",
       "      <td>Weekend</td>\n",
       "      <td>Home</td>\n",
       "      <td>Partner</td>\n",
       "    </tr>\n",
       "    <tr>\n",
       "      <th>3433</th>\n",
       "      <td>1082</td>\n",
       "      <td>tt1637706</td>\n",
       "      <td>2</td>\n",
       "      <td>Weekend</td>\n",
       "      <td>Home</td>\n",
       "      <td>Partner</td>\n",
       "    </tr>\n",
       "    <tr>\n",
       "      <th>3434</th>\n",
       "      <td>1082</td>\n",
       "      <td>tt0343660</td>\n",
       "      <td>1</td>\n",
       "      <td>Weekend</td>\n",
       "      <td>Home</td>\n",
       "      <td>Partner</td>\n",
       "    </tr>\n",
       "    <tr>\n",
       "      <th>3435</th>\n",
       "      <td>1082</td>\n",
       "      <td>tt1133985</td>\n",
       "      <td>1</td>\n",
       "      <td>Weekend</td>\n",
       "      <td>Home</td>\n",
       "      <td>Partner</td>\n",
       "    </tr>\n",
       "    <tr>\n",
       "      <th>3436</th>\n",
       "      <td>1082</td>\n",
       "      <td>tt1099212</td>\n",
       "      <td>1</td>\n",
       "      <td>Weekend</td>\n",
       "      <td>Home</td>\n",
       "      <td>Partner</td>\n",
       "    </tr>\n",
       "  </tbody>\n",
       "</table>\n",
       "</div>"
      ],
      "text/plain": [
       "      userid     itemid  rating     Time Location Companion\n",
       "3432    1082  tt0413267       1  Weekend     Home   Partner\n",
       "3433    1082  tt1637706       2  Weekend     Home   Partner\n",
       "3434    1082  tt0343660       1  Weekend     Home   Partner\n",
       "3435    1082  tt1133985       1  Weekend     Home   Partner\n",
       "3436    1082  tt1099212       1  Weekend     Home   Partner"
      ]
     },
     "execution_count": 3,
     "metadata": {},
     "output_type": "execute_result"
    }
   ],
   "source": [
    "df = pd.read_csv('training_dataset.csv')\n",
    "\n",
    "df.tail(5)"
   ]
  },
  {
   "cell_type": "code",
   "execution_count": 4,
   "id": "d91056a7",
   "metadata": {},
   "outputs": [],
   "source": [
    "encoder = preprocessing.LabelEncoder()\n",
    "\n",
    "user_item_context_encodings = []\n",
    "user_item_context_reverse_encodings = []\n",
    "maximum_rating = df[df.columns[2]].max()\n",
    "\n",
    "encoded_df = df.copy()\n",
    "# Encode userid, itemid, and contextual informations for item splitting\n",
    "for column_index in range(len(df.columns)):\n",
    "    \n",
    "    # Column attribute is not rating\n",
    "    if column_index != 2:\n",
    "        \n",
    "        # Fit encoder\n",
    "        encoder.fit(df[df.columns[column_index]])\n",
    "        encoded_df[df.columns[column_index]] = encoder.transform(\n",
    "                df[df.columns[column_index]]\n",
    "            )\n",
    "    \n",
    "    # Column is nor user or rating\n",
    "    if column_index != 2:\n",
    "            user_item_context_encodings.append(\n",
    "                dict(zip(encoder.classes_, encoder.transform(encoder.classes_)))\n",
    "            )\n",
    "            user_item_context_reverse_encodings.append(\n",
    "                dict(zip(encoder.transform(encoder.classes_), encoder.classes_))\n",
    "            )"
   ]
  },
  {
   "cell_type": "code",
   "execution_count": 5,
   "id": "26a86eb1",
   "metadata": {},
   "outputs": [
    {
     "data": {
      "text/html": [
       "<div>\n",
       "<style scoped>\n",
       "    .dataframe tbody tr th:only-of-type {\n",
       "        vertical-align: middle;\n",
       "    }\n",
       "\n",
       "    .dataframe tbody tr th {\n",
       "        vertical-align: top;\n",
       "    }\n",
       "\n",
       "    .dataframe thead th {\n",
       "        text-align: right;\n",
       "    }\n",
       "</style>\n",
       "<table border=\"1\" class=\"dataframe\">\n",
       "  <thead>\n",
       "    <tr style=\"text-align: right;\">\n",
       "      <th></th>\n",
       "      <th>userid</th>\n",
       "      <th>itemid</th>\n",
       "      <th>rating</th>\n",
       "      <th>Time</th>\n",
       "      <th>Location</th>\n",
       "      <th>Companion</th>\n",
       "    </tr>\n",
       "  </thead>\n",
       "  <tbody>\n",
       "    <tr>\n",
       "      <th>0</th>\n",
       "      <td>2</td>\n",
       "      <td>38</td>\n",
       "      <td>1</td>\n",
       "      <td>0</td>\n",
       "      <td>0</td>\n",
       "      <td>0</td>\n",
       "    </tr>\n",
       "    <tr>\n",
       "      <th>1</th>\n",
       "      <td>2</td>\n",
       "      <td>8</td>\n",
       "      <td>1</td>\n",
       "      <td>0</td>\n",
       "      <td>0</td>\n",
       "      <td>0</td>\n",
       "    </tr>\n",
       "    <tr>\n",
       "      <th>2</th>\n",
       "      <td>2</td>\n",
       "      <td>74</td>\n",
       "      <td>1</td>\n",
       "      <td>0</td>\n",
       "      <td>0</td>\n",
       "      <td>0</td>\n",
       "    </tr>\n",
       "    <tr>\n",
       "      <th>3</th>\n",
       "      <td>2</td>\n",
       "      <td>5</td>\n",
       "      <td>1</td>\n",
       "      <td>0</td>\n",
       "      <td>0</td>\n",
       "      <td>0</td>\n",
       "    </tr>\n",
       "    <tr>\n",
       "      <th>4</th>\n",
       "      <td>2</td>\n",
       "      <td>2</td>\n",
       "      <td>1</td>\n",
       "      <td>0</td>\n",
       "      <td>0</td>\n",
       "      <td>0</td>\n",
       "    </tr>\n",
       "    <tr>\n",
       "      <th>...</th>\n",
       "      <td>...</td>\n",
       "      <td>...</td>\n",
       "      <td>...</td>\n",
       "      <td>...</td>\n",
       "      <td>...</td>\n",
       "      <td>...</td>\n",
       "    </tr>\n",
       "    <tr>\n",
       "      <th>3432</th>\n",
       "      <td>65</td>\n",
       "      <td>35</td>\n",
       "      <td>1</td>\n",
       "      <td>1</td>\n",
       "      <td>1</td>\n",
       "      <td>2</td>\n",
       "    </tr>\n",
       "    <tr>\n",
       "      <th>3433</th>\n",
       "      <td>65</td>\n",
       "      <td>62</td>\n",
       "      <td>2</td>\n",
       "      <td>1</td>\n",
       "      <td>1</td>\n",
       "      <td>2</td>\n",
       "    </tr>\n",
       "    <tr>\n",
       "      <th>3434</th>\n",
       "      <td>65</td>\n",
       "      <td>25</td>\n",
       "      <td>1</td>\n",
       "      <td>1</td>\n",
       "      <td>1</td>\n",
       "      <td>2</td>\n",
       "    </tr>\n",
       "    <tr>\n",
       "      <th>3435</th>\n",
       "      <td>65</td>\n",
       "      <td>50</td>\n",
       "      <td>1</td>\n",
       "      <td>1</td>\n",
       "      <td>1</td>\n",
       "      <td>2</td>\n",
       "    </tr>\n",
       "    <tr>\n",
       "      <th>3436</th>\n",
       "      <td>65</td>\n",
       "      <td>49</td>\n",
       "      <td>1</td>\n",
       "      <td>1</td>\n",
       "      <td>1</td>\n",
       "      <td>2</td>\n",
       "    </tr>\n",
       "  </tbody>\n",
       "</table>\n",
       "<p>3437 rows × 6 columns</p>\n",
       "</div>"
      ],
      "text/plain": [
       "      userid  itemid  rating  Time  Location  Companion\n",
       "0          2      38       1     0         0          0\n",
       "1          2       8       1     0         0          0\n",
       "2          2      74       1     0         0          0\n",
       "3          2       5       1     0         0          0\n",
       "4          2       2       1     0         0          0\n",
       "...      ...     ...     ...   ...       ...        ...\n",
       "3432      65      35       1     1         1          2\n",
       "3433      65      62       2     1         1          2\n",
       "3434      65      25       1     1         1          2\n",
       "3435      65      50       1     1         1          2\n",
       "3436      65      49       1     1         1          2\n",
       "\n",
       "[3437 rows x 6 columns]"
      ]
     },
     "metadata": {},
     "output_type": "display_data"
    }
   ],
   "source": [
    "display(encoded_df)"
   ]
  },
  {
   "cell_type": "markdown",
   "id": "4f44d5fe",
   "metadata": {},
   "source": [
    "## Item Splitting"
   ]
  },
  {
   "cell_type": "code",
   "execution_count": 6,
   "id": "367e3034",
   "metadata": {},
   "outputs": [],
   "source": [
    "# Cartesian product all items and contexts\n",
    "\n",
    "users = user_item_context_encodings[0].values()\n",
    "items = user_item_context_encodings[1].values()\n",
    "contexts = [\n",
    "    context_trans.values() for context_trans in user_item_context_encodings[2:]\n",
    "]\n",
    "\n",
    "context_T = list(cartesian_product(items, *contexts))"
   ]
  },
  {
   "cell_type": "code",
   "execution_count": 7,
   "id": "25a18d77",
   "metadata": {},
   "outputs": [],
   "source": [
    "# Generate new user-item matrix for new items\n",
    "rating_matrix = np.zeros((len(users), len(context_T)), dtype=object)"
   ]
  },
  {
   "cell_type": "code",
   "execution_count": 8,
   "id": "85a120f7",
   "metadata": {
    "scrolled": true
   },
   "outputs": [],
   "source": [
    "for row in encoded_df.iterrows():\n",
    "    data = tuple(row[1])\n",
    "    user = data[0]\n",
    "    item = data[1]\n",
    "    rating = data[2]\n",
    "    context_item = (item, *data[3:])\n",
    "    \n",
    "    index = context_T.index(context_item)\n",
    "    \n",
    "    rating_matrix[user][index] = int(rating)/int(maximum_rating)"
   ]
  },
  {
   "cell_type": "code",
   "execution_count": 9,
   "id": "9518c4cf",
   "metadata": {},
   "outputs": [
    {
     "data": {
      "text/plain": [
       "array([[0, 0, 0, ..., 0, 0, 0],\n",
       "       [0, 0, 0, ..., 0, 0, 0],\n",
       "       [0.2, 0, 0, ..., 0, 0, 0],\n",
       "       ...,\n",
       "       [0, 0, 0, ..., 0, 0, 0],\n",
       "       [1.0, 0.8, 1.0, ..., 0, 0, 0],\n",
       "       [0, 0, 0, ..., 0, 0, 0]], dtype=object)"
      ]
     },
     "metadata": {},
     "output_type": "display_data"
    }
   ],
   "source": [
    "display(rating_matrix)"
   ]
  },
  {
   "cell_type": "markdown",
   "id": "e11a9967",
   "metadata": {},
   "source": [
    "## Graph Similarity Calculation (Item-Based)"
   ]
  },
  {
   "cell_type": "code",
   "execution_count": 10,
   "id": "a2efb160",
   "metadata": {},
   "outputs": [],
   "source": [
    "rating_matrix_transposed = np.transpose(rating_matrix)"
   ]
  },
  {
   "cell_type": "code",
   "execution_count": 11,
   "id": "30c841d5",
   "metadata": {},
   "outputs": [],
   "source": [
    "L = 2\n",
    "\n",
    "WTW = np.matmul(rating_matrix_transposed, rating_matrix)\n",
    "M = np.matmul(rating_matrix_transposed, rating_matrix)\n",
    "\n",
    "while L != LMAX:\n",
    "    M = np.matmul(WTW, M)\n",
    "    L = L + 2"
   ]
  },
  {
   "cell_type": "code",
   "execution_count": 12,
   "id": "c17f8e87",
   "metadata": {},
   "outputs": [
    {
     "data": {
      "text/plain": [
       "array([[161362854.8928076, 163387168.910615, 271258083.63586247, ...,\n",
       "        8830021.357861277, 47441837.88512668, 100245293.7101391],\n",
       "       [163387168.91061497, 230350965.46172532, 282495567.9929451, ...,\n",
       "        12059442.989648694, 56546089.31476934, 143676882.7843655],\n",
       "       [271258083.63586223, 282495567.99294555, 495368058.0833022, ...,\n",
       "        15629205.441586388, 83337451.74549294, 167637019.77834514],\n",
       "       ...,\n",
       "       [8830021.357861271, 12059442.989648692, 15629205.441586375, ...,\n",
       "        704531.439828992, 3016398.0204855297, 7825859.198666341],\n",
       "       [47441837.88512663, 56546089.31476941, 83337451.74549283, ...,\n",
       "        3016398.0204855297, 15749284.83725323, 34540470.44772812],\n",
       "       [100245293.71013911, 143676882.78436548, 167637019.7783451, ...,\n",
       "        7825859.198666342, 34540470.44772814, 111012170.72205015]],\n",
       "      dtype=object)"
      ]
     },
     "metadata": {},
     "output_type": "display_data"
    }
   ],
   "source": [
    "display(M)"
   ]
  },
  {
   "cell_type": "markdown",
   "id": "17fc56ae",
   "metadata": {},
   "source": [
    "# Prediction"
   ]
  },
  {
   "cell_type": "code",
   "execution_count": 13,
   "id": "a54b82fc",
   "metadata": {},
   "outputs": [],
   "source": [
    "USER = 1066   # User to check\n",
    "N = 10"
   ]
  },
  {
   "cell_type": "markdown",
   "id": "1cd6ffbb",
   "metadata": {},
   "source": [
    "## Ratings Prediction"
   ]
  },
  {
   "cell_type": "markdown",
   "id": "5ea9689e",
   "metadata": {},
   "source": [
    "### Get list of rated items"
   ]
  },
  {
   "cell_type": "code",
   "execution_count": 52,
   "id": "2150b13b",
   "metadata": {},
   "outputs": [],
   "source": [
    "def find_item_neighbors(user, item, rating_matrix, similarity_matrix, K):\n",
    "    corr_items_similarity = similarity_matrix[item]\n",
    "    \n",
    "    user_rated_items = rating_matrix[user]\n",
    "    rated_item_indexes = []\n",
    "    \n",
    "    for item_index in range(len(user_rated_items)):\n",
    "        \n",
    "        # User has rated the item\n",
    "        if user_rated_items[item_index] != 0:\n",
    "            rated_item_indexes.append(item_index)\n",
    "    \n",
    "    filtered_similarity_scores = []\n",
    "    \n",
    "    # Get neighbors similarity score\n",
    "    for item_index in rated_item_indexes:\n",
    "        if item != item_index:\n",
    "            filtered_similarity_scores.append(\n",
    "                (item_index, corr_items_similarity[item_index])\n",
    "            )\n",
    "    \n",
    "    # Sort based on simlarity scores \n",
    "    # (tuple is in (item_index, sim_score) format)\n",
    "    filtered_similarity_scores = sorted(filtered_similarity_scores, \n",
    "                                       key=lambda x: x[1], \n",
    "                                       reverse=True\n",
    "                                    )\n",
    "    \n",
    "    item_neighbors = []\n",
    "\n",
    "    if len(filtered_similarity_scores) < K:\n",
    "        item_neighbors = [sim_item[0] for sim_item in filtered_similarity_scores]\n",
    "        for i in range(K - len(filtered_similarity_scores)):\n",
    "            item_neighbors.append(-999)\n",
    "    \n",
    "    else:\n",
    "        # Filter top K similar items\n",
    "        for i in range(K):\n",
    "            similar_item = filtered_similarity_scores[i]\n",
    "            item_neighbors.append(similar_item[0])\n",
    "        \n",
    "    return item_neighbors"
   ]
  },
  {
   "cell_type": "markdown",
   "id": "dcabbfc3",
   "metadata": {},
   "source": [
    "### Item-KNN"
   ]
  },
  {
   "cell_type": "code",
   "execution_count": 51,
   "id": "787573da",
   "metadata": {},
   "outputs": [],
   "source": [
    "def item_KNN(USER, rating_matrix, user_item_context_encodings, M):\n",
    "    wanted_user = user_item_context_encodings[0][USER]\n",
    "\n",
    "    inferred_ratings = []\n",
    "    user_rated_items = rating_matrix[wanted_user]\n",
    "\n",
    "    for item in range(len(user_rated_items)):\n",
    "        rating = user_rated_items[item]\n",
    "        \n",
    "        # Item has not been rated\n",
    "        if rating == 0:\n",
    "            rating_sum = 0\n",
    "            neighbor_count = 0\n",
    "            \n",
    "            # Find k nearest item neighbors\n",
    "            nearest_neighbors = find_item_neighbors(\n",
    "                                    wanted_user,\n",
    "                                    item,\n",
    "                                    rating_matrix,\n",
    "                                    M,\n",
    "                                    K\n",
    "                                )\n",
    "            \n",
    "            # Nearest neighbors are represented as their indexes\n",
    "            # in the rating matrix\n",
    "            for item_neighbor in nearest_neighbors:\n",
    "                if item_neighbor != -999:\n",
    "                    neighbor_rating = rating_matrix[wanted_user][item_neighbor]\n",
    "                    \n",
    "                    rating_sum += neighbor_rating\n",
    "                    neighbor_count += 1\n",
    "                \n",
    "            inferred_rating = rating_sum / neighbor_count if neighbor_count != 0 else 0\n",
    "            \n",
    "            if inferred_rating != 0:\n",
    "                inferred_ratings.append((item, inferred_rating))\n",
    "    return inferred_ratings, user_rated_items"
   ]
  },
  {
   "cell_type": "code",
   "execution_count": 16,
   "id": "ddfd8290",
   "metadata": {},
   "outputs": [],
   "source": [
    "def get_mapped_ratings_from_context(inferred_ratings, user_item_context_reverse_encodings, context_T):\n",
    "    mapped_ratings = []\n",
    "    for i in inferred_ratings:\n",
    "        \n",
    "        # Get actual item encoding (from the cartesian product result)\n",
    "        item_context = context_T[i[0]]\n",
    "        \n",
    "        item = user_item_context_reverse_encodings[1][item_context[0]]\n",
    "        \n",
    "        new_entry = [item]\n",
    "        \n",
    "        for j in range(1, len(item_context)):\n",
    "            new_entry.append(item_context[j])\n",
    "        \n",
    "        new_entry.append(i[1])\n",
    "        \n",
    "        mapped_ratings.append(new_entry)\n",
    "        \n",
    "    return mapped_ratings"
   ]
  },
  {
   "cell_type": "code",
   "execution_count": 17,
   "id": "d1241102",
   "metadata": {},
   "outputs": [],
   "source": [
    "\n",
    "def get_predictions(mapped_ratings, encoded_df):\n",
    "    predicted_df = pd.DataFrame(\n",
    "        mapped_ratings, \n",
    "        columns=[\n",
    "            'Item', \n",
    "            *encoded_df.columns[3:], \n",
    "            'predicted_rating']\n",
    "    ).sort_values(by='predicted_rating', ascending=False)\n",
    "    return predicted_df"
   ]
  },
  {
   "cell_type": "markdown",
   "id": "c94c9938",
   "metadata": {},
   "source": [
    "## Recommendation Generation"
   ]
  },
  {
   "cell_type": "code",
   "execution_count": 18,
   "id": "ae4e77da",
   "metadata": {},
   "outputs": [],
   "source": [
    "def recommendation_generation(N, predicted_df):\n",
    "    # Select N items to be recommended\n",
    "    chosen = []\n",
    "\n",
    "    for data in predicted_df.iterrows():\n",
    "        data_tup = tuple(data[1])\n",
    "        \n",
    "        if len(chosen) <= N:\n",
    "            chosen.append(data_tup)\n",
    "\n",
    "    return chosen"
   ]
  },
  {
   "cell_type": "markdown",
   "id": "036d69a1",
   "metadata": {},
   "source": [
    "## Rating Prediction Translated Result"
   ]
  },
  {
   "cell_type": "code",
   "execution_count": 19,
   "id": "3c2a00c6",
   "metadata": {},
   "outputs": [],
   "source": [
    "def get_mapped_ratings_translated(inferred_ratings, context_T, user_item_context_reverse_encodings):\n",
    "    mapped_ratings = []\n",
    "    for i in inferred_ratings:\n",
    "        \n",
    "        # Get actual item encoding (from the cartesian product result)\n",
    "        item_context = context_T[i[0]]\n",
    "        \n",
    "        item = user_item_context_reverse_encodings[1][item_context[0]]\n",
    "        \n",
    "        new_entry = [item]\n",
    "        \n",
    "        # Translate remaining context\n",
    "        for j in range(1, len(item_context)):\n",
    "            # 1 --> item\n",
    "            # >= 2 --> context\n",
    "            translator = user_item_context_reverse_encodings[j+1]\n",
    "            new_entry.append(translator[item_context[j]])\n",
    "        \n",
    "        # Append the rating\n",
    "        new_entry.append(i[1]*maximum_rating)\n",
    "        \n",
    "        mapped_ratings.append(new_entry)\n",
    "    \n",
    "    return mapped_ratings"
   ]
  },
  {
   "cell_type": "code",
   "execution_count": 20,
   "id": "397316f1",
   "metadata": {},
   "outputs": [],
   "source": [
    "def get_result(mapped_ratings, encoded_df):   \n",
    "    res = pd.DataFrame(\n",
    "        mapped_ratings, \n",
    "        columns=[\n",
    "            'Item', \n",
    "            *encoded_df.columns[3:], \n",
    "            'predicted_rating']\n",
    "    ).sort_values(by='predicted_rating', ascending=False)\n",
    "    return res"
   ]
  },
  {
   "cell_type": "markdown",
   "id": "87f78128",
   "metadata": {},
   "source": [
    "## Dataset Merge"
   ]
  },
  {
   "cell_type": "code",
   "execution_count": 21,
   "id": "8d88230d",
   "metadata": {},
   "outputs": [],
   "source": [
    "witheld = pd.read_csv('witheld_ratings.csv')"
   ]
  },
  {
   "cell_type": "code",
   "execution_count": 22,
   "id": "64d5eca3",
   "metadata": {},
   "outputs": [
    {
     "data": {
      "text/html": [
       "<div>\n",
       "<style scoped>\n",
       "    .dataframe tbody tr th:only-of-type {\n",
       "        vertical-align: middle;\n",
       "    }\n",
       "\n",
       "    .dataframe tbody tr th {\n",
       "        vertical-align: top;\n",
       "    }\n",
       "\n",
       "    .dataframe thead th {\n",
       "        text-align: right;\n",
       "    }\n",
       "</style>\n",
       "<table border=\"1\" class=\"dataframe\">\n",
       "  <thead>\n",
       "    <tr style=\"text-align: right;\">\n",
       "      <th></th>\n",
       "      <th>userid</th>\n",
       "      <th>itemid</th>\n",
       "      <th>rating</th>\n",
       "      <th>Time</th>\n",
       "      <th>Location</th>\n",
       "      <th>Companion</th>\n",
       "    </tr>\n",
       "  </thead>\n",
       "  <tbody>\n",
       "    <tr>\n",
       "      <th>0</th>\n",
       "      <td>1066</td>\n",
       "      <td>tt4411490</td>\n",
       "      <td>1</td>\n",
       "      <td>Weekend</td>\n",
       "      <td>Cinema</td>\n",
       "      <td>Family</td>\n",
       "    </tr>\n",
       "    <tr>\n",
       "      <th>1</th>\n",
       "      <td>1066</td>\n",
       "      <td>tt1707386</td>\n",
       "      <td>2</td>\n",
       "      <td>Weekday</td>\n",
       "      <td>Home</td>\n",
       "      <td>Partner</td>\n",
       "    </tr>\n",
       "    <tr>\n",
       "      <th>2</th>\n",
       "      <td>1066</td>\n",
       "      <td>tt4411490</td>\n",
       "      <td>1</td>\n",
       "      <td>Weekday</td>\n",
       "      <td>Cinema</td>\n",
       "      <td>Family</td>\n",
       "    </tr>\n",
       "    <tr>\n",
       "      <th>3</th>\n",
       "      <td>1066</td>\n",
       "      <td>tt0232500</td>\n",
       "      <td>1</td>\n",
       "      <td>Weekday</td>\n",
       "      <td>Home</td>\n",
       "      <td>Partner</td>\n",
       "    </tr>\n",
       "    <tr>\n",
       "      <th>4</th>\n",
       "      <td>1066</td>\n",
       "      <td>tt1707386</td>\n",
       "      <td>1</td>\n",
       "      <td>Weekend</td>\n",
       "      <td>Cinema</td>\n",
       "      <td>Family</td>\n",
       "    </tr>\n",
       "    <tr>\n",
       "      <th>...</th>\n",
       "      <td>...</td>\n",
       "      <td>...</td>\n",
       "      <td>...</td>\n",
       "      <td>...</td>\n",
       "      <td>...</td>\n",
       "      <td>...</td>\n",
       "    </tr>\n",
       "    <tr>\n",
       "      <th>147</th>\n",
       "      <td>1098</td>\n",
       "      <td>tt0405422</td>\n",
       "      <td>3</td>\n",
       "      <td>Weekend</td>\n",
       "      <td>Cinema</td>\n",
       "      <td>Alone</td>\n",
       "    </tr>\n",
       "    <tr>\n",
       "      <th>148</th>\n",
       "      <td>1098</td>\n",
       "      <td>tt0211915</td>\n",
       "      <td>4</td>\n",
       "      <td>Weekend</td>\n",
       "      <td>Home</td>\n",
       "      <td>Family</td>\n",
       "    </tr>\n",
       "    <tr>\n",
       "      <th>149</th>\n",
       "      <td>1098</td>\n",
       "      <td>tt0169547</td>\n",
       "      <td>4</td>\n",
       "      <td>Weekend</td>\n",
       "      <td>Cinema</td>\n",
       "      <td>Alone</td>\n",
       "    </tr>\n",
       "    <tr>\n",
       "      <th>150</th>\n",
       "      <td>1098</td>\n",
       "      <td>tt0289879</td>\n",
       "      <td>1</td>\n",
       "      <td>Weekday</td>\n",
       "      <td>Home</td>\n",
       "      <td>Alone</td>\n",
       "    </tr>\n",
       "    <tr>\n",
       "      <th>151</th>\n",
       "      <td>1098</td>\n",
       "      <td>tt0111161</td>\n",
       "      <td>4</td>\n",
       "      <td>Weekend</td>\n",
       "      <td>Cinema</td>\n",
       "      <td>Alone</td>\n",
       "    </tr>\n",
       "  </tbody>\n",
       "</table>\n",
       "<p>152 rows × 6 columns</p>\n",
       "</div>"
      ],
      "text/plain": [
       "     userid     itemid  rating     Time Location Companion\n",
       "0      1066  tt4411490       1  Weekend   Cinema    Family\n",
       "1      1066  tt1707386       2  Weekday     Home   Partner\n",
       "2      1066  tt4411490       1  Weekday   Cinema    Family\n",
       "3      1066  tt0232500       1  Weekday     Home   Partner\n",
       "4      1066  tt1707386       1  Weekend   Cinema    Family\n",
       "..      ...        ...     ...      ...      ...       ...\n",
       "147    1098  tt0405422       3  Weekend   Cinema     Alone\n",
       "148    1098  tt0211915       4  Weekend     Home    Family\n",
       "149    1098  tt0169547       4  Weekend   Cinema     Alone\n",
       "150    1098  tt0289879       1  Weekday     Home     Alone\n",
       "151    1098  tt0111161       4  Weekend   Cinema     Alone\n",
       "\n",
       "[152 rows x 6 columns]"
      ]
     },
     "metadata": {},
     "output_type": "display_data"
    }
   ],
   "source": [
    "display(witheld)"
   ]
  },
  {
   "cell_type": "code",
   "execution_count": 23,
   "id": "cc05db97",
   "metadata": {},
   "outputs": [],
   "source": [
    "def merge_df(res, witheld, USER):\n",
    "    actual_ratings = []\n",
    "    for row in res.iterrows():\n",
    "        row_data = row[1]\n",
    "        actual = witheld[\n",
    "            (witheld['userid'] == USER) &\\\n",
    "            (witheld['itemid'] == row_data['Item']) &\\\n",
    "            (witheld['Time'] == row_data['Time']) &\\\n",
    "            (witheld['Location'] == row_data['Location']) &\n",
    "            (witheld['Companion'] == row_data['Companion'])\n",
    "        ]['rating']\n",
    "        \n",
    "        if(not actual.empty):\n",
    "            actual_ratings.append(tuple(actual)[0])\n",
    "            \n",
    "        else:\n",
    "            actual_ratings.append(np.nan)   \n",
    "    \n",
    "\n",
    "    return actual_ratings  "
   ]
  },
  {
   "cell_type": "code",
   "execution_count": 24,
   "id": "05655980",
   "metadata": {},
   "outputs": [
    {
     "name": "stdout",
     "output_type": "stream",
     "text": [
      "{1001: 0, 1002: 1, 1003: 2, 1004: 3, 1005: 4, 1006: 5, 1007: 6, 1008: 7, 1009: 8, 1011: 9, 1014: 10, 1015: 11, 1016: 12, 1018: 13, 1026: 14, 1027: 15, 1028: 16, 1029: 17, 1030: 18, 1031: 19, 1032: 20, 1033: 21, 1034: 22, 1035: 23, 1037: 24, 1038: 25, 1039: 26, 1040: 27, 1041: 28, 1042: 29, 1043: 30, 1044: 31, 1045: 32, 1046: 33, 1047: 34, 1048: 35, 1049: 36, 1050: 37, 1051: 38, 1052: 39, 1053: 40, 1054: 41, 1055: 42, 1056: 43, 1057: 44, 1058: 45, 1059: 46, 1060: 47, 1061: 48, 1062: 49, 1063: 50, 1064: 51, 1065: 52, 1066: 53, 1067: 54, 1068: 55, 1069: 56, 1070: 57, 1071: 58, 1074: 59, 1075: 60, 1076: 61, 1077: 62, 1078: 63, 1079: 64, 1082: 65, 1084: 66, 1087: 67, 1097: 68, 1098: 69, 1105: 70, 1107: 71, 1109: 72, 1112: 73, 1113: 74, 1114: 75, 1115: 76, 1116: 77, 1119: 78, 1120: 79, 1122: 80}\n"
     ]
    }
   ],
   "source": [
    "print(user_item_context_encodings[0])"
   ]
  },
  {
   "cell_type": "markdown",
   "id": "43f2b166",
   "metadata": {},
   "source": [
    "# Automated User (Sum of RMSE)"
   ]
  },
  {
   "cell_type": "code",
   "execution_count": 28,
   "id": "5ef6d39b",
   "metadata": {},
   "outputs": [],
   "source": [
    "from sklearn.metrics import mean_squared_error"
   ]
  },
  {
   "cell_type": "code",
   "execution_count": 53,
   "id": "55779640",
   "metadata": {},
   "outputs": [
    {
     "name": "stdout",
     "output_type": "stream",
     "text": [
      "actual users: 17\n",
      "1.2582894802499536\n"
     ]
    }
   ],
   "source": [
    "\n",
    "sum_rms = 0\n",
    "actual_users = 0\n",
    "\n",
    "for USER in user_item_context_encodings[0]:\n",
    "    N = 10\n",
    "    inferred_ratings, user_rated_items = item_KNN(USER, rating_matrix, user_item_context_encodings, M)\n",
    "\n",
    "    mapped_ratings = get_mapped_ratings_from_context(inferred_ratings, user_item_context_reverse_encodings, context_T)\n",
    "    predicted_df = get_predictions(mapped_ratings, encoded_df)\n",
    "\n",
    "    chosen = recommendation_generation(N, predicted_df)\n",
    "    \n",
    "    mapped_ratings = get_mapped_ratings_translated(inferred_ratings, context_T, user_item_context_reverse_encodings)\n",
    "    \n",
    "    res = get_result(mapped_ratings, encoded_df)\n",
    "    \n",
    "    actual_ratings = merge_df(res, witheld, USER)\n",
    "    \n",
    "    merged_result = res.copy()\n",
    "    merged_result['actual_rating'] = actual_ratings\n",
    "    merged_result[(merged_result['actual_rating'] != np.nan)]  \n",
    "    merged_result.dropna(inplace=True)\n",
    "\n",
    "\n",
    "    if len(merged_result) != 0:\n",
    "        actual_users += 1\n",
    "        rms = mean_squared_error(merged_result['actual_rating'], merged_result['predicted_rating'], squared=False)\n",
    "        sum_rms += rms\n",
    "\n",
    "\n",
    "print(\"actual users: \" + str(actual_users))\n",
    "print(sum_rms / actual_users)\n",
    "    \n"
   ]
  },
  {
   "cell_type": "markdown",
   "id": "1d61030e",
   "metadata": {},
   "source": [
    "# Automated User (Concatenate User DF)"
   ]
  },
  {
   "cell_type": "code",
   "execution_count": null,
   "id": "e57cfb92",
   "metadata": {},
   "outputs": [],
   "source": [
    "\n",
    "sum_rms = 0\n",
    "actual_users = 0\n",
    "\n",
    "combined_users = []\n",
    "\n",
    "for USER in user_item_context_encodings[0]:\n",
    "    N = 10\n",
    "    K_similar_users, wanted_user = rating_prediction(USER)\n",
    "    user_rated_items = get_rated_items(wanted_user)\n",
    "\n",
    "    inferred_ratings = KNN(user_rated_items, K_similar_users)\n",
    "    mapped_ratings = get_mapped_ratings_from_context(inferred_ratings, user_item_context_reverse_encodings, context_T)\n",
    "    predicted_df = get_predictions(mapped_ratings, encoded_df)\n",
    "\n",
    "    chosen = recommendation_generation(N, predicted_df)\n",
    "    \n",
    "    mapped_ratings = get_mapped_ratings_translated(inferred_ratings, context_T, user_item_context_reverse_encodings)\n",
    "    \n",
    "    res = get_result(mapped_ratings, encoded_df)\n",
    "    \n",
    "    actual_ratings = merge_df(res, witheld, USER)\n",
    "    \n",
    "    merged_result = res.copy()\n",
    "    merged_result['actual_rating'] = actual_ratings\n",
    "    merged_result[(merged_result['actual_rating'] != np.nan)]  \n",
    "    merged_result.dropna(inplace=True)\n",
    "\n",
    "    if len(merged_result) != 0:\n",
    "        combined_users.append(merged_result)\n",
    "\n",
    "\n",
    "df_final = pd.concat(combined_users)\n",
    "print(mean_squared_error(df_final['actual_rating'], df_final['predicted_rating'], squared=False))\n",
    "\n"
   ]
  }
 ],
 "metadata": {
  "interpreter": {
   "hash": "aee8b7b246df8f9039afb4144a1f6fd8d2ca17a180786b69acc140d282b71a49"
  },
  "kernelspec": {
   "display_name": "Python 3.9.7 64-bit",
   "language": "python",
   "name": "python3"
  },
  "language_info": {
   "codemirror_mode": {
    "name": "ipython",
    "version": 3
   },
   "file_extension": ".py",
   "mimetype": "text/x-python",
   "name": "python",
   "nbconvert_exporter": "python",
   "pygments_lexer": "ipython3",
   "version": "3.9.7"
  }
 },
 "nbformat": 4,
 "nbformat_minor": 5
}
