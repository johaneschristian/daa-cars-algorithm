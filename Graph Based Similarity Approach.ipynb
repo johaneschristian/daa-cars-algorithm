{
 "cells": [
  {
   "cell_type": "code",
   "execution_count": 263,
   "id": "d3d0a07d",
   "metadata": {},
   "outputs": [],
   "source": [
    "import numpy as np\n",
    "import pandas as pd\n",
    "from sklearn import preprocessing\n",
    "from itertools import product as cartesian_product"
   ]
  },
  {
   "cell_type": "markdown",
   "id": "3aa1de98",
   "metadata": {},
   "source": [
    "## Program Arguments"
   ]
  },
  {
   "cell_type": "code",
   "execution_count": 264,
   "id": "397a45a6",
   "metadata": {},
   "outputs": [],
   "source": [
    "LMAX = 6      # Maximum transitive path length\n",
    "USER = 1090   # User to check\n",
    "K = 5"
   ]
  },
  {
   "cell_type": "markdown",
   "id": "6dbffa6b",
   "metadata": {},
   "source": [
    "## Preprocessing"
   ]
  },
  {
   "cell_type": "code",
   "execution_count": 265,
   "id": "f75d7a10",
   "metadata": {
    "scrolled": true
   },
   "outputs": [
    {
     "data": {
      "text/html": [
       "<div>\n",
       "<style scoped>\n",
       "    .dataframe tbody tr th:only-of-type {\n",
       "        vertical-align: middle;\n",
       "    }\n",
       "\n",
       "    .dataframe tbody tr th {\n",
       "        vertical-align: top;\n",
       "    }\n",
       "\n",
       "    .dataframe thead th {\n",
       "        text-align: right;\n",
       "    }\n",
       "</style>\n",
       "<table border=\"1\" class=\"dataframe\">\n",
       "  <thead>\n",
       "    <tr style=\"text-align: right;\">\n",
       "      <th></th>\n",
       "      <th>userid</th>\n",
       "      <th>itemid</th>\n",
       "      <th>rating</th>\n",
       "      <th>Time</th>\n",
       "      <th>Location</th>\n",
       "      <th>Companion</th>\n",
       "    </tr>\n",
       "  </thead>\n",
       "  <tbody>\n",
       "    <tr>\n",
       "      <th>5038</th>\n",
       "      <td>1082</td>\n",
       "      <td>tt0413267</td>\n",
       "      <td>1</td>\n",
       "      <td>Weekend</td>\n",
       "      <td>Home</td>\n",
       "      <td>Partner</td>\n",
       "    </tr>\n",
       "    <tr>\n",
       "      <th>5039</th>\n",
       "      <td>1082</td>\n",
       "      <td>tt1637706</td>\n",
       "      <td>2</td>\n",
       "      <td>Weekend</td>\n",
       "      <td>Home</td>\n",
       "      <td>Partner</td>\n",
       "    </tr>\n",
       "    <tr>\n",
       "      <th>5040</th>\n",
       "      <td>1082</td>\n",
       "      <td>tt0343660</td>\n",
       "      <td>1</td>\n",
       "      <td>Weekend</td>\n",
       "      <td>Home</td>\n",
       "      <td>Partner</td>\n",
       "    </tr>\n",
       "    <tr>\n",
       "      <th>5041</th>\n",
       "      <td>1082</td>\n",
       "      <td>tt1133985</td>\n",
       "      <td>1</td>\n",
       "      <td>Weekend</td>\n",
       "      <td>Home</td>\n",
       "      <td>Partner</td>\n",
       "    </tr>\n",
       "    <tr>\n",
       "      <th>5042</th>\n",
       "      <td>1082</td>\n",
       "      <td>tt1099212</td>\n",
       "      <td>1</td>\n",
       "      <td>Weekend</td>\n",
       "      <td>Home</td>\n",
       "      <td>Partner</td>\n",
       "    </tr>\n",
       "  </tbody>\n",
       "</table>\n",
       "</div>"
      ],
      "text/plain": [
       "      userid     itemid  rating     Time Location Companion\n",
       "5038    1082  tt0413267       1  Weekend     Home   Partner\n",
       "5039    1082  tt1637706       2  Weekend     Home   Partner\n",
       "5040    1082  tt0343660       1  Weekend     Home   Partner\n",
       "5041    1082  tt1133985       1  Weekend     Home   Partner\n",
       "5042    1082  tt1099212       1  Weekend     Home   Partner"
      ]
     },
     "execution_count": 265,
     "metadata": {},
     "output_type": "execute_result"
    }
   ],
   "source": [
    "df = pd.read_csv('ratings.csv')\n",
    "df.tail(5)"
   ]
  },
  {
   "cell_type": "code",
   "execution_count": 266,
   "id": "85bb7c3f",
   "metadata": {},
   "outputs": [],
   "source": [
    "encoder = preprocessing.LabelEncoder()\n",
    "\n",
    "user_item_context_encodings = []\n",
    "maximum_rating = df[df.columns[2]].max()\n",
    "\n",
    "encoded_df = df.copy()\n",
    "# Encode userid, itemid, and contextual informations for item splitting\n",
    "for column_index in range(len(df.columns)):\n",
    "    \n",
    "    # Column attribute is not rating\n",
    "    if column_index != 2:\n",
    "        \n",
    "        # Fit encoder\n",
    "        encoder.fit(df[df.columns[column_index]])\n",
    "        encoded_df[df.columns[column_index]] = encoder.transform(\n",
    "                df[df.columns[column_index]]\n",
    "            )\n",
    "    \n",
    "    # Column is nor user or rating\n",
    "    if column_index != 2:\n",
    "            user_item_context_encodings.append(\n",
    "                dict(zip(encoder.classes_, encoder.transform(encoder.classes_)))\n",
    "            )"
   ]
  },
  {
   "cell_type": "code",
   "execution_count": 267,
   "id": "c818c8b0",
   "metadata": {},
   "outputs": [
    {
     "data": {
      "text/html": [
       "<div>\n",
       "<style scoped>\n",
       "    .dataframe tbody tr th:only-of-type {\n",
       "        vertical-align: middle;\n",
       "    }\n",
       "\n",
       "    .dataframe tbody tr th {\n",
       "        vertical-align: top;\n",
       "    }\n",
       "\n",
       "    .dataframe thead th {\n",
       "        text-align: right;\n",
       "    }\n",
       "</style>\n",
       "<table border=\"1\" class=\"dataframe\">\n",
       "  <thead>\n",
       "    <tr style=\"text-align: right;\">\n",
       "      <th></th>\n",
       "      <th>userid</th>\n",
       "      <th>itemid</th>\n",
       "      <th>rating</th>\n",
       "      <th>Time</th>\n",
       "      <th>Location</th>\n",
       "      <th>Companion</th>\n",
       "    </tr>\n",
       "  </thead>\n",
       "  <tbody>\n",
       "    <tr>\n",
       "      <th>0</th>\n",
       "      <td>96</td>\n",
       "      <td>58</td>\n",
       "      <td>2</td>\n",
       "      <td>2</td>\n",
       "      <td>2</td>\n",
       "      <td>3</td>\n",
       "    </tr>\n",
       "    <tr>\n",
       "      <th>1</th>\n",
       "      <td>96</td>\n",
       "      <td>33</td>\n",
       "      <td>4</td>\n",
       "      <td>2</td>\n",
       "      <td>2</td>\n",
       "      <td>3</td>\n",
       "    </tr>\n",
       "    <tr>\n",
       "      <th>2</th>\n",
       "      <td>96</td>\n",
       "      <td>1</td>\n",
       "      <td>5</td>\n",
       "      <td>2</td>\n",
       "      <td>2</td>\n",
       "      <td>3</td>\n",
       "    </tr>\n",
       "    <tr>\n",
       "      <th>3</th>\n",
       "      <td>96</td>\n",
       "      <td>0</td>\n",
       "      <td>3</td>\n",
       "      <td>2</td>\n",
       "      <td>2</td>\n",
       "      <td>3</td>\n",
       "    </tr>\n",
       "    <tr>\n",
       "      <th>4</th>\n",
       "      <td>96</td>\n",
       "      <td>10</td>\n",
       "      <td>3</td>\n",
       "      <td>2</td>\n",
       "      <td>2</td>\n",
       "      <td>3</td>\n",
       "    </tr>\n",
       "    <tr>\n",
       "      <th>...</th>\n",
       "      <td>...</td>\n",
       "      <td>...</td>\n",
       "      <td>...</td>\n",
       "      <td>...</td>\n",
       "      <td>...</td>\n",
       "      <td>...</td>\n",
       "    </tr>\n",
       "    <tr>\n",
       "      <th>5038</th>\n",
       "      <td>70</td>\n",
       "      <td>35</td>\n",
       "      <td>1</td>\n",
       "      <td>1</td>\n",
       "      <td>1</td>\n",
       "      <td>2</td>\n",
       "    </tr>\n",
       "    <tr>\n",
       "      <th>5039</th>\n",
       "      <td>70</td>\n",
       "      <td>62</td>\n",
       "      <td>2</td>\n",
       "      <td>1</td>\n",
       "      <td>1</td>\n",
       "      <td>2</td>\n",
       "    </tr>\n",
       "    <tr>\n",
       "      <th>5040</th>\n",
       "      <td>70</td>\n",
       "      <td>25</td>\n",
       "      <td>1</td>\n",
       "      <td>1</td>\n",
       "      <td>1</td>\n",
       "      <td>2</td>\n",
       "    </tr>\n",
       "    <tr>\n",
       "      <th>5041</th>\n",
       "      <td>70</td>\n",
       "      <td>50</td>\n",
       "      <td>1</td>\n",
       "      <td>1</td>\n",
       "      <td>1</td>\n",
       "      <td>2</td>\n",
       "    </tr>\n",
       "    <tr>\n",
       "      <th>5042</th>\n",
       "      <td>70</td>\n",
       "      <td>49</td>\n",
       "      <td>1</td>\n",
       "      <td>1</td>\n",
       "      <td>1</td>\n",
       "      <td>2</td>\n",
       "    </tr>\n",
       "  </tbody>\n",
       "</table>\n",
       "<p>5043 rows × 6 columns</p>\n",
       "</div>"
      ],
      "text/plain": [
       "      userid  itemid  rating  Time  Location  Companion\n",
       "0         96      58       2     2         2          3\n",
       "1         96      33       4     2         2          3\n",
       "2         96       1       5     2         2          3\n",
       "3         96       0       3     2         2          3\n",
       "4         96      10       3     2         2          3\n",
       "...      ...     ...     ...   ...       ...        ...\n",
       "5038      70      35       1     1         1          2\n",
       "5039      70      62       2     1         1          2\n",
       "5040      70      25       1     1         1          2\n",
       "5041      70      50       1     1         1          2\n",
       "5042      70      49       1     1         1          2\n",
       "\n",
       "[5043 rows x 6 columns]"
      ]
     },
     "metadata": {},
     "output_type": "display_data"
    }
   ],
   "source": [
    "display(encoded_df)"
   ]
  },
  {
   "cell_type": "markdown",
   "id": "6c8576f3",
   "metadata": {},
   "source": [
    "## Item Splitting"
   ]
  },
  {
   "cell_type": "code",
   "execution_count": 268,
   "id": "803d76c9",
   "metadata": {},
   "outputs": [],
   "source": [
    "# Cartesian product all items and contexts\n",
    "\n",
    "users = user_item_context_encodings[0].values()\n",
    "items = user_item_context_encodings[1].values()\n",
    "contexts = [\n",
    "    context_trans.values() for context_trans in user_item_context_encodings[2:]\n",
    "]\n",
    "\n",
    "context_T = list(cartesian_product(items, *contexts))"
   ]
  },
  {
   "cell_type": "code",
   "execution_count": 269,
   "id": "ecf1b906",
   "metadata": {},
   "outputs": [],
   "source": [
    "# Generate new user-item matrix for new items\n",
    "rating_matrix = np.zeros((len(users), len(context_T)), dtype=object)"
   ]
  },
  {
   "cell_type": "code",
   "execution_count": 270,
   "id": "be62969a",
   "metadata": {
    "scrolled": true
   },
   "outputs": [],
   "source": [
    "for row in encoded_df.iterrows():\n",
    "    data = tuple(row[1])\n",
    "    user = data[0]\n",
    "    item = data[1]\n",
    "    rating = data[2]\n",
    "    context_item = (item, *data[3:])\n",
    "    \n",
    "    index = context_T.index(context_item)\n",
    "    \n",
    "    rating_matrix[user][index] = rating/maximum_rating"
   ]
  },
  {
   "cell_type": "code",
   "execution_count": 271,
   "id": "50e7438f",
   "metadata": {},
   "outputs": [
    {
     "data": {
      "text/plain": [
       "array([[0, 0, 0, ..., 0, 0, 0],\n",
       "       [0, 0, 0, ..., 0, 0, 0],\n",
       "       [0.2, 0, 0, ..., 0, 0, 0],\n",
       "       ...,\n",
       "       [1.0, 0.8, 1.0, ..., 0, 0, 0],\n",
       "       [0, 0, 0, ..., 0, 0, 0],\n",
       "       [0, 0, 0, ..., 0, 0, 0]], dtype=object)"
      ]
     },
     "metadata": {},
     "output_type": "display_data"
    }
   ],
   "source": [
    "display(rating_matrix)"
   ]
  },
  {
   "cell_type": "markdown",
   "id": "fd2b386f",
   "metadata": {},
   "source": [
    "## Graph Similarity Calculation (User-Based)"
   ]
  },
  {
   "cell_type": "code",
   "execution_count": 272,
   "id": "aa35800b",
   "metadata": {},
   "outputs": [],
   "source": [
    "rating_matrix_transposed = np.transpose(rating_matrix)"
   ]
  },
  {
   "cell_type": "code",
   "execution_count": 273,
   "id": "4facd211",
   "metadata": {},
   "outputs": [],
   "source": [
    "L = 2\n",
    "\n",
    "WWT = np.matmul(rating_matrix, rating_matrix_transposed)\n",
    "M = np.matmul(rating_matrix, rating_matrix_transposed)\n",
    "\n",
    "while L != LMAX:\n",
    "    M = np.matmul(WWT, M)\n",
    "    L = L + 2"
   ]
  },
  {
   "cell_type": "code",
   "execution_count": 274,
   "id": "d983214a",
   "metadata": {},
   "outputs": [
    {
     "data": {
      "text/plain": [
       "array([[319887.94342400023, 310866.42374400015, 228599.42560000002, ...,\n",
       "        500325.6400640003, 156418.95948800008, 115412.14131200004],\n",
       "       [310866.42374399997, 326760.6565120002, 232016.7691520001, ...,\n",
       "        492466.1069439999, 157922.43334399996, 116548.61279999999],\n",
       "       [228599.42560000013, 232016.769152, 173603.19462399997, ...,\n",
       "        376846.6775680003, 119292.55020800003, 84620.83385600001],\n",
       "       ...,\n",
       "       [500325.640064, 492466.106944, 376846.6775680002, ...,\n",
       "        897376.6468479999, 258292.61318400013, 184038.68224000005],\n",
       "       [156418.95948800008, 157922.43334400008, 119292.55020800002, ...,\n",
       "        258292.61318400007, 93437.86163200001, 56122.17920000002],\n",
       "       [115412.14131200004, 116548.6128, 84620.83385599998, ...,\n",
       "        184038.68224, 56122.17920000002, 43899.90822400003]], dtype=object)"
      ]
     },
     "metadata": {},
     "output_type": "display_data"
    }
   ],
   "source": [
    "display(M)"
   ]
  },
  {
   "cell_type": "markdown",
   "id": "589d86f8",
   "metadata": {},
   "source": [
    "## Recommendation Generation"
   ]
  },
  {
   "cell_type": "code",
   "execution_count": 276,
   "id": "eb11f409",
   "metadata": {},
   "outputs": [
    {
     "data": {
      "text/plain": [
       "array([70128.83097600003, 68965.61766400002, 51260.10764800003,\n",
       "       164223.62630400006, 109443.39372799998, 136824.82566399997,\n",
       "       34750.930816, 101064.268928, 38599.988032, 73166.71251200003,\n",
       "       82744.65094400001, 147764.15366400007, 95158.81676800005,\n",
       "       21435.279680000007, 52766.02700800001, 84522.87513600003,\n",
       "       59682.64998400002, 29112.688704000007, 49961.371327999994,\n",
       "       76732.46003200003, 41715.96, 135189.39897600008, 38882.99590400002,\n",
       "       43335.654143999986, 220575.8040320001, 223988.30943999998,\n",
       "       113409.55334400001, 71951.871936, 66938.70483200003,\n",
       "       49886.17401600001, 47180.644991999994, 67247.57036799997,\n",
       "       59070.50246400002, 116605.64441600005, 165441.61516800002,\n",
       "       119461.27878400002, 89918.83865599998, 57346.099520000025,\n",
       "       29373.870528000014, 112393.06656000005, 34587.861376,\n",
       "       92542.65887999999, 154814.516736, 137268.89068800004,\n",
       "       140766.834432, 166928.465984, 68315.69171200001, 65747.86982400001,\n",
       "       58563.37664000001, 39824.724352, 275139.868352, 43392.798464,\n",
       "       63734.61875200001, 73552.87718400001, 175871.38976000008,\n",
       "       38497.93407999999, 45700.52889600002, 65619.38662400002,\n",
       "       45991.568128000006, 44208.136256000005, 84390.14905600001,\n",
       "       168748.51872000002, 111315.360768, 161571.97216000006,\n",
       "       47370.28377600001, 56225.60992, 147399.364544, 109083.35302400004,\n",
       "       128917.765376, 145853.484352, 361909.8520960002,\n",
       "       54277.197120000004, 168180.79148800002, 23880.58176, 16826.626368,\n",
       "       45240.53491199999, 93503.210304, 25556.797824000016,\n",
       "       138724.07897600005, 220559.86726400006, 34621.208576000005,\n",
       "       76454.98944000002, 34099.98380800001, 41699.16064, 55490.38528,\n",
       "       59832.249728000024, 20169.917568, 71985.93017600002,\n",
       "       69801.17766400002, 52761.499200000006, 102062.94796800004,\n",
       "       210132.63884800012, 55543.28339200001, 81866.64339200001,\n",
       "       115778.854464, 36560.77203200001, 25340.212800000012], dtype=object)"
      ]
     },
     "execution_count": 276,
     "metadata": {},
     "output_type": "execute_result"
    }
   ],
   "source": [
    "wanted_user = user_item_context_encodings[0][USER]\n",
    "\n",
    "M[wanted_user]"
   ]
  },
  {
   "cell_type": "code",
   "execution_count": null,
   "id": "ee5b5ff8",
   "metadata": {},
   "outputs": [],
   "source": []
  }
 ],
 "metadata": {
  "kernelspec": {
   "display_name": "Python 3 (ipykernel)",
   "language": "python",
   "name": "python3"
  },
  "language_info": {
   "codemirror_mode": {
    "name": "ipython",
    "version": 3
   },
   "file_extension": ".py",
   "mimetype": "text/x-python",
   "name": "python",
   "nbconvert_exporter": "python",
   "pygments_lexer": "ipython3",
   "version": "3.9.12"
  }
 },
 "nbformat": 4,
 "nbformat_minor": 5
}
