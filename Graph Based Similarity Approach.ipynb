{
 "cells": [
  {
   "cell_type": "markdown",
   "id": "53833cc7",
   "metadata": {},
   "source": [
    "# Context-Aware Recommendation Algorithm by PAPERDAA-2"
   ]
  },
  {
   "cell_type": "code",
   "execution_count": 32,
   "id": "84e73941",
   "metadata": {},
   "outputs": [],
   "source": [
    "import numpy as np\n",
    "import pandas as pd\n",
    "from sklearn import preprocessing\n",
    "from itertools import product as cartesian_product"
   ]
  },
  {
   "cell_type": "markdown",
   "id": "1ff7bae3",
   "metadata": {},
   "source": [
    "# Training"
   ]
  },
  {
   "cell_type": "markdown",
   "id": "7d8858c5",
   "metadata": {},
   "source": [
    "## Program Arguments"
   ]
  },
  {
   "cell_type": "code",
   "execution_count": 33,
   "id": "af501bd7",
   "metadata": {},
   "outputs": [],
   "source": [
    "LMAX = 6      # Maximum transitive path length\n",
    "K = 2"
   ]
  },
  {
   "cell_type": "markdown",
   "id": "d663b8a1",
   "metadata": {},
   "source": [
    "## Preprocessing"
   ]
  },
  {
   "cell_type": "code",
   "execution_count": 34,
   "id": "6baf61de",
   "metadata": {
    "scrolled": true
   },
   "outputs": [
    {
     "data": {
      "text/html": [
       "<div>\n",
       "<style scoped>\n",
       "    .dataframe tbody tr th:only-of-type {\n",
       "        vertical-align: middle;\n",
       "    }\n",
       "\n",
       "    .dataframe tbody tr th {\n",
       "        vertical-align: top;\n",
       "    }\n",
       "\n",
       "    .dataframe thead th {\n",
       "        text-align: right;\n",
       "    }\n",
       "</style>\n",
       "<table border=\"1\" class=\"dataframe\">\n",
       "  <thead>\n",
       "    <tr style=\"text-align: right;\">\n",
       "      <th></th>\n",
       "      <th>userid</th>\n",
       "      <th>itemid</th>\n",
       "      <th>rating</th>\n",
       "      <th>Time</th>\n",
       "      <th>Location</th>\n",
       "      <th>Companion</th>\n",
       "    </tr>\n",
       "  </thead>\n",
       "  <tbody>\n",
       "    <tr>\n",
       "      <th>5038</th>\n",
       "      <td>1082</td>\n",
       "      <td>tt0413267</td>\n",
       "      <td>1</td>\n",
       "      <td>Weekend</td>\n",
       "      <td>Home</td>\n",
       "      <td>Partner</td>\n",
       "    </tr>\n",
       "    <tr>\n",
       "      <th>5039</th>\n",
       "      <td>1082</td>\n",
       "      <td>tt1637706</td>\n",
       "      <td>2</td>\n",
       "      <td>Weekend</td>\n",
       "      <td>Home</td>\n",
       "      <td>Partner</td>\n",
       "    </tr>\n",
       "    <tr>\n",
       "      <th>5040</th>\n",
       "      <td>1082</td>\n",
       "      <td>tt0343660</td>\n",
       "      <td>1</td>\n",
       "      <td>Weekend</td>\n",
       "      <td>Home</td>\n",
       "      <td>Partner</td>\n",
       "    </tr>\n",
       "    <tr>\n",
       "      <th>5041</th>\n",
       "      <td>1082</td>\n",
       "      <td>tt1133985</td>\n",
       "      <td>1</td>\n",
       "      <td>Weekend</td>\n",
       "      <td>Home</td>\n",
       "      <td>Partner</td>\n",
       "    </tr>\n",
       "    <tr>\n",
       "      <th>5042</th>\n",
       "      <td>1082</td>\n",
       "      <td>tt1099212</td>\n",
       "      <td>1</td>\n",
       "      <td>Weekend</td>\n",
       "      <td>Home</td>\n",
       "      <td>Partner</td>\n",
       "    </tr>\n",
       "  </tbody>\n",
       "</table>\n",
       "</div>"
      ],
      "text/plain": [
       "      userid     itemid  rating     Time Location Companion\n",
       "5038    1082  tt0413267       1  Weekend     Home   Partner\n",
       "5039    1082  tt1637706       2  Weekend     Home   Partner\n",
       "5040    1082  tt0343660       1  Weekend     Home   Partner\n",
       "5041    1082  tt1133985       1  Weekend     Home   Partner\n",
       "5042    1082  tt1099212       1  Weekend     Home   Partner"
      ]
     },
     "execution_count": 34,
     "metadata": {},
     "output_type": "execute_result"
    }
   ],
   "source": [
    "df = pd.read_csv('ratings.txt')\n",
    "df.tail(5)"
   ]
  },
  {
   "cell_type": "code",
   "execution_count": 35,
   "id": "d91056a7",
   "metadata": {},
   "outputs": [],
   "source": [
    "encoder = preprocessing.LabelEncoder()\n",
    "\n",
    "user_item_context_encodings = []\n",
    "user_item_context_reverse_encodings = []\n",
    "maximum_rating = df[df.columns[2]].max()\n",
    "\n",
    "encoded_df = df.copy()\n",
    "# Encode userid, itemid, and contextual informations for item splitting\n",
    "for column_index in range(len(df.columns)):\n",
    "    \n",
    "    # Column attribute is not rating\n",
    "    if column_index != 2:\n",
    "        \n",
    "        # Fit encoder\n",
    "        encoder.fit(df[df.columns[column_index]])\n",
    "        encoded_df[df.columns[column_index]] = encoder.transform(\n",
    "                df[df.columns[column_index]]\n",
    "            )\n",
    "    \n",
    "    # Column is nor user or rating\n",
    "    if column_index != 2:\n",
    "            user_item_context_encodings.append(\n",
    "                dict(zip(encoder.classes_, encoder.transform(encoder.classes_)))\n",
    "            )\n",
    "            user_item_context_reverse_encodings.append(\n",
    "                dict(zip(encoder.transform(encoder.classes_), encoder.classes_))\n",
    "            )"
   ]
  },
  {
   "cell_type": "code",
   "execution_count": 36,
   "id": "26a86eb1",
   "metadata": {},
   "outputs": [
    {
     "data": {
      "text/html": [
       "<div>\n",
       "<style scoped>\n",
       "    .dataframe tbody tr th:only-of-type {\n",
       "        vertical-align: middle;\n",
       "    }\n",
       "\n",
       "    .dataframe tbody tr th {\n",
       "        vertical-align: top;\n",
       "    }\n",
       "\n",
       "    .dataframe thead th {\n",
       "        text-align: right;\n",
       "    }\n",
       "</style>\n",
       "<table border=\"1\" class=\"dataframe\">\n",
       "  <thead>\n",
       "    <tr style=\"text-align: right;\">\n",
       "      <th></th>\n",
       "      <th>userid</th>\n",
       "      <th>itemid</th>\n",
       "      <th>rating</th>\n",
       "      <th>Time</th>\n",
       "      <th>Location</th>\n",
       "      <th>Companion</th>\n",
       "    </tr>\n",
       "  </thead>\n",
       "  <tbody>\n",
       "    <tr>\n",
       "      <th>0</th>\n",
       "      <td>96</td>\n",
       "      <td>58</td>\n",
       "      <td>2</td>\n",
       "      <td>2</td>\n",
       "      <td>2</td>\n",
       "      <td>3</td>\n",
       "    </tr>\n",
       "    <tr>\n",
       "      <th>1</th>\n",
       "      <td>96</td>\n",
       "      <td>33</td>\n",
       "      <td>4</td>\n",
       "      <td>2</td>\n",
       "      <td>2</td>\n",
       "      <td>3</td>\n",
       "    </tr>\n",
       "    <tr>\n",
       "      <th>2</th>\n",
       "      <td>96</td>\n",
       "      <td>1</td>\n",
       "      <td>5</td>\n",
       "      <td>2</td>\n",
       "      <td>2</td>\n",
       "      <td>3</td>\n",
       "    </tr>\n",
       "    <tr>\n",
       "      <th>3</th>\n",
       "      <td>96</td>\n",
       "      <td>0</td>\n",
       "      <td>3</td>\n",
       "      <td>2</td>\n",
       "      <td>2</td>\n",
       "      <td>3</td>\n",
       "    </tr>\n",
       "    <tr>\n",
       "      <th>4</th>\n",
       "      <td>96</td>\n",
       "      <td>10</td>\n",
       "      <td>3</td>\n",
       "      <td>2</td>\n",
       "      <td>2</td>\n",
       "      <td>3</td>\n",
       "    </tr>\n",
       "    <tr>\n",
       "      <th>...</th>\n",
       "      <td>...</td>\n",
       "      <td>...</td>\n",
       "      <td>...</td>\n",
       "      <td>...</td>\n",
       "      <td>...</td>\n",
       "      <td>...</td>\n",
       "    </tr>\n",
       "    <tr>\n",
       "      <th>5038</th>\n",
       "      <td>70</td>\n",
       "      <td>35</td>\n",
       "      <td>1</td>\n",
       "      <td>1</td>\n",
       "      <td>1</td>\n",
       "      <td>2</td>\n",
       "    </tr>\n",
       "    <tr>\n",
       "      <th>5039</th>\n",
       "      <td>70</td>\n",
       "      <td>62</td>\n",
       "      <td>2</td>\n",
       "      <td>1</td>\n",
       "      <td>1</td>\n",
       "      <td>2</td>\n",
       "    </tr>\n",
       "    <tr>\n",
       "      <th>5040</th>\n",
       "      <td>70</td>\n",
       "      <td>25</td>\n",
       "      <td>1</td>\n",
       "      <td>1</td>\n",
       "      <td>1</td>\n",
       "      <td>2</td>\n",
       "    </tr>\n",
       "    <tr>\n",
       "      <th>5041</th>\n",
       "      <td>70</td>\n",
       "      <td>50</td>\n",
       "      <td>1</td>\n",
       "      <td>1</td>\n",
       "      <td>1</td>\n",
       "      <td>2</td>\n",
       "    </tr>\n",
       "    <tr>\n",
       "      <th>5042</th>\n",
       "      <td>70</td>\n",
       "      <td>49</td>\n",
       "      <td>1</td>\n",
       "      <td>1</td>\n",
       "      <td>1</td>\n",
       "      <td>2</td>\n",
       "    </tr>\n",
       "  </tbody>\n",
       "</table>\n",
       "<p>5043 rows × 6 columns</p>\n",
       "</div>"
      ],
      "text/plain": [
       "      userid  itemid  rating  Time  Location  Companion\n",
       "0         96      58       2     2         2          3\n",
       "1         96      33       4     2         2          3\n",
       "2         96       1       5     2         2          3\n",
       "3         96       0       3     2         2          3\n",
       "4         96      10       3     2         2          3\n",
       "...      ...     ...     ...   ...       ...        ...\n",
       "5038      70      35       1     1         1          2\n",
       "5039      70      62       2     1         1          2\n",
       "5040      70      25       1     1         1          2\n",
       "5041      70      50       1     1         1          2\n",
       "5042      70      49       1     1         1          2\n",
       "\n",
       "[5043 rows x 6 columns]"
      ]
     },
     "metadata": {},
     "output_type": "display_data"
    }
   ],
   "source": [
    "display(encoded_df)"
   ]
  },
  {
   "cell_type": "markdown",
   "id": "4f44d5fe",
   "metadata": {},
   "source": [
    "## Item Splitting"
   ]
  },
  {
   "cell_type": "code",
   "execution_count": 37,
   "id": "367e3034",
   "metadata": {},
   "outputs": [],
   "source": [
    "# Cartesian product all items and contexts\n",
    "\n",
    "users = user_item_context_encodings[0].values()\n",
    "items = user_item_context_encodings[1].values()\n",
    "contexts = [\n",
    "    context_trans.values() for context_trans in user_item_context_encodings[2:]\n",
    "]\n",
    "\n",
    "context_T = list(cartesian_product(items, *contexts))"
   ]
  },
  {
   "cell_type": "code",
   "execution_count": 38,
   "id": "25a18d77",
   "metadata": {},
   "outputs": [],
   "source": [
    "# Generate new user-item matrix for new items\n",
    "rating_matrix = np.zeros((len(users), len(context_T)), dtype=object)"
   ]
  },
  {
   "cell_type": "code",
   "execution_count": 39,
   "id": "85a120f7",
   "metadata": {
    "scrolled": true
   },
   "outputs": [],
   "source": [
    "for row in encoded_df.iterrows():\n",
    "    data = tuple(row[1])\n",
    "    user = data[0]\n",
    "    item = data[1]\n",
    "    rating = data[2]\n",
    "    context_item = (item, *data[3:])\n",
    "    \n",
    "    index = context_T.index(context_item)\n",
    "    \n",
    "    rating_matrix[user][index] = rating/maximum_rating"
   ]
  },
  {
   "cell_type": "code",
   "execution_count": 40,
   "id": "9518c4cf",
   "metadata": {},
   "outputs": [
    {
     "data": {
      "text/plain": [
       "array([[0, 0, 0, ..., 0, 0, 0],\n",
       "       [0, 0, 0, ..., 0, 0, 0],\n",
       "       [0.2, 0, 0, ..., 0, 0, 0],\n",
       "       ...,\n",
       "       [1.0, 0.8, 1.0, ..., 0, 0, 0],\n",
       "       [0, 0, 0, ..., 0, 0, 0],\n",
       "       [0, 0, 0, ..., 0, 0, 0]], dtype=object)"
      ]
     },
     "metadata": {},
     "output_type": "display_data"
    }
   ],
   "source": [
    "display(rating_matrix)"
   ]
  },
  {
   "cell_type": "markdown",
   "id": "e11a9967",
   "metadata": {},
   "source": [
    "## Graph Similarity Calculation (User-Based)"
   ]
  },
  {
   "cell_type": "code",
   "execution_count": 41,
   "id": "a2efb160",
   "metadata": {},
   "outputs": [],
   "source": [
    "rating_matrix_transposed = np.transpose(rating_matrix)"
   ]
  },
  {
   "cell_type": "code",
   "execution_count": 42,
   "id": "30c841d5",
   "metadata": {},
   "outputs": [],
   "source": [
    "L = 2\n",
    "\n",
    "WWT = np.matmul(rating_matrix, rating_matrix_transposed)\n",
    "M = np.matmul(rating_matrix, rating_matrix_transposed)\n",
    "\n",
    "while L != LMAX:\n",
    "    M = np.matmul(WWT, M)\n",
    "    L = L + 2"
   ]
  },
  {
   "cell_type": "code",
   "execution_count": 43,
   "id": "c17f8e87",
   "metadata": {},
   "outputs": [
    {
     "data": {
      "text/plain": [
       "array([[319887.94342400023, 310866.42374400015, 228599.42560000002, ...,\n",
       "        500325.6400640003, 156418.95948800008, 115412.14131200004],\n",
       "       [310866.42374399997, 326760.6565120002, 232016.7691520001, ...,\n",
       "        492466.1069439999, 157922.43334399996, 116548.61279999999],\n",
       "       [228599.42560000013, 232016.769152, 173603.19462399997, ...,\n",
       "        376846.6775680003, 119292.55020800003, 84620.83385600001],\n",
       "       ...,\n",
       "       [500325.640064, 492466.106944, 376846.6775680002, ...,\n",
       "        897376.6468479999, 258292.61318400013, 184038.68224000005],\n",
       "       [156418.95948800008, 157922.43334400008, 119292.55020800002, ...,\n",
       "        258292.61318400007, 93437.86163200001, 56122.17920000002],\n",
       "       [115412.14131200004, 116548.6128, 84620.83385599998, ...,\n",
       "        184038.68224, 56122.17920000002, 43899.90822400003]], dtype=object)"
      ]
     },
     "metadata": {},
     "output_type": "display_data"
    }
   ],
   "source": [
    "display(M)"
   ]
  },
  {
   "cell_type": "markdown",
   "id": "17fc56ae",
   "metadata": {},
   "source": [
    "# Prediction"
   ]
  },
  {
   "cell_type": "code",
   "execution_count": 44,
   "id": "a54b82fc",
   "metadata": {},
   "outputs": [],
   "source": [
    "USER = 1090   # User to check\n",
    "CONTEXT = ('Weekend', 'Home', 'Partner')\n",
    "N = 10"
   ]
  },
  {
   "cell_type": "code",
   "execution_count": 45,
   "id": "e1cf1e08",
   "metadata": {},
   "outputs": [
    {
     "data": {
      "text/plain": [
       "(1, 1, 2)"
      ]
     },
     "metadata": {},
     "output_type": "display_data"
    }
   ],
   "source": [
    "# Context translation\n",
    "translated_context = []\n",
    "\n",
    "for cnt_index in range(len(CONTEXT)):\n",
    "    # 0 --> User\n",
    "    # 1 --> Item\n",
    "    # >= 2 --> context\n",
    "    map_index = cnt_index + 2\n",
    "    translation_table = user_item_context_encodings[map_index]\n",
    "    \n",
    "    translated_context.append(translation_table[CONTEXT[cnt_index]])\n",
    "\n",
    "translated_context = tuple(translated_context)\n",
    "display(translated_context)"
   ]
  },
  {
   "cell_type": "markdown",
   "id": "1cd6ffbb",
   "metadata": {},
   "source": [
    "## Ratings Prediction"
   ]
  },
  {
   "cell_type": "code",
   "execution_count": 46,
   "id": "3423ee0a",
   "metadata": {},
   "outputs": [],
   "source": [
    "# Get K most similar users\n",
    "wanted_user = user_item_context_encodings[0][USER]\n",
    "\n",
    "scores = M[wanted_user]\n",
    "K_similar_users = np.argpartition(scores, -(K+1))[-(K+1):]\n",
    "\n",
    "if wanted_user in K_similar_users:\n",
    "    K_similar_users = K_similar_users[K_similar_users != wanted_user]\n",
    "else:\n",
    "    K_similar_users = K_similar_users[:-1]"
   ]
  },
  {
   "cell_type": "markdown",
   "id": "5ea9689e",
   "metadata": {},
   "source": [
    "### Get list of rated items"
   ]
  },
  {
   "cell_type": "code",
   "execution_count": 47,
   "id": "e1e80732",
   "metadata": {},
   "outputs": [],
   "source": [
    "inferred_ratings = []\n",
    "user_rated_items = rating_matrix[wanted_user]"
   ]
  },
  {
   "cell_type": "markdown",
   "id": "dcabbfc3",
   "metadata": {},
   "source": [
    "### KNN"
   ]
  },
  {
   "cell_type": "code",
   "execution_count": 48,
   "id": "787573da",
   "metadata": {},
   "outputs": [],
   "source": [
    "for item in range(len(user_rated_items)):\n",
    "    rating = user_rated_items[item]\n",
    "    \n",
    "    # Item has not been rated\n",
    "    if rating == 0:\n",
    "        rating_sum = 0\n",
    "        neighbor_count = 0\n",
    "        \n",
    "        for neighbor in K_similar_users:\n",
    "            neighbor_rating = rating_matrix[neighbor][item]\n",
    "            \n",
    "            # If neighbor has rated the item\n",
    "            if neighbor_rating != 0:\n",
    "                rating_sum += neighbor_rating\n",
    "                neighbor_count += 1\n",
    "            \n",
    "        inferred_rating = rating_sum / neighbor_count if neighbor_count != 0 else 0\n",
    "        \n",
    "        if inferred_rating != 0:\n",
    "            inferred_ratings.append((item, inferred_rating))"
   ]
  },
  {
   "cell_type": "code",
   "execution_count": 49,
   "id": "ddfd8290",
   "metadata": {},
   "outputs": [],
   "source": [
    "mapped_ratings = []\n",
    "for i in inferred_ratings:\n",
    "    \n",
    "    # Get actual item encoding (from the cartesian product result)\n",
    "    item_context = context_T[i[0]]\n",
    "    \n",
    "    item = user_item_context_reverse_encodings[1][item_context[0]]\n",
    "    \n",
    "    new_entry = [item]\n",
    "    \n",
    "    for j in range(1, len(item_context)):\n",
    "        new_entry.append(item_context[j])\n",
    "    \n",
    "    new_entry.append(i[1])\n",
    "    \n",
    "    mapped_ratings.append(new_entry)"
   ]
  },
  {
   "cell_type": "code",
   "execution_count": 50,
   "id": "d1241102",
   "metadata": {},
   "outputs": [
    {
     "data": {
      "text/html": [
       "<div>\n",
       "<style scoped>\n",
       "    .dataframe tbody tr th:only-of-type {\n",
       "        vertical-align: middle;\n",
       "    }\n",
       "\n",
       "    .dataframe tbody tr th {\n",
       "        vertical-align: top;\n",
       "    }\n",
       "\n",
       "    .dataframe thead th {\n",
       "        text-align: right;\n",
       "    }\n",
       "</style>\n",
       "<table border=\"1\" class=\"dataframe\">\n",
       "  <thead>\n",
       "    <tr style=\"text-align: right;\">\n",
       "      <th></th>\n",
       "      <th>Item</th>\n",
       "      <th>Time</th>\n",
       "      <th>Location</th>\n",
       "      <th>Companion</th>\n",
       "      <th>predicted_rating</th>\n",
       "    </tr>\n",
       "  </thead>\n",
       "  <tbody>\n",
       "    <tr>\n",
       "      <th>203</th>\n",
       "      <td>tt1375666</td>\n",
       "      <td>1</td>\n",
       "      <td>0</td>\n",
       "      <td>2</td>\n",
       "      <td>1.0</td>\n",
       "    </tr>\n",
       "    <tr>\n",
       "      <th>63</th>\n",
       "      <td>tt0266543</td>\n",
       "      <td>1</td>\n",
       "      <td>0</td>\n",
       "      <td>1</td>\n",
       "      <td>1.0</td>\n",
       "    </tr>\n",
       "    <tr>\n",
       "      <th>58</th>\n",
       "      <td>tt0213149</td>\n",
       "      <td>1</td>\n",
       "      <td>0</td>\n",
       "      <td>2</td>\n",
       "      <td>1.0</td>\n",
       "    </tr>\n",
       "    <tr>\n",
       "      <th>92</th>\n",
       "      <td>tt0343660</td>\n",
       "      <td>1</td>\n",
       "      <td>0</td>\n",
       "      <td>0</td>\n",
       "      <td>1.0</td>\n",
       "    </tr>\n",
       "    <tr>\n",
       "      <th>115</th>\n",
       "      <td>tt0378194</td>\n",
       "      <td>1</td>\n",
       "      <td>0</td>\n",
       "      <td>2</td>\n",
       "      <td>1.0</td>\n",
       "    </tr>\n",
       "    <tr>\n",
       "      <th>...</th>\n",
       "      <td>...</td>\n",
       "      <td>...</td>\n",
       "      <td>...</td>\n",
       "      <td>...</td>\n",
       "      <td>...</td>\n",
       "    </tr>\n",
       "    <tr>\n",
       "      <th>74</th>\n",
       "      <td>tt0289879</td>\n",
       "      <td>1</td>\n",
       "      <td>0</td>\n",
       "      <td>1</td>\n",
       "      <td>0.2</td>\n",
       "    </tr>\n",
       "    <tr>\n",
       "      <th>216</th>\n",
       "      <td>tt1499658</td>\n",
       "      <td>1</td>\n",
       "      <td>0</td>\n",
       "      <td>1</td>\n",
       "      <td>0.2</td>\n",
       "    </tr>\n",
       "    <tr>\n",
       "      <th>30</th>\n",
       "      <td>tt0120338</td>\n",
       "      <td>2</td>\n",
       "      <td>2</td>\n",
       "      <td>3</td>\n",
       "      <td>0.2</td>\n",
       "    </tr>\n",
       "    <tr>\n",
       "      <th>29</th>\n",
       "      <td>tt0120338</td>\n",
       "      <td>1</td>\n",
       "      <td>0</td>\n",
       "      <td>0</td>\n",
       "      <td>0.2</td>\n",
       "    </tr>\n",
       "    <tr>\n",
       "      <th>134</th>\n",
       "      <td>tt0405422</td>\n",
       "      <td>0</td>\n",
       "      <td>1</td>\n",
       "      <td>1</td>\n",
       "      <td>0.2</td>\n",
       "    </tr>\n",
       "  </tbody>\n",
       "</table>\n",
       "<p>269 rows × 5 columns</p>\n",
       "</div>"
      ],
      "text/plain": [
       "          Item  Time  Location  Companion  predicted_rating\n",
       "203  tt1375666     1         0          2               1.0\n",
       "63   tt0266543     1         0          1               1.0\n",
       "58   tt0213149     1         0          2               1.0\n",
       "92   tt0343660     1         0          0               1.0\n",
       "115  tt0378194     1         0          2               1.0\n",
       "..         ...   ...       ...        ...               ...\n",
       "74   tt0289879     1         0          1               0.2\n",
       "216  tt1499658     1         0          1               0.2\n",
       "30   tt0120338     2         2          3               0.2\n",
       "29   tt0120338     1         0          0               0.2\n",
       "134  tt0405422     0         1          1               0.2\n",
       "\n",
       "[269 rows x 5 columns]"
      ]
     },
     "metadata": {},
     "output_type": "display_data"
    }
   ],
   "source": [
    "predicted_df = pd.DataFrame(\n",
    "    mapped_ratings, \n",
    "    columns=[\n",
    "        'Item', \n",
    "        *encoded_df.columns[3:], \n",
    "        'predicted_rating']\n",
    ").sort_values(by='predicted_rating', ascending=False)\n",
    "display(predicted_df)"
   ]
  },
  {
   "cell_type": "markdown",
   "id": "c94c9938",
   "metadata": {},
   "source": [
    "## Recommendation Generation"
   ]
  },
  {
   "cell_type": "code",
   "execution_count": 51,
   "id": "ae4e77da",
   "metadata": {},
   "outputs": [
    {
     "name": "stdout",
     "output_type": "stream",
     "text": [
      "('tt1478338', 1, 1, 2)\n",
      "('tt0266543', 1, 1, 2)\n",
      "('tt0993846', 1, 1, 2)\n",
      "('tt1232829', 1, 1, 2)\n",
      "('tt0268380', 1, 1, 2)\n",
      "('tt0327084', 1, 1, 2)\n",
      "('tt3793764', 1, 1, 2)\n",
      "('tt4411490', 1, 1, 2)\n",
      "('tt2096673', 1, 1, 2)\n",
      "('tt1707386', 1, 1, 2)\n",
      "('tt0356910', 1, 1, 2)\n"
     ]
    }
   ],
   "source": [
    "# Select N items to be recommended\n",
    "chosen = []\n",
    "\n",
    "for data in predicted_df.iterrows():\n",
    "    data_tup = tuple(data[1])\n",
    "    \n",
    "    if tuple(data[1][1:-1]) == translated_context:\n",
    "        \n",
    "        if len(chosen) <= N:\n",
    "            chosen.append(data_tup)\n",
    "\n",
    "for i in chosen:\n",
    "    print(i[:-1])"
   ]
  },
  {
   "cell_type": "markdown",
   "id": "036d69a1",
   "metadata": {},
   "source": [
    "## Rating Prediction Translated Result"
   ]
  },
  {
   "cell_type": "code",
   "execution_count": 52,
   "id": "3c2a00c6",
   "metadata": {},
   "outputs": [],
   "source": [
    "mapped_ratings = []\n",
    "for i in inferred_ratings:\n",
    "    \n",
    "    # Get actual item encoding (from the cartesian product result)\n",
    "    item_context = context_T[i[0]]\n",
    "    \n",
    "    item = user_item_context_reverse_encodings[1][item_context[0]]\n",
    "    \n",
    "    new_entry = [item]\n",
    "    \n",
    "    # Translate remaining context\n",
    "    for j in range(1, len(item_context)):\n",
    "        # 1 --> item\n",
    "        # >= 2 --> context\n",
    "        translator = user_item_context_reverse_encodings[j+1]\n",
    "        new_entry.append(translator[item_context[j]])\n",
    "    \n",
    "    new_entry.append(i[1])\n",
    "    \n",
    "    mapped_ratings.append(new_entry)"
   ]
  },
  {
   "cell_type": "code",
   "execution_count": 53,
   "id": "397316f1",
   "metadata": {},
   "outputs": [
    {
     "data": {
      "text/html": [
       "<div>\n",
       "<style scoped>\n",
       "    .dataframe tbody tr th:only-of-type {\n",
       "        vertical-align: middle;\n",
       "    }\n",
       "\n",
       "    .dataframe tbody tr th {\n",
       "        vertical-align: top;\n",
       "    }\n",
       "\n",
       "    .dataframe thead th {\n",
       "        text-align: right;\n",
       "    }\n",
       "</style>\n",
       "<table border=\"1\" class=\"dataframe\">\n",
       "  <thead>\n",
       "    <tr style=\"text-align: right;\">\n",
       "      <th></th>\n",
       "      <th>Item</th>\n",
       "      <th>Time</th>\n",
       "      <th>Location</th>\n",
       "      <th>Companion</th>\n",
       "      <th>predicted_rating</th>\n",
       "    </tr>\n",
       "  </thead>\n",
       "  <tbody>\n",
       "    <tr>\n",
       "      <th>203</th>\n",
       "      <td>tt1375666</td>\n",
       "      <td>Weekend</td>\n",
       "      <td>Cinema</td>\n",
       "      <td>Partner</td>\n",
       "      <td>1.0</td>\n",
       "    </tr>\n",
       "    <tr>\n",
       "      <th>63</th>\n",
       "      <td>tt0266543</td>\n",
       "      <td>Weekend</td>\n",
       "      <td>Cinema</td>\n",
       "      <td>Family</td>\n",
       "      <td>1.0</td>\n",
       "    </tr>\n",
       "    <tr>\n",
       "      <th>58</th>\n",
       "      <td>tt0213149</td>\n",
       "      <td>Weekend</td>\n",
       "      <td>Cinema</td>\n",
       "      <td>Partner</td>\n",
       "      <td>1.0</td>\n",
       "    </tr>\n",
       "    <tr>\n",
       "      <th>92</th>\n",
       "      <td>tt0343660</td>\n",
       "      <td>Weekend</td>\n",
       "      <td>Cinema</td>\n",
       "      <td>Alone</td>\n",
       "      <td>1.0</td>\n",
       "    </tr>\n",
       "    <tr>\n",
       "      <th>115</th>\n",
       "      <td>tt0378194</td>\n",
       "      <td>Weekend</td>\n",
       "      <td>Cinema</td>\n",
       "      <td>Partner</td>\n",
       "      <td>1.0</td>\n",
       "    </tr>\n",
       "    <tr>\n",
       "      <th>...</th>\n",
       "      <td>...</td>\n",
       "      <td>...</td>\n",
       "      <td>...</td>\n",
       "      <td>...</td>\n",
       "      <td>...</td>\n",
       "    </tr>\n",
       "    <tr>\n",
       "      <th>74</th>\n",
       "      <td>tt0289879</td>\n",
       "      <td>Weekend</td>\n",
       "      <td>Cinema</td>\n",
       "      <td>Family</td>\n",
       "      <td>0.2</td>\n",
       "    </tr>\n",
       "    <tr>\n",
       "      <th>216</th>\n",
       "      <td>tt1499658</td>\n",
       "      <td>Weekend</td>\n",
       "      <td>Cinema</td>\n",
       "      <td>Family</td>\n",
       "      <td>0.2</td>\n",
       "    </tr>\n",
       "    <tr>\n",
       "      <th>30</th>\n",
       "      <td>tt0120338</td>\n",
       "      <td>NaN</td>\n",
       "      <td>NaN</td>\n",
       "      <td>NaN</td>\n",
       "      <td>0.2</td>\n",
       "    </tr>\n",
       "    <tr>\n",
       "      <th>29</th>\n",
       "      <td>tt0120338</td>\n",
       "      <td>Weekend</td>\n",
       "      <td>Cinema</td>\n",
       "      <td>Alone</td>\n",
       "      <td>0.2</td>\n",
       "    </tr>\n",
       "    <tr>\n",
       "      <th>134</th>\n",
       "      <td>tt0405422</td>\n",
       "      <td>Weekday</td>\n",
       "      <td>Home</td>\n",
       "      <td>Family</td>\n",
       "      <td>0.2</td>\n",
       "    </tr>\n",
       "  </tbody>\n",
       "</table>\n",
       "<p>269 rows × 5 columns</p>\n",
       "</div>"
      ],
      "text/plain": [
       "          Item     Time Location Companion  predicted_rating\n",
       "203  tt1375666  Weekend   Cinema   Partner               1.0\n",
       "63   tt0266543  Weekend   Cinema    Family               1.0\n",
       "58   tt0213149  Weekend   Cinema   Partner               1.0\n",
       "92   tt0343660  Weekend   Cinema     Alone               1.0\n",
       "115  tt0378194  Weekend   Cinema   Partner               1.0\n",
       "..         ...      ...      ...       ...               ...\n",
       "74   tt0289879  Weekend   Cinema    Family               0.2\n",
       "216  tt1499658  Weekend   Cinema    Family               0.2\n",
       "30   tt0120338      NaN      NaN       NaN               0.2\n",
       "29   tt0120338  Weekend   Cinema     Alone               0.2\n",
       "134  tt0405422  Weekday     Home    Family               0.2\n",
       "\n",
       "[269 rows x 5 columns]"
      ]
     },
     "execution_count": 53,
     "metadata": {},
     "output_type": "execute_result"
    }
   ],
   "source": [
    "pd.DataFrame(\n",
    "    mapped_ratings, \n",
    "    columns=[\n",
    "        'Item', \n",
    "        *encoded_df.columns[3:], \n",
    "        'predicted_rating']\n",
    ").sort_values(by='predicted_rating', ascending=False)"
   ]
  }
 ],
 "metadata": {
  "interpreter": {
   "hash": "aee8b7b246df8f9039afb4144a1f6fd8d2ca17a180786b69acc140d282b71a49"
  },
  "kernelspec": {
   "display_name": "Python 3.9.7 64-bit",
   "language": "python",
   "name": "python3"
  },
  "language_info": {
   "codemirror_mode": {
    "name": "ipython",
    "version": 3
   },
   "file_extension": ".py",
   "mimetype": "text/x-python",
   "name": "python",
   "nbconvert_exporter": "python",
   "pygments_lexer": "ipython3",
   "version": "3.9.7"
  }
 },
 "nbformat": 4,
 "nbformat_minor": 5
}
