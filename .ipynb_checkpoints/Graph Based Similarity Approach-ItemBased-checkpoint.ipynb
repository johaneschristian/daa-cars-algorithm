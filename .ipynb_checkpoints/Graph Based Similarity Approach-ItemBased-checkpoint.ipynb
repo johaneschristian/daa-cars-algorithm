{
 "cells": [
  {
   "cell_type": "markdown",
   "id": "53833cc7",
   "metadata": {},
   "source": [
    "# Context-Aware Recommendation Algorithm by PAPERDAA-2"
   ]
  },
  {
   "cell_type": "code",
   "execution_count": 2,
   "id": "84e73941",
   "metadata": {},
   "outputs": [],
   "source": [
    "import numpy as np\n",
    "import pandas as pd\n",
    "import math\n",
    "from sklearn import preprocessing\n",
    "from itertools import product as cartesian_product"
   ]
  },
  {
   "cell_type": "markdown",
   "id": "1ff7bae3",
   "metadata": {},
   "source": [
    "# Training"
   ]
  },
  {
   "cell_type": "markdown",
   "id": "7d8858c5",
   "metadata": {},
   "source": [
    "## Program Arguments"
   ]
  },
  {
   "cell_type": "code",
   "execution_count": 3,
   "id": "af501bd7",
   "metadata": {},
   "outputs": [],
   "source": [
    "LMAX = 2    # Maximum transitive path length\n",
    "K = 50       # Nearest neighbors"
   ]
  },
  {
   "cell_type": "markdown",
   "id": "d663b8a1",
   "metadata": {},
   "source": [
    "## Preprocessing"
   ]
  },
  {
   "cell_type": "code",
   "execution_count": 4,
   "id": "6baf61de",
   "metadata": {
    "scrolled": true
   },
   "outputs": [
    {
     "data": {
      "text/html": [
       "<div>\n",
       "<style scoped>\n",
       "    .dataframe tbody tr th:only-of-type {\n",
       "        vertical-align: middle;\n",
       "    }\n",
       "\n",
       "    .dataframe tbody tr th {\n",
       "        vertical-align: top;\n",
       "    }\n",
       "\n",
       "    .dataframe thead th {\n",
       "        text-align: right;\n",
       "    }\n",
       "</style>\n",
       "<table border=\"1\" class=\"dataframe\">\n",
       "  <thead>\n",
       "    <tr style=\"text-align: right;\">\n",
       "      <th></th>\n",
       "      <th>userid</th>\n",
       "      <th>itemid</th>\n",
       "      <th>rating</th>\n",
       "      <th>Time</th>\n",
       "      <th>Location</th>\n",
       "      <th>Companion</th>\n",
       "    </tr>\n",
       "  </thead>\n",
       "  <tbody>\n",
       "    <tr>\n",
       "      <th>3280</th>\n",
       "      <td>1082</td>\n",
       "      <td>tt0413267</td>\n",
       "      <td>1</td>\n",
       "      <td>Weekend</td>\n",
       "      <td>Home</td>\n",
       "      <td>Partner</td>\n",
       "    </tr>\n",
       "    <tr>\n",
       "      <th>3281</th>\n",
       "      <td>1082</td>\n",
       "      <td>tt1637706</td>\n",
       "      <td>2</td>\n",
       "      <td>Weekend</td>\n",
       "      <td>Home</td>\n",
       "      <td>Partner</td>\n",
       "    </tr>\n",
       "    <tr>\n",
       "      <th>3282</th>\n",
       "      <td>1082</td>\n",
       "      <td>tt0343660</td>\n",
       "      <td>1</td>\n",
       "      <td>Weekend</td>\n",
       "      <td>Home</td>\n",
       "      <td>Partner</td>\n",
       "    </tr>\n",
       "    <tr>\n",
       "      <th>3283</th>\n",
       "      <td>1082</td>\n",
       "      <td>tt1133985</td>\n",
       "      <td>1</td>\n",
       "      <td>Weekend</td>\n",
       "      <td>Home</td>\n",
       "      <td>Partner</td>\n",
       "    </tr>\n",
       "    <tr>\n",
       "      <th>3284</th>\n",
       "      <td>1082</td>\n",
       "      <td>tt1099212</td>\n",
       "      <td>1</td>\n",
       "      <td>Weekend</td>\n",
       "      <td>Home</td>\n",
       "      <td>Partner</td>\n",
       "    </tr>\n",
       "  </tbody>\n",
       "</table>\n",
       "</div>"
      ],
      "text/plain": [
       "      userid     itemid  rating     Time Location Companion\n",
       "3280    1082  tt0413267       1  Weekend     Home   Partner\n",
       "3281    1082  tt1637706       2  Weekend     Home   Partner\n",
       "3282    1082  tt0343660       1  Weekend     Home   Partner\n",
       "3283    1082  tt1133985       1  Weekend     Home   Partner\n",
       "3284    1082  tt1099212       1  Weekend     Home   Partner"
      ]
     },
     "execution_count": 4,
     "metadata": {},
     "output_type": "execute_result"
    }
   ],
   "source": [
    "df = pd.read_csv('training_dataset.csv')\n",
    "\n",
    "df.tail(5)"
   ]
  },
  {
   "cell_type": "code",
   "execution_count": 5,
   "id": "d91056a7",
   "metadata": {},
   "outputs": [],
   "source": [
    "encoder = preprocessing.LabelEncoder()\n",
    "\n",
    "user_item_context_encodings = []\n",
    "user_item_context_reverse_encodings = []\n",
    "maximum_rating = df[df.columns[2]].max()\n",
    "\n",
    "encoded_df = df.copy()\n",
    "# Encode userid, itemid, and contextual informations for item splitting\n",
    "for column_index in range(len(df.columns)):\n",
    "    \n",
    "    # Column attribute is not rating\n",
    "    if column_index != 2:\n",
    "        \n",
    "        # Fit encoder\n",
    "        encoder.fit(df[df.columns[column_index]])\n",
    "        encoded_df[df.columns[column_index]] = encoder.transform(\n",
    "                df[df.columns[column_index]]\n",
    "            )\n",
    "    \n",
    "    # Column is nor user or rating\n",
    "    if column_index != 2:\n",
    "            user_item_context_encodings.append(\n",
    "                dict(zip(encoder.classes_, encoder.transform(encoder.classes_)))\n",
    "            )\n",
    "            user_item_context_reverse_encodings.append(\n",
    "                dict(zip(encoder.transform(encoder.classes_), encoder.classes_))\n",
    "            )"
   ]
  },
  {
   "cell_type": "code",
   "execution_count": 6,
   "id": "26a86eb1",
   "metadata": {},
   "outputs": [
    {
     "data": {
      "text/html": [
       "<div>\n",
       "<style scoped>\n",
       "    .dataframe tbody tr th:only-of-type {\n",
       "        vertical-align: middle;\n",
       "    }\n",
       "\n",
       "    .dataframe tbody tr th {\n",
       "        vertical-align: top;\n",
       "    }\n",
       "\n",
       "    .dataframe thead th {\n",
       "        text-align: right;\n",
       "    }\n",
       "</style>\n",
       "<table border=\"1\" class=\"dataframe\">\n",
       "  <thead>\n",
       "    <tr style=\"text-align: right;\">\n",
       "      <th></th>\n",
       "      <th>userid</th>\n",
       "      <th>itemid</th>\n",
       "      <th>rating</th>\n",
       "      <th>Time</th>\n",
       "      <th>Location</th>\n",
       "      <th>Companion</th>\n",
       "    </tr>\n",
       "  </thead>\n",
       "  <tbody>\n",
       "    <tr>\n",
       "      <th>0</th>\n",
       "      <td>2</td>\n",
       "      <td>38</td>\n",
       "      <td>1</td>\n",
       "      <td>0</td>\n",
       "      <td>0</td>\n",
       "      <td>0</td>\n",
       "    </tr>\n",
       "    <tr>\n",
       "      <th>1</th>\n",
       "      <td>2</td>\n",
       "      <td>8</td>\n",
       "      <td>1</td>\n",
       "      <td>0</td>\n",
       "      <td>0</td>\n",
       "      <td>0</td>\n",
       "    </tr>\n",
       "    <tr>\n",
       "      <th>2</th>\n",
       "      <td>2</td>\n",
       "      <td>74</td>\n",
       "      <td>1</td>\n",
       "      <td>0</td>\n",
       "      <td>0</td>\n",
       "      <td>0</td>\n",
       "    </tr>\n",
       "    <tr>\n",
       "      <th>3</th>\n",
       "      <td>2</td>\n",
       "      <td>5</td>\n",
       "      <td>1</td>\n",
       "      <td>0</td>\n",
       "      <td>0</td>\n",
       "      <td>0</td>\n",
       "    </tr>\n",
       "    <tr>\n",
       "      <th>4</th>\n",
       "      <td>2</td>\n",
       "      <td>2</td>\n",
       "      <td>1</td>\n",
       "      <td>0</td>\n",
       "      <td>0</td>\n",
       "      <td>0</td>\n",
       "    </tr>\n",
       "    <tr>\n",
       "      <th>...</th>\n",
       "      <td>...</td>\n",
       "      <td>...</td>\n",
       "      <td>...</td>\n",
       "      <td>...</td>\n",
       "      <td>...</td>\n",
       "      <td>...</td>\n",
       "    </tr>\n",
       "    <tr>\n",
       "      <th>3280</th>\n",
       "      <td>65</td>\n",
       "      <td>35</td>\n",
       "      <td>1</td>\n",
       "      <td>1</td>\n",
       "      <td>1</td>\n",
       "      <td>2</td>\n",
       "    </tr>\n",
       "    <tr>\n",
       "      <th>3281</th>\n",
       "      <td>65</td>\n",
       "      <td>62</td>\n",
       "      <td>2</td>\n",
       "      <td>1</td>\n",
       "      <td>1</td>\n",
       "      <td>2</td>\n",
       "    </tr>\n",
       "    <tr>\n",
       "      <th>3282</th>\n",
       "      <td>65</td>\n",
       "      <td>25</td>\n",
       "      <td>1</td>\n",
       "      <td>1</td>\n",
       "      <td>1</td>\n",
       "      <td>2</td>\n",
       "    </tr>\n",
       "    <tr>\n",
       "      <th>3283</th>\n",
       "      <td>65</td>\n",
       "      <td>50</td>\n",
       "      <td>1</td>\n",
       "      <td>1</td>\n",
       "      <td>1</td>\n",
       "      <td>2</td>\n",
       "    </tr>\n",
       "    <tr>\n",
       "      <th>3284</th>\n",
       "      <td>65</td>\n",
       "      <td>49</td>\n",
       "      <td>1</td>\n",
       "      <td>1</td>\n",
       "      <td>1</td>\n",
       "      <td>2</td>\n",
       "    </tr>\n",
       "  </tbody>\n",
       "</table>\n",
       "<p>3285 rows × 6 columns</p>\n",
       "</div>"
      ],
      "text/plain": [
       "      userid  itemid  rating  Time  Location  Companion\n",
       "0          2      38       1     0         0          0\n",
       "1          2       8       1     0         0          0\n",
       "2          2      74       1     0         0          0\n",
       "3          2       5       1     0         0          0\n",
       "4          2       2       1     0         0          0\n",
       "...      ...     ...     ...   ...       ...        ...\n",
       "3280      65      35       1     1         1          2\n",
       "3281      65      62       2     1         1          2\n",
       "3282      65      25       1     1         1          2\n",
       "3283      65      50       1     1         1          2\n",
       "3284      65      49       1     1         1          2\n",
       "\n",
       "[3285 rows x 6 columns]"
      ]
     },
     "metadata": {},
     "output_type": "display_data"
    }
   ],
   "source": [
    "display(encoded_df)"
   ]
  },
  {
   "cell_type": "markdown",
   "id": "4f44d5fe",
   "metadata": {},
   "source": [
    "## Item Splitting"
   ]
  },
  {
   "cell_type": "code",
   "execution_count": 7,
   "id": "367e3034",
   "metadata": {},
   "outputs": [],
   "source": [
    "# Cartesian product all items and contexts\n",
    "\n",
    "users = user_item_context_encodings[0].values()\n",
    "items = user_item_context_encodings[1].values()\n",
    "contexts = [\n",
    "    context_trans.values() for context_trans in user_item_context_encodings[2:]\n",
    "]\n",
    "\n",
    "context_T = list(cartesian_product(items, *contexts))"
   ]
  },
  {
   "cell_type": "code",
   "execution_count": 8,
   "id": "25a18d77",
   "metadata": {},
   "outputs": [],
   "source": [
    "# Generate new user-item matrix for new items\n",
    "rating_matrix = np.zeros((len(users), len(context_T)), dtype=object)"
   ]
  },
  {
   "cell_type": "code",
   "execution_count": 9,
   "id": "85a120f7",
   "metadata": {
    "scrolled": true
   },
   "outputs": [],
   "source": [
    "for row in encoded_df.iterrows():\n",
    "    data = tuple(row[1])\n",
    "    user = data[0]\n",
    "    item = data[1]\n",
    "    rating = data[2]\n",
    "    context_item = (item, *data[3:])\n",
    "    \n",
    "    index = context_T.index(context_item)\n",
    "    \n",
    "    rating_matrix[user][index] = int(rating)/int(maximum_rating)"
   ]
  },
  {
   "cell_type": "code",
   "execution_count": 10,
   "id": "9518c4cf",
   "metadata": {},
   "outputs": [
    {
     "data": {
      "text/plain": [
       "array([[0, 0, 0, ..., 0, 0, 0],\n",
       "       [0, 0, 0, ..., 0, 0, 0],\n",
       "       [0.2, 0, 0, ..., 0, 0, 0],\n",
       "       ...,\n",
       "       [0, 0, 0, ..., 0, 0, 0],\n",
       "       [1.0, 0.8, 1.0, ..., 0, 0, 0],\n",
       "       [0, 0, 0, ..., 0, 0, 0]], dtype=object)"
      ]
     },
     "metadata": {},
     "output_type": "display_data"
    }
   ],
   "source": [
    "display(rating_matrix)"
   ]
  },
  {
   "cell_type": "markdown",
   "id": "e11a9967",
   "metadata": {},
   "source": [
    "## Graph Similarity Calculation (Item-Based)"
   ]
  },
  {
   "cell_type": "code",
   "execution_count": 11,
   "id": "a2efb160",
   "metadata": {},
   "outputs": [],
   "source": [
    "rating_matrix_transposed = np.transpose(rating_matrix)"
   ]
  },
  {
   "cell_type": "code",
   "execution_count": 12,
   "id": "30c841d5",
   "metadata": {},
   "outputs": [],
   "source": [
    "L = 2\n",
    "\n",
    "WTW = np.matmul(rating_matrix_transposed, rating_matrix)\n",
    "M = np.matmul(rating_matrix_transposed, rating_matrix)\n",
    "\n",
    "while L != LMAX:\n",
    "    M = np.matmul(WTW, M)\n",
    "    L = L + 2"
   ]
  },
  {
   "cell_type": "code",
   "execution_count": 13,
   "id": "c17f8e87",
   "metadata": {},
   "outputs": [
    {
     "data": {
      "text/plain": [
       "array([[2.8, 0.8, 1.3599999999999999, ..., 0.0, 0.4, 0.0],\n",
       "       [0.8, 3.3200000000000003, 0.8, ..., 0.0, 0.0, 0.16000000000000003],\n",
       "       [1.3599999999999999, 0.8, 3.0, ..., 0.0, 0.0, 0.0],\n",
       "       ...,\n",
       "       [0.0, 0.0, 0.0, ..., 1.0, 0.0, 0.0],\n",
       "       [0.4, 0.0, 0.0, ..., 0.0, 2.16, 0.0],\n",
       "       [0.0, 0.16000000000000003, 0.0, ..., 0.0, 0.0, 2.68]], dtype=object)"
      ]
     },
     "metadata": {},
     "output_type": "display_data"
    }
   ],
   "source": [
    "display(M)"
   ]
  },
  {
   "cell_type": "markdown",
   "id": "17fc56ae",
   "metadata": {},
   "source": [
    "# Prediction"
   ]
  },
  {
   "cell_type": "code",
   "execution_count": null,
   "id": "a54b82fc",
   "metadata": {},
   "outputs": [],
   "source": [
    "USER = 1058   # User to check\n",
    "N = 10"
   ]
  },
  {
   "cell_type": "markdown",
   "id": "1cd6ffbb",
   "metadata": {},
   "source": [
    "## Ratings Prediction"
   ]
  },
  {
   "cell_type": "markdown",
   "id": "5ea9689e",
   "metadata": {},
   "source": [
    "### Get list of rated items"
   ]
  },
  {
   "cell_type": "code",
   "execution_count": null,
   "id": "e1e80732",
   "metadata": {},
   "outputs": [],
   "source": [
    "inferred_ratings = []\n",
    "user_rated_items = rating_matrix[wanted_user]"
   ]
  },
  {
   "cell_type": "code",
   "execution_count": null,
   "id": "2dbbf20b",
   "metadata": {},
   "outputs": [],
   "source": [
    "def find_item_neighbor(user, item, rating_matrix, similarity_matrix):\n",
    "    items_similarity = similarity_matrix[item]\n",
    "    \n",
    "    user_rated_items = rating_matrix[user]\n",
    "    rated_item_indexes = []\n",
    "    \n",
    "    for item_index in range(len(user_rated_items)):\n",
    "        \n",
    "        # User has rated the item\n",
    "        if user_rated_items[item_index] != 0:\n",
    "            rated_item_indexes.append(item_index)\n",
    "    \n",
    "    \n",
    "    \n",
    "        "
   ]
  },
  {
   "cell_type": "markdown",
   "id": "dcabbfc3",
   "metadata": {},
   "source": [
    "### Item-KNN"
   ]
  },
  {
   "cell_type": "code",
   "execution_count": null,
   "id": "787573da",
   "metadata": {},
   "outputs": [],
   "source": [
    "for item in range(len(user_rated_items)):\n",
    "    rating = user_rated_items[item]\n",
    "    \n",
    "    # Item has not been rated\n",
    "    if rating == 0:\n",
    "        rating_sum = 0\n",
    "        neighbor_count = 0\n",
    "        \n",
    "        # Find k nearest item neighbors\n",
    "        \n",
    "        \n",
    "        for item_neighbor in K_similar_users:\n",
    "            neighbor_rating = rating_matrix[neighbor][item]\n",
    "            \n",
    "            # If neighbor has rated the item\n",
    "            if neighbor_rating != 0:\n",
    "                rating_sum += neighbor_rating\n",
    "                neighbor_count += 1\n",
    "            \n",
    "        inferred_rating = rating_sum / neighbor_count if neighbor_count != 0 else 0\n",
    "        \n",
    "        if inferred_rating != 0:\n",
    "            inferred_ratings.append((item, inferred_rating))"
   ]
  },
  {
   "cell_type": "code",
   "execution_count": null,
   "id": "ddfd8290",
   "metadata": {},
   "outputs": [],
   "source": [
    "mapped_ratings = []\n",
    "for i in inferred_ratings:\n",
    "    \n",
    "    # Get actual item encoding (from the cartesian product result)\n",
    "    item_context = context_T[i[0]]\n",
    "    \n",
    "    item = user_item_context_reverse_encodings[1][item_context[0]]\n",
    "    \n",
    "    new_entry = [item]\n",
    "    \n",
    "    for j in range(1, len(item_context)):\n",
    "        new_entry.append(item_context[j])\n",
    "    \n",
    "    new_entry.append(i[1])\n",
    "    \n",
    "    mapped_ratings.append(new_entry)"
   ]
  },
  {
   "cell_type": "code",
   "execution_count": null,
   "id": "d1241102",
   "metadata": {},
   "outputs": [],
   "source": [
    "predicted_df = pd.DataFrame(\n",
    "    mapped_ratings, \n",
    "    columns=[\n",
    "        'Item', \n",
    "        *encoded_df.columns[3:], \n",
    "        'predicted_rating']\n",
    ").sort_values(by='predicted_rating', ascending=False)\n",
    "display(predicted_df)"
   ]
  },
  {
   "cell_type": "markdown",
   "id": "c94c9938",
   "metadata": {},
   "source": [
    "## Recommendation Generation"
   ]
  },
  {
   "cell_type": "code",
   "execution_count": null,
   "id": "ae4e77da",
   "metadata": {},
   "outputs": [],
   "source": [
    "# Select N items to be recommended\n",
    "chosen = []\n",
    "\n",
    "for data in predicted_df.iterrows():\n",
    "    data_tup = tuple(data[1])\n",
    "      \n",
    "    if len(chosen) <= N:\n",
    "        chosen.append(data_tup)\n",
    "\n",
    "for i in chosen:\n",
    "    print(i)"
   ]
  },
  {
   "cell_type": "markdown",
   "id": "036d69a1",
   "metadata": {},
   "source": [
    "## Rating Prediction Translated Result"
   ]
  },
  {
   "cell_type": "code",
   "execution_count": null,
   "id": "3c2a00c6",
   "metadata": {},
   "outputs": [],
   "source": [
    "mapped_ratings = []\n",
    "for i in inferred_ratings:\n",
    "    \n",
    "    # Get actual item encoding (from the cartesian product result)\n",
    "    item_context = context_T[i[0]]\n",
    "    \n",
    "    item = user_item_context_reverse_encodings[1][item_context[0]]\n",
    "    \n",
    "    new_entry = [item]\n",
    "    \n",
    "    # Translate remaining context\n",
    "    for j in range(1, len(item_context)):\n",
    "        # 1 --> item\n",
    "        # >= 2 --> context\n",
    "        translator = user_item_context_reverse_encodings[j+1]\n",
    "        new_entry.append(translator[item_context[j]])\n",
    "    \n",
    "    # Append the rating\n",
    "    new_entry.append(i[1]*maximum_rating)\n",
    "    \n",
    "    mapped_ratings.append(new_entry)"
   ]
  },
  {
   "cell_type": "code",
   "execution_count": null,
   "id": "397316f1",
   "metadata": {},
   "outputs": [],
   "source": [
    "res = pd.DataFrame(\n",
    "    mapped_ratings, \n",
    "    columns=[\n",
    "        'Item', \n",
    "        *encoded_df.columns[3:], \n",
    "        'predicted_rating']\n",
    ").sort_values(by='predicted_rating', ascending=False)\n",
    "display(res)"
   ]
  },
  {
   "cell_type": "code",
   "execution_count": null,
   "id": "1614c5d9",
   "metadata": {},
   "outputs": [],
   "source": [
    "res[res['Item'] == 'tt0266543']"
   ]
  },
  {
   "cell_type": "markdown",
   "id": "87f78128",
   "metadata": {},
   "source": [
    "## Dataset Merge"
   ]
  },
  {
   "cell_type": "code",
   "execution_count": null,
   "id": "8d88230d",
   "metadata": {},
   "outputs": [],
   "source": [
    "witheld = pd.read_csv('witheld_ratings.csv')"
   ]
  },
  {
   "cell_type": "code",
   "execution_count": null,
   "id": "64d5eca3",
   "metadata": {},
   "outputs": [],
   "source": [
    "display(witheld)"
   ]
  },
  {
   "cell_type": "code",
   "execution_count": null,
   "id": "017d5532",
   "metadata": {},
   "outputs": [],
   "source": [
    "actual_ratings = []"
   ]
  },
  {
   "cell_type": "code",
   "execution_count": null,
   "id": "cc05db97",
   "metadata": {},
   "outputs": [],
   "source": [
    "for row in res.iterrows():\n",
    "    row_data = row[1]\n",
    "    actual = witheld[\n",
    "        (witheld['userid'] == USER) &\\\n",
    "        (witheld['itemid'] == row_data['Item']) &\\\n",
    "        (witheld['Time'] == row_data['Time']) &\\\n",
    "        (witheld['Location'] == row_data['Location']) &\n",
    "        (witheld['Companion'] == row_data['Companion'])\n",
    "    ]['rating']\n",
    "    \n",
    "    if(not actual.empty):\n",
    "        actual_ratings.append(tuple(actual)[0])\n",
    "        \n",
    "    else:\n",
    "        actual_ratings.append(np.nan)   "
   ]
  },
  {
   "cell_type": "code",
   "execution_count": null,
   "id": "05655980",
   "metadata": {},
   "outputs": [],
   "source": [
    "merged_result = res.copy()"
   ]
  },
  {
   "cell_type": "code",
   "execution_count": null,
   "id": "84fdc0d0",
   "metadata": {},
   "outputs": [],
   "source": [
    "merged_result['actual_rating'] = actual_ratings"
   ]
  },
  {
   "cell_type": "code",
   "execution_count": null,
   "id": "608ff7b1",
   "metadata": {},
   "outputs": [],
   "source": [
    "merged_result['actual_rating']"
   ]
  },
  {
   "cell_type": "code",
   "execution_count": null,
   "id": "726698a8",
   "metadata": {},
   "outputs": [],
   "source": [
    "merged_result[\n",
    "    (merged_result['actual_rating'] != np.nan)\n",
    "]"
   ]
  },
  {
   "cell_type": "code",
   "execution_count": null,
   "id": "c8110ffc",
   "metadata": {},
   "outputs": [],
   "source": [
    "compared_df = merged_result.dropna()\n",
    "display(compared_df)"
   ]
  },
  {
   "cell_type": "code",
   "execution_count": null,
   "id": "82b6d60d",
   "metadata": {},
   "outputs": [],
   "source": [
    "from sklearn.metrics import mean_absolute_error, mean_squared_error"
   ]
  },
  {
   "cell_type": "code",
   "execution_count": null,
   "id": "183c9c52",
   "metadata": {},
   "outputs": [],
   "source": [
    "print(\"MAE\", mean_absolute_error(\n",
    "    compared_df['actual_rating'],\n",
    "    compared_df['predicted_rating']\n",
    "))\n",
    "\n",
    "print(\"RMSE\", mean_squared_error(\n",
    "    compared_df['actual_rating'],\n",
    "    compared_df['predicted_rating']\n",
    "))"
   ]
  },
  {
   "cell_type": "code",
   "execution_count": null,
   "id": "55779640",
   "metadata": {},
   "outputs": [],
   "source": []
  }
 ],
 "metadata": {
  "kernelspec": {
   "display_name": "Python 3 (ipykernel)",
   "language": "python",
   "name": "python3"
  },
  "language_info": {
   "codemirror_mode": {
    "name": "ipython",
    "version": 3
   },
   "file_extension": ".py",
   "mimetype": "text/x-python",
   "name": "python",
   "nbconvert_exporter": "python",
   "pygments_lexer": "ipython3",
   "version": "3.9.12"
  }
 },
 "nbformat": 4,
 "nbformat_minor": 5
}
