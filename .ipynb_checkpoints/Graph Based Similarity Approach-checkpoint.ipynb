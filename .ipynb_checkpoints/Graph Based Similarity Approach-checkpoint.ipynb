{
 "cells": [
  {
   "cell_type": "markdown",
   "id": "73f4f4e9",
   "metadata": {},
   "source": [
    "# Context-Aware Recommendation Algorithm by PAPERDAA-2"
   ]
  },
  {
   "cell_type": "code",
   "execution_count": 696,
   "id": "a13b6bf0",
   "metadata": {},
   "outputs": [],
   "source": [
    "import numpy as np\n",
    "import pandas as pd\n",
    "from sklearn import preprocessing\n",
    "from itertools import product as cartesian_product"
   ]
  },
  {
   "cell_type": "markdown",
   "id": "48b55238",
   "metadata": {},
   "source": [
    "# Training"
   ]
  },
  {
   "cell_type": "markdown",
   "id": "95ada1a3",
   "metadata": {},
   "source": [
    "## Program Arguments"
   ]
  },
  {
   "cell_type": "code",
   "execution_count": 697,
   "id": "727707c7",
   "metadata": {},
   "outputs": [],
   "source": [
    "LMAX = 6      # Maximum transitive path length\n",
    "K = 2"
   ]
  },
  {
   "cell_type": "markdown",
   "id": "4ed55808",
   "metadata": {},
   "source": [
    "## Preprocessing"
   ]
  },
  {
   "cell_type": "code",
   "execution_count": 698,
   "id": "f71c17c9",
   "metadata": {
    "scrolled": true
   },
   "outputs": [
    {
     "data": {
      "text/html": [
       "<div>\n",
       "<style scoped>\n",
       "    .dataframe tbody tr th:only-of-type {\n",
       "        vertical-align: middle;\n",
       "    }\n",
       "\n",
       "    .dataframe tbody tr th {\n",
       "        vertical-align: top;\n",
       "    }\n",
       "\n",
       "    .dataframe thead th {\n",
       "        text-align: right;\n",
       "    }\n",
       "</style>\n",
       "<table border=\"1\" class=\"dataframe\">\n",
       "  <thead>\n",
       "    <tr style=\"text-align: right;\">\n",
       "      <th></th>\n",
       "      <th>user</th>\n",
       "      <th>item</th>\n",
       "      <th>rating</th>\n",
       "      <th>weather</th>\n",
       "      <th>tod</th>\n",
       "      <th>tow</th>\n",
       "    </tr>\n",
       "  </thead>\n",
       "  <tbody>\n",
       "    <tr>\n",
       "      <th>5</th>\n",
       "      <td>u3</td>\n",
       "      <td>p1</td>\n",
       "      <td>5</td>\n",
       "      <td>raining</td>\n",
       "      <td>evening</td>\n",
       "      <td>weekend</td>\n",
       "    </tr>\n",
       "    <tr>\n",
       "      <th>6</th>\n",
       "      <td>u3</td>\n",
       "      <td>p1</td>\n",
       "      <td>3</td>\n",
       "      <td>raining</td>\n",
       "      <td>morning</td>\n",
       "      <td>weekend</td>\n",
       "    </tr>\n",
       "    <tr>\n",
       "      <th>7</th>\n",
       "      <td>u3</td>\n",
       "      <td>p2</td>\n",
       "      <td>1</td>\n",
       "      <td>clear</td>\n",
       "      <td>afternoon</td>\n",
       "      <td>weekdays</td>\n",
       "    </tr>\n",
       "    <tr>\n",
       "      <th>8</th>\n",
       "      <td>u4</td>\n",
       "      <td>p2</td>\n",
       "      <td>2</td>\n",
       "      <td>raining</td>\n",
       "      <td>afternoon</td>\n",
       "      <td>weekdays</td>\n",
       "    </tr>\n",
       "    <tr>\n",
       "      <th>9</th>\n",
       "      <td>u4</td>\n",
       "      <td>p2</td>\n",
       "      <td>4</td>\n",
       "      <td>clear</td>\n",
       "      <td>morning</td>\n",
       "      <td>weekend</td>\n",
       "    </tr>\n",
       "  </tbody>\n",
       "</table>\n",
       "</div>"
      ],
      "text/plain": [
       "  user item  rating  weather        tod       tow\n",
       "5   u3   p1       5  raining    evening   weekend\n",
       "6   u3   p1       3  raining    morning   weekend\n",
       "7   u3   p2       1    clear  afternoon  weekdays\n",
       "8   u4   p2       2  raining  afternoon  weekdays\n",
       "9   u4   p2       4    clear    morning   weekend"
      ]
     },
     "execution_count": 698,
     "metadata": {},
     "output_type": "execute_result"
    }
   ],
   "source": [
    "df = pd.read_csv('paper_rating.csv')\n",
    "df.tail(5)"
   ]
  },
  {
   "cell_type": "code",
   "execution_count": 699,
   "id": "fbdd9f4d",
   "metadata": {},
   "outputs": [],
   "source": [
    "encoder = preprocessing.LabelEncoder()\n",
    "\n",
    "user_item_context_encodings = []\n",
    "user_item_context_reverse_encodings = []\n",
    "maximum_rating = df[df.columns[2]].max()\n",
    "\n",
    "encoded_df = df.copy()\n",
    "# Encode userid, itemid, and contextual informations for item splitting\n",
    "for column_index in range(len(df.columns)):\n",
    "    \n",
    "    # Column attribute is not rating\n",
    "    if column_index != 2:\n",
    "        \n",
    "        # Fit encoder\n",
    "        encoder.fit(df[df.columns[column_index]])\n",
    "        encoded_df[df.columns[column_index]] = encoder.transform(\n",
    "                df[df.columns[column_index]]\n",
    "            )\n",
    "    \n",
    "    # Column is nor user or rating\n",
    "    if column_index != 2:\n",
    "            user_item_context_encodings.append(\n",
    "                dict(zip(encoder.classes_, encoder.transform(encoder.classes_)))\n",
    "            )\n",
    "            user_item_context_reverse_encodings.append(\n",
    "                dict(zip(encoder.transform(encoder.classes_), encoder.classes_))\n",
    "            )"
   ]
  },
  {
   "cell_type": "code",
   "execution_count": 700,
   "id": "3f302dc8",
   "metadata": {},
   "outputs": [
    {
     "data": {
      "text/html": [
       "<div>\n",
       "<style scoped>\n",
       "    .dataframe tbody tr th:only-of-type {\n",
       "        vertical-align: middle;\n",
       "    }\n",
       "\n",
       "    .dataframe tbody tr th {\n",
       "        vertical-align: top;\n",
       "    }\n",
       "\n",
       "    .dataframe thead th {\n",
       "        text-align: right;\n",
       "    }\n",
       "</style>\n",
       "<table border=\"1\" class=\"dataframe\">\n",
       "  <thead>\n",
       "    <tr style=\"text-align: right;\">\n",
       "      <th></th>\n",
       "      <th>user</th>\n",
       "      <th>item</th>\n",
       "      <th>rating</th>\n",
       "      <th>weather</th>\n",
       "      <th>tod</th>\n",
       "      <th>tow</th>\n",
       "    </tr>\n",
       "  </thead>\n",
       "  <tbody>\n",
       "    <tr>\n",
       "      <th>0</th>\n",
       "      <td>0</td>\n",
       "      <td>0</td>\n",
       "      <td>4</td>\n",
       "      <td>0</td>\n",
       "      <td>2</td>\n",
       "      <td>0</td>\n",
       "    </tr>\n",
       "    <tr>\n",
       "      <th>1</th>\n",
       "      <td>0</td>\n",
       "      <td>0</td>\n",
       "      <td>3</td>\n",
       "      <td>1</td>\n",
       "      <td>1</td>\n",
       "      <td>1</td>\n",
       "    </tr>\n",
       "    <tr>\n",
       "      <th>2</th>\n",
       "      <td>1</td>\n",
       "      <td>0</td>\n",
       "      <td>5</td>\n",
       "      <td>0</td>\n",
       "      <td>2</td>\n",
       "      <td>0</td>\n",
       "    </tr>\n",
       "    <tr>\n",
       "      <th>3</th>\n",
       "      <td>1</td>\n",
       "      <td>1</td>\n",
       "      <td>2</td>\n",
       "      <td>0</td>\n",
       "      <td>1</td>\n",
       "      <td>0</td>\n",
       "    </tr>\n",
       "    <tr>\n",
       "      <th>4</th>\n",
       "      <td>1</td>\n",
       "      <td>1</td>\n",
       "      <td>4</td>\n",
       "      <td>1</td>\n",
       "      <td>0</td>\n",
       "      <td>0</td>\n",
       "    </tr>\n",
       "    <tr>\n",
       "      <th>5</th>\n",
       "      <td>2</td>\n",
       "      <td>0</td>\n",
       "      <td>5</td>\n",
       "      <td>1</td>\n",
       "      <td>1</td>\n",
       "      <td>1</td>\n",
       "    </tr>\n",
       "    <tr>\n",
       "      <th>6</th>\n",
       "      <td>2</td>\n",
       "      <td>0</td>\n",
       "      <td>3</td>\n",
       "      <td>1</td>\n",
       "      <td>2</td>\n",
       "      <td>1</td>\n",
       "    </tr>\n",
       "    <tr>\n",
       "      <th>7</th>\n",
       "      <td>2</td>\n",
       "      <td>1</td>\n",
       "      <td>1</td>\n",
       "      <td>0</td>\n",
       "      <td>0</td>\n",
       "      <td>0</td>\n",
       "    </tr>\n",
       "    <tr>\n",
       "      <th>8</th>\n",
       "      <td>3</td>\n",
       "      <td>1</td>\n",
       "      <td>2</td>\n",
       "      <td>1</td>\n",
       "      <td>0</td>\n",
       "      <td>0</td>\n",
       "    </tr>\n",
       "    <tr>\n",
       "      <th>9</th>\n",
       "      <td>3</td>\n",
       "      <td>1</td>\n",
       "      <td>4</td>\n",
       "      <td>0</td>\n",
       "      <td>2</td>\n",
       "      <td>1</td>\n",
       "    </tr>\n",
       "  </tbody>\n",
       "</table>\n",
       "</div>"
      ],
      "text/plain": [
       "   user  item  rating  weather  tod  tow\n",
       "0     0     0       4        0    2    0\n",
       "1     0     0       3        1    1    1\n",
       "2     1     0       5        0    2    0\n",
       "3     1     1       2        0    1    0\n",
       "4     1     1       4        1    0    0\n",
       "5     2     0       5        1    1    1\n",
       "6     2     0       3        1    2    1\n",
       "7     2     1       1        0    0    0\n",
       "8     3     1       2        1    0    0\n",
       "9     3     1       4        0    2    1"
      ]
     },
     "metadata": {},
     "output_type": "display_data"
    }
   ],
   "source": [
    "display(encoded_df)"
   ]
  },
  {
   "cell_type": "markdown",
   "id": "1f3e9aa7",
   "metadata": {},
   "source": [
    "## Item Splitting"
   ]
  },
  {
   "cell_type": "code",
   "execution_count": 701,
   "id": "5e944125",
   "metadata": {},
   "outputs": [],
   "source": [
    "# Cartesian product all items and contexts\n",
    "\n",
    "users = user_item_context_encodings[0].values()\n",
    "items = user_item_context_encodings[1].values()\n",
    "contexts = [\n",
    "    context_trans.values() for context_trans in user_item_context_encodings[2:]\n",
    "]\n",
    "\n",
    "context_T = list(cartesian_product(items, *contexts))"
   ]
  },
  {
   "cell_type": "code",
   "execution_count": 702,
   "id": "93083682",
   "metadata": {},
   "outputs": [],
   "source": [
    "# Generate new user-item matrix for new items\n",
    "rating_matrix = np.zeros((len(users), len(context_T)), dtype=object)"
   ]
  },
  {
   "cell_type": "code",
   "execution_count": 703,
   "id": "e6eb5b8d",
   "metadata": {
    "scrolled": true
   },
   "outputs": [],
   "source": [
    "for row in encoded_df.iterrows():\n",
    "    data = tuple(row[1])\n",
    "    user = data[0]\n",
    "    item = data[1]\n",
    "    rating = data[2]\n",
    "    context_item = (item, *data[3:])\n",
    "    \n",
    "    index = context_T.index(context_item)\n",
    "    \n",
    "    rating_matrix[user][index] = rating/maximum_rating"
   ]
  },
  {
   "cell_type": "code",
   "execution_count": 704,
   "id": "9132fa1d",
   "metadata": {},
   "outputs": [
    {
     "data": {
      "text/plain": [
       "array([[0, 0, 0, 0, 0.8, 0, 0, 0, 0, 0.6, 0, 0, 0, 0, 0, 0, 0, 0, 0, 0,\n",
       "        0, 0, 0, 0],\n",
       "       [0, 0, 0, 0, 1.0, 0, 0, 0, 0, 0, 0, 0, 0, 0, 0.4, 0, 0, 0, 0.8, 0,\n",
       "        0, 0, 0, 0],\n",
       "       [0, 0, 0, 0, 0, 0, 0, 0, 0, 1.0, 0, 0.6, 0.2, 0, 0, 0, 0, 0, 0, 0,\n",
       "        0, 0, 0, 0],\n",
       "       [0, 0, 0, 0, 0, 0, 0, 0, 0, 0, 0, 0, 0, 0, 0, 0, 0, 0.8, 0.4, 0,\n",
       "        0, 0, 0, 0]], dtype=object)"
      ]
     },
     "metadata": {},
     "output_type": "display_data"
    }
   ],
   "source": [
    "display(rating_matrix)"
   ]
  },
  {
   "cell_type": "markdown",
   "id": "3010802b",
   "metadata": {},
   "source": [
    "## Graph Similarity Calculation (User-Based)"
   ]
  },
  {
   "cell_type": "code",
   "execution_count": 705,
   "id": "0fd786d6",
   "metadata": {},
   "outputs": [],
   "source": [
    "rating_matrix_transposed = np.transpose(rating_matrix)"
   ]
  },
  {
   "cell_type": "code",
   "execution_count": 706,
   "id": "23238a7f",
   "metadata": {},
   "outputs": [],
   "source": [
    "L = 2\n",
    "\n",
    "WWT = np.matmul(rating_matrix, rating_matrix_transposed)\n",
    "M = np.matmul(rating_matrix, rating_matrix_transposed)\n",
    "\n",
    "while L != LMAX:\n",
    "    M = np.matmul(WWT, M)\n",
    "    L = L + 2"
   ]
  },
  {
   "cell_type": "code",
   "execution_count": 707,
   "id": "4f37632a",
   "metadata": {},
   "outputs": [
    {
     "data": {
      "text/plain": [
       "array([[4.656000000000001, 5.713920000000002, 3.2159999999999997,\n",
       "        0.9216000000000004],\n",
       "       [5.713920000000002, 9.226560000000003, 2.016, 1.939968000000001],\n",
       "       [3.216, 2.016, 4.112, 0.15360000000000004],\n",
       "       [0.9216000000000003, 1.939968000000001, 0.15360000000000001,\n",
       "        0.8601600000000005]], dtype=object)"
      ]
     },
     "metadata": {},
     "output_type": "display_data"
    }
   ],
   "source": [
    "display(M)"
   ]
  },
  {
   "cell_type": "markdown",
   "id": "ac4e5c9b",
   "metadata": {},
   "source": [
    "# Prediction"
   ]
  },
  {
   "cell_type": "code",
   "execution_count": 708,
   "id": "ce78e07d",
   "metadata": {},
   "outputs": [],
   "source": [
    "USER = 'u4'   # User to check\n",
    "CONTEXT = ('raining', 'evening', 'weekend')\n",
    "N = 10"
   ]
  },
  {
   "cell_type": "code",
   "execution_count": 709,
   "id": "7608a3b2",
   "metadata": {},
   "outputs": [
    {
     "data": {
      "text/plain": [
       "(1, 1, 1)"
      ]
     },
     "metadata": {},
     "output_type": "display_data"
    }
   ],
   "source": [
    "# Context translation\n",
    "translated_context = []\n",
    "\n",
    "for cnt_index in range(len(CONTEXT)):\n",
    "    # 0 --> User\n",
    "    # 1 --> Item\n",
    "    # >= 2 --> context\n",
    "    map_index = cnt_index + 2\n",
    "    translation_table = user_item_context_encodings[map_index]\n",
    "    \n",
    "    translated_context.append(translation_table[CONTEXT[cnt_index]])\n",
    "\n",
    "translated_context = tuple(translated_context)\n",
    "display(translated_context)"
   ]
  },
  {
   "cell_type": "markdown",
   "id": "38767d02",
   "metadata": {},
   "source": [
    "## Ratings Prediction"
   ]
  },
  {
   "cell_type": "code",
   "execution_count": 710,
   "id": "7e158194",
   "metadata": {},
   "outputs": [],
   "source": [
    "# Get K most similar users\n",
    "wanted_user = user_item_context_encodings[0][USER]\n",
    "\n",
    "scores = M[wanted_user]\n",
    "K_similar_users = np.argpartition(scores, -(K+1))[-(K+1):]\n",
    "\n",
    "if wanted_user in K_similar_users:\n",
    "    K_similar_users = K_similar_users[K_similar_users != wanted_user]\n",
    "else:\n",
    "    K_similar_users = K_similar_users[:-1]"
   ]
  },
  {
   "cell_type": "markdown",
   "id": "21757ee2",
   "metadata": {},
   "source": [
    "### Get list of rated items"
   ]
  },
  {
   "cell_type": "code",
   "execution_count": 711,
   "id": "289fb57a",
   "metadata": {},
   "outputs": [],
   "source": [
    "inferred_ratings = []\n",
    "user_rated_items = rating_matrix[wanted_user]"
   ]
  },
  {
   "cell_type": "markdown",
   "id": "c5d81ae1",
   "metadata": {},
   "source": [
    "### KNN"
   ]
  },
  {
   "cell_type": "code",
   "execution_count": 712,
   "id": "4d13cdcd",
   "metadata": {},
   "outputs": [],
   "source": [
    "for item in range(len(user_rated_items)):\n",
    "    rating = user_rated_items[item]\n",
    "    \n",
    "    # Item has not been rated\n",
    "    if rating == 0:\n",
    "        rating_sum = 0\n",
    "        neighbor_count = 0\n",
    "        \n",
    "        for neighbor in K_similar_users:\n",
    "            neighbor_rating = rating_matrix[neighbor][item]\n",
    "            \n",
    "            # If neighbor has rated the item\n",
    "            if neighbor_rating != 0:\n",
    "                rating_sum += neighbor_rating\n",
    "                neighbor_count += 1\n",
    "            \n",
    "        inferred_rating = rating_sum / neighbor_count if neighbor_count != 0 else 0\n",
    "        \n",
    "        if inferred_rating != 0:\n",
    "            inferred_ratings.append((item, inferred_rating))"
   ]
  },
  {
   "cell_type": "code",
   "execution_count": 713,
   "id": "2ddf75a3",
   "metadata": {},
   "outputs": [],
   "source": [
    "mapped_ratings = []\n",
    "for i in inferred_ratings:\n",
    "    \n",
    "    # Get actual item encoding (from the cartesian product result)\n",
    "    item_context = context_T[i[0]]\n",
    "    \n",
    "    item = user_item_context_reverse_encodings[1][item_context[0]]\n",
    "    \n",
    "    new_entry = [item]\n",
    "    \n",
    "    for j in range(1, len(item_context)):\n",
    "        new_entry.append(item_context[j])\n",
    "    \n",
    "    new_entry.append(i[1])\n",
    "    \n",
    "    mapped_ratings.append(new_entry)"
   ]
  },
  {
   "cell_type": "code",
   "execution_count": 714,
   "id": "92a0bbad",
   "metadata": {},
   "outputs": [
    {
     "data": {
      "text/html": [
       "<div>\n",
       "<style scoped>\n",
       "    .dataframe tbody tr th:only-of-type {\n",
       "        vertical-align: middle;\n",
       "    }\n",
       "\n",
       "    .dataframe tbody tr th {\n",
       "        vertical-align: top;\n",
       "    }\n",
       "\n",
       "    .dataframe thead th {\n",
       "        text-align: right;\n",
       "    }\n",
       "</style>\n",
       "<table border=\"1\" class=\"dataframe\">\n",
       "  <thead>\n",
       "    <tr style=\"text-align: right;\">\n",
       "      <th></th>\n",
       "      <th>Item</th>\n",
       "      <th>weather</th>\n",
       "      <th>tod</th>\n",
       "      <th>tow</th>\n",
       "      <th>predicted_rating</th>\n",
       "    </tr>\n",
       "  </thead>\n",
       "  <tbody>\n",
       "    <tr>\n",
       "      <th>0</th>\n",
       "      <td>p1</td>\n",
       "      <td>0</td>\n",
       "      <td>2</td>\n",
       "      <td>0</td>\n",
       "      <td>0.9</td>\n",
       "    </tr>\n",
       "    <tr>\n",
       "      <th>1</th>\n",
       "      <td>p1</td>\n",
       "      <td>1</td>\n",
       "      <td>1</td>\n",
       "      <td>1</td>\n",
       "      <td>0.6</td>\n",
       "    </tr>\n",
       "    <tr>\n",
       "      <th>2</th>\n",
       "      <td>p2</td>\n",
       "      <td>0</td>\n",
       "      <td>1</td>\n",
       "      <td>0</td>\n",
       "      <td>0.4</td>\n",
       "    </tr>\n",
       "  </tbody>\n",
       "</table>\n",
       "</div>"
      ],
      "text/plain": [
       "  Item  weather  tod  tow  predicted_rating\n",
       "0   p1        0    2    0               0.9\n",
       "1   p1        1    1    1               0.6\n",
       "2   p2        0    1    0               0.4"
      ]
     },
     "metadata": {},
     "output_type": "display_data"
    }
   ],
   "source": [
    "predicted_df = pd.DataFrame(\n",
    "    mapped_ratings, \n",
    "    columns=[\n",
    "        'Item', \n",
    "        *encoded_df.columns[3:], \n",
    "        'predicted_rating']\n",
    ").sort_values(by='predicted_rating', ascending=False)\n",
    "display(predicted_df)"
   ]
  },
  {
   "cell_type": "markdown",
   "id": "b376885b",
   "metadata": {},
   "source": [
    "## Recommendation Generation"
   ]
  },
  {
   "cell_type": "code",
   "execution_count": 715,
   "id": "7dc64147",
   "metadata": {},
   "outputs": [
    {
     "name": "stdout",
     "output_type": "stream",
     "text": [
      "('p1', 1, 1, 1, 0.6)\n"
     ]
    }
   ],
   "source": [
    "# Select N items to be recommended\n",
    "chosen = []\n",
    "\n",
    "for data in predicted_df.iterrows():\n",
    "    data_tup = tuple(data[1])\n",
    "    \n",
    "    if tuple(data[1][1:-1]) == translated_context:\n",
    "        \n",
    "        if len(chosen) <= N:\n",
    "            chosen.append(data_tup)\n",
    "\n",
    "for i in chosen:\n",
    "    print(i)"
   ]
  },
  {
   "cell_type": "markdown",
   "id": "d520e033",
   "metadata": {},
   "source": [
    "## Rating Prediction Translated Result"
   ]
  },
  {
   "cell_type": "code",
   "execution_count": 716,
   "id": "6a4d16f0",
   "metadata": {},
   "outputs": [],
   "source": [
    "mapped_ratings = []\n",
    "for i in inferred_ratings:\n",
    "    \n",
    "    # Get actual item encoding (from the cartesian product result)\n",
    "    item_context = context_T[i[0]]\n",
    "    \n",
    "    item = user_item_context_reverse_encodings[1][item_context[0]]\n",
    "    \n",
    "    new_entry = [item]\n",
    "    \n",
    "    # Translate remaining context\n",
    "    for j in range(1, len(item_context)):\n",
    "        # 1 --> item\n",
    "        # >= 2 --> context\n",
    "        translator = user_item_context_reverse_encodings[j+1]\n",
    "        new_entry.append(translator[item_context[j]])\n",
    "    \n",
    "    new_entry.append(i[1])\n",
    "    \n",
    "    mapped_ratings.append(new_entry)"
   ]
  },
  {
   "cell_type": "code",
   "execution_count": 717,
   "id": "e53a0cc9",
   "metadata": {},
   "outputs": [
    {
     "data": {
      "text/html": [
       "<div>\n",
       "<style scoped>\n",
       "    .dataframe tbody tr th:only-of-type {\n",
       "        vertical-align: middle;\n",
       "    }\n",
       "\n",
       "    .dataframe tbody tr th {\n",
       "        vertical-align: top;\n",
       "    }\n",
       "\n",
       "    .dataframe thead th {\n",
       "        text-align: right;\n",
       "    }\n",
       "</style>\n",
       "<table border=\"1\" class=\"dataframe\">\n",
       "  <thead>\n",
       "    <tr style=\"text-align: right;\">\n",
       "      <th></th>\n",
       "      <th>Item</th>\n",
       "      <th>weather</th>\n",
       "      <th>tod</th>\n",
       "      <th>tow</th>\n",
       "      <th>predicted_rating</th>\n",
       "    </tr>\n",
       "  </thead>\n",
       "  <tbody>\n",
       "    <tr>\n",
       "      <th>0</th>\n",
       "      <td>p1</td>\n",
       "      <td>clear</td>\n",
       "      <td>morning</td>\n",
       "      <td>weekdays</td>\n",
       "      <td>0.9</td>\n",
       "    </tr>\n",
       "    <tr>\n",
       "      <th>1</th>\n",
       "      <td>p1</td>\n",
       "      <td>raining</td>\n",
       "      <td>evening</td>\n",
       "      <td>weekend</td>\n",
       "      <td>0.6</td>\n",
       "    </tr>\n",
       "    <tr>\n",
       "      <th>2</th>\n",
       "      <td>p2</td>\n",
       "      <td>clear</td>\n",
       "      <td>evening</td>\n",
       "      <td>weekdays</td>\n",
       "      <td>0.4</td>\n",
       "    </tr>\n",
       "  </tbody>\n",
       "</table>\n",
       "</div>"
      ],
      "text/plain": [
       "  Item  weather      tod       tow  predicted_rating\n",
       "0   p1    clear  morning  weekdays               0.9\n",
       "1   p1  raining  evening   weekend               0.6\n",
       "2   p2    clear  evening  weekdays               0.4"
      ]
     },
     "execution_count": 717,
     "metadata": {},
     "output_type": "execute_result"
    }
   ],
   "source": [
    "pd.DataFrame(\n",
    "    mapped_ratings, \n",
    "    columns=[\n",
    "        'Item', \n",
    "        *encoded_df.columns[3:], \n",
    "        'predicted_rating']\n",
    ").sort_values(by='predicted_rating', ascending=False)"
   ]
  }
 ],
 "metadata": {
  "kernelspec": {
   "display_name": "Python 3 (ipykernel)",
   "language": "python",
   "name": "python3"
  },
  "language_info": {
   "codemirror_mode": {
    "name": "ipython",
    "version": 3
   },
   "file_extension": ".py",
   "mimetype": "text/x-python",
   "name": "python",
   "nbconvert_exporter": "python",
   "pygments_lexer": "ipython3",
   "version": "3.9.12"
  }
 },
 "nbformat": 4,
 "nbformat_minor": 5
}
