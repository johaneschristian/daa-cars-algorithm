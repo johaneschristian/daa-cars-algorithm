{
 "cells": [
  {
   "cell_type": "markdown",
   "id": "53833cc7",
   "metadata": {},
   "source": [
    "# Context-Aware Recommendation Algorithm by PAPERDAA-2"
   ]
  },
  {
   "cell_type": "code",
   "execution_count": 1,
   "id": "84e73941",
   "metadata": {},
   "outputs": [],
   "source": [
    "import numpy as np\n",
    "import pandas as pd\n",
    "from sklearn import preprocessing\n",
    "from itertools import product as cartesian_product"
   ]
  },
  {
   "cell_type": "markdown",
   "id": "1ff7bae3",
   "metadata": {},
   "source": [
    "# Training"
   ]
  },
  {
   "cell_type": "markdown",
   "id": "7d8858c5",
   "metadata": {},
   "source": [
    "## Program Arguments"
   ]
  },
  {
   "cell_type": "code",
   "execution_count": 2,
   "id": "af501bd7",
   "metadata": {},
   "outputs": [],
   "source": [
    "LMAX = 6      # Maximum transitive path length\n",
    "K = 2"
   ]
  },
  {
   "cell_type": "markdown",
   "id": "d663b8a1",
   "metadata": {},
   "source": [
    "## Preprocessing"
   ]
  },
  {
   "cell_type": "code",
   "execution_count": 3,
   "id": "6baf61de",
   "metadata": {
    "scrolled": true
   },
   "outputs": [
    {
     "data": {
      "text/html": [
       "<div>\n",
       "<style scoped>\n",
       "    .dataframe tbody tr th:only-of-type {\n",
       "        vertical-align: middle;\n",
       "    }\n",
       "\n",
       "    .dataframe tbody tr th {\n",
       "        vertical-align: top;\n",
       "    }\n",
       "\n",
       "    .dataframe thead th {\n",
       "        text-align: right;\n",
       "    }\n",
       "</style>\n",
       "<table border=\"1\" class=\"dataframe\">\n",
       "  <thead>\n",
       "    <tr style=\"text-align: right;\">\n",
       "      <th></th>\n",
       "      <th>userid</th>\n",
       "      <th>itemid</th>\n",
       "      <th>rating</th>\n",
       "      <th>Time</th>\n",
       "      <th>Location</th>\n",
       "      <th>Companion</th>\n",
       "    </tr>\n",
       "  </thead>\n",
       "  <tbody>\n",
       "    <tr>\n",
       "      <th>10082</th>\n",
       "      <td>1082</td>\n",
       "      <td>tt0413267</td>\n",
       "      <td>1</td>\n",
       "      <td>Weekend</td>\n",
       "      <td>Home</td>\n",
       "      <td>Partner</td>\n",
       "    </tr>\n",
       "    <tr>\n",
       "      <th>10083</th>\n",
       "      <td>1082</td>\n",
       "      <td>tt1637706</td>\n",
       "      <td>2</td>\n",
       "      <td>Weekend</td>\n",
       "      <td>Home</td>\n",
       "      <td>Partner</td>\n",
       "    </tr>\n",
       "    <tr>\n",
       "      <th>10084</th>\n",
       "      <td>1082</td>\n",
       "      <td>tt0343660</td>\n",
       "      <td>1</td>\n",
       "      <td>Weekend</td>\n",
       "      <td>Home</td>\n",
       "      <td>Partner</td>\n",
       "    </tr>\n",
       "    <tr>\n",
       "      <th>10085</th>\n",
       "      <td>1082</td>\n",
       "      <td>tt1133985</td>\n",
       "      <td>1</td>\n",
       "      <td>Weekend</td>\n",
       "      <td>Home</td>\n",
       "      <td>Partner</td>\n",
       "    </tr>\n",
       "    <tr>\n",
       "      <th>10086</th>\n",
       "      <td>1082</td>\n",
       "      <td>tt1099212</td>\n",
       "      <td>1</td>\n",
       "      <td>Weekend</td>\n",
       "      <td>Home</td>\n",
       "      <td>Partner</td>\n",
       "    </tr>\n",
       "  </tbody>\n",
       "</table>\n",
       "</div>"
      ],
      "text/plain": [
       "      userid     itemid rating     Time Location Companion\n",
       "10082   1082  tt0413267      1  Weekend     Home   Partner\n",
       "10083   1082  tt1637706      2  Weekend     Home   Partner\n",
       "10084   1082  tt0343660      1  Weekend     Home   Partner\n",
       "10085   1082  tt1133985      1  Weekend     Home   Partner\n",
       "10086   1082  tt1099212      1  Weekend     Home   Partner"
      ]
     },
     "execution_count": 3,
     "metadata": {},
     "output_type": "execute_result"
    }
   ],
   "source": [
    "df = pd.read_csv('ratings.csv')\n",
    "df.tail(5)"
   ]
  },
  {
   "cell_type": "code",
   "execution_count": 11,
   "id": "d91056a7",
   "metadata": {},
   "outputs": [
    {
     "data": {
      "text/plain": [
       "'rating'"
      ]
     },
     "metadata": {},
     "output_type": "display_data"
    }
   ],
   "source": [
    "encoder = preprocessing.LabelEncoder()\n",
    "\n",
    "user_item_context_encodings = []\n",
    "user_item_context_reverse_encodings = []\n",
    "maximum_rating = df[df.columns[2]].max()\n",
    "\n",
    "encoded_df = df.copy()\n",
    "# Encode userid, itemid, and contextual informations for item splitting\n",
    "for column_index in range(len(df.columns)):\n",
    "    \n",
    "    # Column attribute is not rating\n",
    "    if column_index != 2:\n",
    "        \n",
    "        # Fit encoder\n",
    "        encoder.fit(df[df.columns[column_index]])\n",
    "        encoded_df[df.columns[column_index]] = encoder.transform(\n",
    "                df[df.columns[column_index]]\n",
    "            )\n",
    "    \n",
    "    # Column is nor user or rating\n",
    "    if column_index != 2:\n",
    "            user_item_context_encodings.append(\n",
    "                dict(zip(encoder.classes_, encoder.transform(encoder.classes_)))\n",
    "            )\n",
    "            user_item_context_reverse_encodings.append(\n",
    "                dict(zip(encoder.transform(encoder.classes_), encoder.classes_))\n",
    "            )"
   ]
  },
  {
   "cell_type": "code",
   "execution_count": 5,
   "id": "26a86eb1",
   "metadata": {},
   "outputs": [
    {
     "data": {
      "text/html": [
       "<div>\n",
       "<style scoped>\n",
       "    .dataframe tbody tr th:only-of-type {\n",
       "        vertical-align: middle;\n",
       "    }\n",
       "\n",
       "    .dataframe tbody tr th {\n",
       "        vertical-align: top;\n",
       "    }\n",
       "\n",
       "    .dataframe thead th {\n",
       "        text-align: right;\n",
       "    }\n",
       "</style>\n",
       "<table border=\"1\" class=\"dataframe\">\n",
       "  <thead>\n",
       "    <tr style=\"text-align: right;\">\n",
       "      <th></th>\n",
       "      <th>userid</th>\n",
       "      <th>itemid</th>\n",
       "      <th>rating</th>\n",
       "      <th>Time</th>\n",
       "      <th>Location</th>\n",
       "      <th>Companion</th>\n",
       "    </tr>\n",
       "  </thead>\n",
       "  <tbody>\n",
       "    <tr>\n",
       "      <th>0</th>\n",
       "      <td>96</td>\n",
       "      <td>59</td>\n",
       "      <td>2</td>\n",
       "      <td>3</td>\n",
       "      <td>3</td>\n",
       "      <td>4</td>\n",
       "    </tr>\n",
       "    <tr>\n",
       "      <th>1</th>\n",
       "      <td>96</td>\n",
       "      <td>34</td>\n",
       "      <td>4</td>\n",
       "      <td>3</td>\n",
       "      <td>3</td>\n",
       "      <td>4</td>\n",
       "    </tr>\n",
       "    <tr>\n",
       "      <th>2</th>\n",
       "      <td>96</td>\n",
       "      <td>2</td>\n",
       "      <td>5</td>\n",
       "      <td>3</td>\n",
       "      <td>3</td>\n",
       "      <td>4</td>\n",
       "    </tr>\n",
       "    <tr>\n",
       "      <th>3</th>\n",
       "      <td>96</td>\n",
       "      <td>1</td>\n",
       "      <td>3</td>\n",
       "      <td>3</td>\n",
       "      <td>3</td>\n",
       "      <td>4</td>\n",
       "    </tr>\n",
       "    <tr>\n",
       "      <th>4</th>\n",
       "      <td>96</td>\n",
       "      <td>11</td>\n",
       "      <td>3</td>\n",
       "      <td>3</td>\n",
       "      <td>3</td>\n",
       "      <td>4</td>\n",
       "    </tr>\n",
       "    <tr>\n",
       "      <th>...</th>\n",
       "      <td>...</td>\n",
       "      <td>...</td>\n",
       "      <td>...</td>\n",
       "      <td>...</td>\n",
       "      <td>...</td>\n",
       "      <td>...</td>\n",
       "    </tr>\n",
       "    <tr>\n",
       "      <th>10082</th>\n",
       "      <td>70</td>\n",
       "      <td>36</td>\n",
       "      <td>1</td>\n",
       "      <td>2</td>\n",
       "      <td>1</td>\n",
       "      <td>3</td>\n",
       "    </tr>\n",
       "    <tr>\n",
       "      <th>10083</th>\n",
       "      <td>70</td>\n",
       "      <td>63</td>\n",
       "      <td>2</td>\n",
       "      <td>2</td>\n",
       "      <td>1</td>\n",
       "      <td>3</td>\n",
       "    </tr>\n",
       "    <tr>\n",
       "      <th>10084</th>\n",
       "      <td>70</td>\n",
       "      <td>26</td>\n",
       "      <td>1</td>\n",
       "      <td>2</td>\n",
       "      <td>1</td>\n",
       "      <td>3</td>\n",
       "    </tr>\n",
       "    <tr>\n",
       "      <th>10085</th>\n",
       "      <td>70</td>\n",
       "      <td>51</td>\n",
       "      <td>1</td>\n",
       "      <td>2</td>\n",
       "      <td>1</td>\n",
       "      <td>3</td>\n",
       "    </tr>\n",
       "    <tr>\n",
       "      <th>10086</th>\n",
       "      <td>70</td>\n",
       "      <td>50</td>\n",
       "      <td>1</td>\n",
       "      <td>2</td>\n",
       "      <td>1</td>\n",
       "      <td>3</td>\n",
       "    </tr>\n",
       "  </tbody>\n",
       "</table>\n",
       "<p>10087 rows × 6 columns</p>\n",
       "</div>"
      ],
      "text/plain": [
       "       userid  itemid rating  Time  Location  Companion\n",
       "0          96      59      2     3         3          4\n",
       "1          96      34      4     3         3          4\n",
       "2          96       2      5     3         3          4\n",
       "3          96       1      3     3         3          4\n",
       "4          96      11      3     3         3          4\n",
       "...       ...     ...    ...   ...       ...        ...\n",
       "10082      70      36      1     2         1          3\n",
       "10083      70      63      2     2         1          3\n",
       "10084      70      26      1     2         1          3\n",
       "10085      70      51      1     2         1          3\n",
       "10086      70      50      1     2         1          3\n",
       "\n",
       "[10087 rows x 6 columns]"
      ]
     },
     "metadata": {},
     "output_type": "display_data"
    }
   ],
   "source": [
    "display(encoded_df)"
   ]
  },
  {
   "cell_type": "markdown",
   "id": "4f44d5fe",
   "metadata": {},
   "source": [
    "## Item Splitting"
   ]
  },
  {
   "cell_type": "code",
   "execution_count": 6,
   "id": "367e3034",
   "metadata": {},
   "outputs": [],
   "source": [
    "# Cartesian product all items and contexts\n",
    "\n",
    "users = user_item_context_encodings[0].values()\n",
    "items = user_item_context_encodings[1].values()\n",
    "contexts = [\n",
    "    context_trans.values() for context_trans in user_item_context_encodings[2:]\n",
    "]\n",
    "\n",
    "context_T = list(cartesian_product(items, *contexts))"
   ]
  },
  {
   "cell_type": "code",
   "execution_count": 7,
   "id": "25a18d77",
   "metadata": {},
   "outputs": [],
   "source": [
    "# Generate new user-item matrix for new items\n",
    "rating_matrix = np.zeros((len(users), len(context_T)), dtype=object)"
   ]
  },
  {
   "cell_type": "code",
   "execution_count": 8,
   "id": "85a120f7",
   "metadata": {
    "scrolled": true
   },
   "outputs": [
    {
     "ename": "TypeError",
     "evalue": "unsupported operand type(s) for /: 'str' and 'str'",
     "output_type": "error",
     "traceback": [
      "\u001b[1;31m---------------------------------------------------------------------------\u001b[0m",
      "\u001b[1;31mTypeError\u001b[0m                                 Traceback (most recent call last)",
      "Input \u001b[1;32mIn [8]\u001b[0m, in \u001b[0;36m<cell line: 1>\u001b[1;34m()\u001b[0m\n\u001b[0;32m      6\u001b[0m context_item \u001b[38;5;241m=\u001b[39m (item, \u001b[38;5;241m*\u001b[39mdata[\u001b[38;5;241m3\u001b[39m:])\n\u001b[0;32m      8\u001b[0m index \u001b[38;5;241m=\u001b[39m context_T\u001b[38;5;241m.\u001b[39mindex(context_item)\n\u001b[1;32m---> 10\u001b[0m rating_matrix[user][index] \u001b[38;5;241m=\u001b[39m \u001b[43mrating\u001b[49m\u001b[38;5;241;43m/\u001b[39;49m\u001b[43mmaximum_rating\u001b[49m\n",
      "\u001b[1;31mTypeError\u001b[0m: unsupported operand type(s) for /: 'str' and 'str'"
     ]
    }
   ],
   "source": [
    "for row in encoded_df.iterrows():\n",
    "    data = tuple(row[1])\n",
    "    user = data[0]\n",
    "    item = data[1]\n",
    "    rating = data[2]\n",
    "    context_item = (item, *data[3:])\n",
    "    \n",
    "    index = context_T.index(context_item)\n",
    "    \n",
    "    rating_matrix[user][index] = rating/maximum_rating"
   ]
  },
  {
   "cell_type": "code",
   "execution_count": null,
   "id": "9518c4cf",
   "metadata": {},
   "outputs": [],
   "source": [
    "display(rating_matrix)"
   ]
  },
  {
   "cell_type": "markdown",
   "id": "e11a9967",
   "metadata": {},
   "source": [
    "## Graph Similarity Calculation (User-Based)"
   ]
  },
  {
   "cell_type": "code",
   "execution_count": null,
   "id": "a2efb160",
   "metadata": {},
   "outputs": [],
   "source": [
    "rating_matrix_transposed = np.transpose(rating_matrix)"
   ]
  },
  {
   "cell_type": "code",
   "execution_count": null,
   "id": "30c841d5",
   "metadata": {},
   "outputs": [],
   "source": [
    "L = 2\n",
    "\n",
    "WWT = np.matmul(rating_matrix, rating_matrix_transposed)\n",
    "M = np.matmul(rating_matrix, rating_matrix_transposed)\n",
    "\n",
    "while L != LMAX:\n",
    "    M = np.matmul(WWT, M)\n",
    "    L = L + 2"
   ]
  },
  {
   "cell_type": "code",
   "execution_count": null,
   "id": "c17f8e87",
   "metadata": {},
   "outputs": [],
   "source": [
    "display(M)"
   ]
  },
  {
   "cell_type": "markdown",
   "id": "17fc56ae",
   "metadata": {},
   "source": [
    "# Prediction"
   ]
  },
  {
   "cell_type": "code",
   "execution_count": null,
   "id": "a54b82fc",
   "metadata": {},
   "outputs": [],
   "source": [
    "USER = 1090   # User to check\n",
    "CONTEXT = ('Weekend', 'Home', 'Partner')\n",
    "N = 10"
   ]
  },
  {
   "cell_type": "code",
   "execution_count": null,
   "id": "e1cf1e08",
   "metadata": {},
   "outputs": [],
   "source": [
    "# Context translation\n",
    "translated_context = []\n",
    "\n",
    "for cnt_index in range(len(CONTEXT)):\n",
    "    # 0 --> User\n",
    "    # 1 --> Item\n",
    "    # >= 2 --> context\n",
    "    map_index = cnt_index + 2\n",
    "    translation_table = user_item_context_encodings[map_index]\n",
    "    \n",
    "    translated_context.append(translation_table[CONTEXT[cnt_index]])\n",
    "\n",
    "translated_context = tuple(translated_context)\n",
    "display(translated_context)"
   ]
  },
  {
   "cell_type": "markdown",
   "id": "1cd6ffbb",
   "metadata": {},
   "source": [
    "## Ratings Prediction"
   ]
  },
  {
   "cell_type": "code",
   "execution_count": null,
   "id": "3423ee0a",
   "metadata": {},
   "outputs": [],
   "source": [
    "# Get K most similar users\n",
    "wanted_user = user_item_context_encodings[0][USER]\n",
    "\n",
    "scores = M[wanted_user]\n",
    "K_similar_users = np.argpartition(scores, -(K+1))[-(K+1):]\n",
    "\n",
    "if wanted_user in K_similar_users:\n",
    "    K_similar_users = K_similar_users[K_similar_users != wanted_user]\n",
    "else:\n",
    "    K_similar_users = K_similar_users[:-1]"
   ]
  },
  {
   "cell_type": "markdown",
   "id": "5ea9689e",
   "metadata": {},
   "source": [
    "### Get list of rated items"
   ]
  },
  {
   "cell_type": "code",
   "execution_count": null,
   "id": "e1e80732",
   "metadata": {},
   "outputs": [],
   "source": [
    "inferred_ratings = []\n",
    "user_rated_items = rating_matrix[wanted_user]"
   ]
  },
  {
   "cell_type": "markdown",
   "id": "dcabbfc3",
   "metadata": {},
   "source": [
    "### KNN"
   ]
  },
  {
   "cell_type": "code",
   "execution_count": null,
   "id": "787573da",
   "metadata": {},
   "outputs": [],
   "source": [
    "for item in range(len(user_rated_items)):\n",
    "    rating = user_rated_items[item]\n",
    "    \n",
    "    # Item has not been rated\n",
    "    if rating == 0:\n",
    "        rating_sum = 0\n",
    "        neighbor_count = 0\n",
    "        \n",
    "        for neighbor in K_similar_users:\n",
    "            neighbor_rating = rating_matrix[neighbor][item]\n",
    "            \n",
    "            # If neighbor has rated the item\n",
    "            if neighbor_rating != 0:\n",
    "                rating_sum += neighbor_rating\n",
    "                neighbor_count += 1\n",
    "            \n",
    "        inferred_rating = rating_sum / neighbor_count if neighbor_count != 0 else 0\n",
    "        \n",
    "        if inferred_rating != 0:\n",
    "            inferred_ratings.append((item, inferred_rating))"
   ]
  },
  {
   "cell_type": "code",
   "execution_count": null,
   "id": "ddfd8290",
   "metadata": {},
   "outputs": [],
   "source": [
    "mapped_ratings = []\n",
    "for i in inferred_ratings:\n",
    "    \n",
    "    # Get actual item encoding (from the cartesian product result)\n",
    "    item_context = context_T[i[0]]\n",
    "    \n",
    "    item = user_item_context_reverse_encodings[1][item_context[0]]\n",
    "    \n",
    "    new_entry = [item]\n",
    "    \n",
    "    for j in range(1, len(item_context)):\n",
    "        new_entry.append(item_context[j])\n",
    "    \n",
    "    new_entry.append(i[1])\n",
    "    \n",
    "    mapped_ratings.append(new_entry)"
   ]
  },
  {
   "cell_type": "code",
   "execution_count": null,
   "id": "d1241102",
   "metadata": {},
   "outputs": [],
   "source": [
    "predicted_df = pd.DataFrame(\n",
    "    mapped_ratings, \n",
    "    columns=[\n",
    "        'Item', \n",
    "        *encoded_df.columns[3:], \n",
    "        'predicted_rating']\n",
    ").sort_values(by='predicted_rating', ascending=False)\n",
    "display(predicted_df)"
   ]
  },
  {
   "cell_type": "markdown",
   "id": "c94c9938",
   "metadata": {},
   "source": [
    "## Recommendation Generation"
   ]
  },
  {
   "cell_type": "code",
   "execution_count": null,
   "id": "ae4e77da",
   "metadata": {},
   "outputs": [],
   "source": [
    "# Select N items to be recommended\n",
    "chosen = []\n",
    "\n",
    "for data in predicted_df.iterrows():\n",
    "    data_tup = tuple(data[1])\n",
    "    \n",
    "    if tuple(data[1][1:-1]) == translated_context:\n",
    "        \n",
    "        if len(chosen) <= N:\n",
    "            chosen.append(data_tup)\n",
    "\n",
    "for i in chosen:\n",
    "    print(i[:-1])"
   ]
  },
  {
   "cell_type": "markdown",
   "id": "036d69a1",
   "metadata": {},
   "source": [
    "## Rating Prediction Translated Result"
   ]
  },
  {
   "cell_type": "code",
   "execution_count": null,
   "id": "3c2a00c6",
   "metadata": {},
   "outputs": [],
   "source": [
    "mapped_ratings = []\n",
    "for i in inferred_ratings:\n",
    "    \n",
    "    # Get actual item encoding (from the cartesian product result)\n",
    "    item_context = context_T[i[0]]\n",
    "    \n",
    "    item = user_item_context_reverse_encodings[1][item_context[0]]\n",
    "    \n",
    "    new_entry = [item]\n",
    "    \n",
    "    # Translate remaining context\n",
    "    for j in range(1, len(item_context)):\n",
    "        # 1 --> item\n",
    "        # >= 2 --> context\n",
    "        translator = user_item_context_reverse_encodings[j+1]\n",
    "        new_entry.append(translator[item_context[j]])\n",
    "    \n",
    "    new_entry.append(i[1])\n",
    "    \n",
    "    mapped_ratings.append(new_entry)"
   ]
  },
  {
   "cell_type": "code",
   "execution_count": null,
   "id": "397316f1",
   "metadata": {},
   "outputs": [],
   "source": [
    "pd.DataFrame(\n",
    "    mapped_ratings, \n",
    "    columns=[\n",
    "        'Item', \n",
    "        *encoded_df.columns[3:], \n",
    "        'predicted_rating']\n",
    ").sort_values(by='predicted_rating', ascending=False)"
   ]
  }
 ],
 "metadata": {
  "kernelspec": {
   "display_name": "Python 3 (ipykernel)",
   "language": "python",
   "name": "python3"
  },
  "language_info": {
   "codemirror_mode": {
    "name": "ipython",
    "version": 3
   },
   "file_extension": ".py",
   "mimetype": "text/x-python",
   "name": "python",
   "nbconvert_exporter": "python",
   "pygments_lexer": "ipython3",
   "version": "3.9.12"
  }
 },
 "nbformat": 4,
 "nbformat_minor": 5
}
