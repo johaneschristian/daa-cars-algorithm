{
 "cells": [
  {
   "cell_type": "code",
   "execution_count": 2,
   "id": "f95166f7",
   "metadata": {},
   "outputs": [],
   "source": [
    "import pandas as pd\n",
    "import numpy as np"
   ]
  },
  {
   "cell_type": "code",
   "execution_count": 3,
   "id": "125fb438",
   "metadata": {},
   "outputs": [],
   "source": [
    "training = pd.read_csv('training_dataset.csv')"
   ]
  },
  {
   "cell_type": "code",
   "execution_count": 5,
   "id": "a4af51db",
   "metadata": {},
   "outputs": [
    {
     "data": {
      "text/html": [
       "<div>\n",
       "<style scoped>\n",
       "    .dataframe tbody tr th:only-of-type {\n",
       "        vertical-align: middle;\n",
       "    }\n",
       "\n",
       "    .dataframe tbody tr th {\n",
       "        vertical-align: top;\n",
       "    }\n",
       "\n",
       "    .dataframe thead th {\n",
       "        text-align: right;\n",
       "    }\n",
       "</style>\n",
       "<table border=\"1\" class=\"dataframe\">\n",
       "  <thead>\n",
       "    <tr style=\"text-align: right;\">\n",
       "      <th></th>\n",
       "      <th>userid</th>\n",
       "      <th>itemid</th>\n",
       "      <th>rating</th>\n",
       "      <th>Time</th>\n",
       "      <th>Location</th>\n",
       "      <th>Companion</th>\n",
       "    </tr>\n",
       "  </thead>\n",
       "  <tbody>\n",
       "    <tr>\n",
       "      <th>3445</th>\n",
       "      <td>1082</td>\n",
       "      <td>tt0110357</td>\n",
       "      <td>2</td>\n",
       "      <td>Weekend</td>\n",
       "      <td>Cinema</td>\n",
       "      <td>Alone</td>\n",
       "    </tr>\n",
       "    <tr>\n",
       "      <th>3469</th>\n",
       "      <td>1082</td>\n",
       "      <td>tt0110357</td>\n",
       "      <td>4</td>\n",
       "      <td>Weekend</td>\n",
       "      <td>Home</td>\n",
       "      <td>Family</td>\n",
       "    </tr>\n",
       "  </tbody>\n",
       "</table>\n",
       "</div>"
      ],
      "text/plain": [
       "     userid     itemid rating     Time Location Companion\n",
       "3445   1082  tt0110357      2  Weekend   Cinema     Alone\n",
       "3469   1082  tt0110357      4  Weekend     Home    Family"
      ]
     },
     "execution_count": 5,
     "metadata": {},
     "output_type": "execute_result"
    }
   ],
   "source": [
    "training[(training['userid'] == '1082') & \\\n",
    "        (training['itemid'] == 'tt0110357')]"
   ]
  },
  {
   "cell_type": "code",
   "execution_count": 6,
   "id": "5f88f107",
   "metadata": {},
   "outputs": [],
   "source": [
    "witheld = pd.read_csv('witheld_dataset.csv')"
   ]
  },
  {
   "cell_type": "code",
   "execution_count": 11,
   "id": "23acc492",
   "metadata": {},
   "outputs": [
    {
     "data": {
      "text/html": [
       "<div>\n",
       "<style scoped>\n",
       "    .dataframe tbody tr th:only-of-type {\n",
       "        vertical-align: middle;\n",
       "    }\n",
       "\n",
       "    .dataframe tbody tr th {\n",
       "        vertical-align: top;\n",
       "    }\n",
       "\n",
       "    .dataframe thead th {\n",
       "        text-align: right;\n",
       "    }\n",
       "</style>\n",
       "<table border=\"1\" class=\"dataframe\">\n",
       "  <thead>\n",
       "    <tr style=\"text-align: right;\">\n",
       "      <th></th>\n",
       "      <th>userid</th>\n",
       "      <th>itemid</th>\n",
       "      <th>rating</th>\n",
       "      <th>Time</th>\n",
       "      <th>Location</th>\n",
       "      <th>Companion</th>\n",
       "    </tr>\n",
       "  </thead>\n",
       "  <tbody>\n",
       "    <tr>\n",
       "      <th>10</th>\n",
       "      <td>1082</td>\n",
       "      <td>tt0110357</td>\n",
       "      <td>5</td>\n",
       "      <td>Weekday</td>\n",
       "      <td>Cinema</td>\n",
       "      <td>Partner</td>\n",
       "    </tr>\n",
       "    <tr>\n",
       "      <th>24</th>\n",
       "      <td>1082</td>\n",
       "      <td>tt0110357</td>\n",
       "      <td>5</td>\n",
       "      <td>Weekday</td>\n",
       "      <td>Cinema</td>\n",
       "      <td>Partner</td>\n",
       "    </tr>\n",
       "    <tr>\n",
       "      <th>56</th>\n",
       "      <td>1082</td>\n",
       "      <td>tt0110357</td>\n",
       "      <td>4</td>\n",
       "      <td>Weekend</td>\n",
       "      <td>Home</td>\n",
       "      <td>Family</td>\n",
       "    </tr>\n",
       "    <tr>\n",
       "      <th>133</th>\n",
       "      <td>1082</td>\n",
       "      <td>tt0110357</td>\n",
       "      <td>2</td>\n",
       "      <td>Weekend</td>\n",
       "      <td>Cinema</td>\n",
       "      <td>Alone</td>\n",
       "    </tr>\n",
       "  </tbody>\n",
       "</table>\n",
       "</div>"
      ],
      "text/plain": [
       "     userid     itemid  rating     Time Location Companion\n",
       "10     1082  tt0110357       5  Weekday   Cinema   Partner\n",
       "24     1082  tt0110357       5  Weekday   Cinema   Partner\n",
       "56     1082  tt0110357       4  Weekend     Home    Family\n",
       "133    1082  tt0110357       2  Weekend   Cinema     Alone"
      ]
     },
     "execution_count": 11,
     "metadata": {},
     "output_type": "execute_result"
    }
   ],
   "source": [
    "witheld[(witheld['userid'] == 1082) & (witheld['itemid'] == 'tt0110357') ]"
   ]
  },
  {
   "cell_type": "code",
   "execution_count": null,
   "id": "f0f73937",
   "metadata": {},
   "outputs": [],
   "source": []
  }
 ],
 "metadata": {
  "kernelspec": {
   "display_name": "Python 3 (ipykernel)",
   "language": "python",
   "name": "python3"
  },
  "language_info": {
   "codemirror_mode": {
    "name": "ipython",
    "version": 3
   },
   "file_extension": ".py",
   "mimetype": "text/x-python",
   "name": "python",
   "nbconvert_exporter": "python",
   "pygments_lexer": "ipython3",
   "version": "3.9.12"
  }
 },
 "nbformat": 4,
 "nbformat_minor": 5
}
