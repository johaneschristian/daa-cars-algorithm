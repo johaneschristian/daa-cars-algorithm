{
 "cells": [
  {
   "cell_type": "markdown",
   "id": "53833cc7",
   "metadata": {},
   "source": [
    "# Context-Aware Recommendation Algorithm by PAPERDAA-2"
   ]
  },
  {
   "cell_type": "code",
   "execution_count": 697,
   "id": "84e73941",
   "metadata": {},
   "outputs": [],
   "source": [
    "import numpy as np\n",
    "import pandas as pd\n",
    "from sklearn import preprocessing\n",
    "from itertools import product as cartesian_product"
   ]
  },
  {
   "cell_type": "markdown",
   "id": "1ff7bae3",
   "metadata": {},
   "source": [
    "# Training"
   ]
  },
  {
   "cell_type": "markdown",
   "id": "7d8858c5",
   "metadata": {},
   "source": [
    "## Program Arguments"
   ]
  },
  {
   "cell_type": "code",
   "execution_count": 698,
   "id": "af501bd7",
   "metadata": {},
   "outputs": [],
   "source": [
    "LMAX = 64     # Maximum transitive path length\n",
    "K = 60"
   ]
  },
  {
   "cell_type": "markdown",
   "id": "d663b8a1",
   "metadata": {},
   "source": [
    "## Preprocessing"
   ]
  },
  {
   "cell_type": "code",
   "execution_count": 699,
   "id": "6baf61de",
   "metadata": {
    "scrolled": true
   },
   "outputs": [
    {
     "data": {
      "text/html": [
       "<div>\n",
       "<style scoped>\n",
       "    .dataframe tbody tr th:only-of-type {\n",
       "        vertical-align: middle;\n",
       "    }\n",
       "\n",
       "    .dataframe tbody tr th {\n",
       "        vertical-align: top;\n",
       "    }\n",
       "\n",
       "    .dataframe thead th {\n",
       "        text-align: right;\n",
       "    }\n",
       "</style>\n",
       "<table border=\"1\" class=\"dataframe\">\n",
       "  <thead>\n",
       "    <tr style=\"text-align: right;\">\n",
       "      <th></th>\n",
       "      <th>userid</th>\n",
       "      <th>itemid</th>\n",
       "      <th>rating</th>\n",
       "      <th>Time</th>\n",
       "      <th>Location</th>\n",
       "      <th>Companion</th>\n",
       "    </tr>\n",
       "  </thead>\n",
       "  <tbody>\n",
       "    <tr>\n",
       "      <th>0</th>\n",
       "      <td>1003</td>\n",
       "      <td>tt0454876</td>\n",
       "      <td>1</td>\n",
       "      <td>Weekday</td>\n",
       "      <td>Cinema</td>\n",
       "      <td>Alone</td>\n",
       "    </tr>\n",
       "    <tr>\n",
       "      <th>1</th>\n",
       "      <td>1003</td>\n",
       "      <td>tt0120912</td>\n",
       "      <td>1</td>\n",
       "      <td>Weekday</td>\n",
       "      <td>Cinema</td>\n",
       "      <td>Alone</td>\n",
       "    </tr>\n",
       "    <tr>\n",
       "      <th>2</th>\n",
       "      <td>1003</td>\n",
       "      <td>tt3793764</td>\n",
       "      <td>1</td>\n",
       "      <td>Weekday</td>\n",
       "      <td>Cinema</td>\n",
       "      <td>Alone</td>\n",
       "    </tr>\n",
       "    <tr>\n",
       "      <th>3</th>\n",
       "      <td>1003</td>\n",
       "      <td>tt0114148</td>\n",
       "      <td>1</td>\n",
       "      <td>Weekday</td>\n",
       "      <td>Cinema</td>\n",
       "      <td>Alone</td>\n",
       "    </tr>\n",
       "    <tr>\n",
       "      <th>4</th>\n",
       "      <td>1003</td>\n",
       "      <td>tt0110357</td>\n",
       "      <td>1</td>\n",
       "      <td>Weekday</td>\n",
       "      <td>Cinema</td>\n",
       "      <td>Alone</td>\n",
       "    </tr>\n",
       "  </tbody>\n",
       "</table>\n",
       "</div>"
      ],
      "text/plain": [
       "   userid     itemid  rating     Time Location Companion\n",
       "0    1003  tt0454876       1  Weekday   Cinema     Alone\n",
       "1    1003  tt0120912       1  Weekday   Cinema     Alone\n",
       "2    1003  tt3793764       1  Weekday   Cinema     Alone\n",
       "3    1003  tt0114148       1  Weekday   Cinema     Alone\n",
       "4    1003  tt0110357       1  Weekday   Cinema     Alone"
      ]
     },
     "execution_count": 699,
     "metadata": {},
     "output_type": "execute_result"
    }
   ],
   "source": [
    "df = pd.read_csv('fold1.csv')\n",
    "df.head(5)"
   ]
  },
  {
   "cell_type": "code",
   "execution_count": 700,
   "id": "d91056a7",
   "metadata": {},
   "outputs": [
    {
     "name": "stdout",
     "output_type": "stream",
     "text": [
      "{'tt0088763': 0, 'tt0109830': 1, 'tt0110357': 2, 'tt0110475': 3, 'tt0111161': 4, 'tt0114148': 5, 'tt0114369': 6, 'tt0120338': 7, 'tt0120912': 8, 'tt0125439': 9, 'tt0133093': 10, 'tt0138097': 11, 'tt0147800': 12, 'tt0169547': 13, 'tt0181689': 14, 'tt0211915': 15, 'tt0213149': 16, 'tt0232500': 17, 'tt0266543': 18, 'tt0268380': 19, 'tt0289879': 20, 'tt0293662': 21, 'tt0315733': 22, 'tt0319262': 23, 'tt0327084': 24, 'tt0343660': 25, 'tt0356910': 26, 'tt0362165': 27, 'tt0367594': 28, 'tt0376541': 29, 'tt0378194': 30, 'tt0382625': 31, 'tt0388795': 32, 'tt0405422': 33, 'tt0407304': 34, 'tt0413267': 35, 'tt0441773': 36, 'tt0454848': 37, 'tt0454876': 38, 'tt0462538': 39, 'tt0489099': 40, 'tt0800369': 41, 'tt0816199': 42, 'tt0944835': 43, 'tt0945513': 44, 'tt0993846': 45, 'tt1041829': 46, 'tt1055369': 47, 'tt1068680': 48, 'tt1099212': 49, 'tt1133985': 50, 'tt1190080': 51, 'tt1232829': 52, 'tt1291150': 53, 'tt1369829': 54, 'tt1375666': 55, 'tt1453405': 56, 'tt1478338': 57, 'tt1499658': 58, 'tt1564367': 59, 'tt1596343': 60, 'tt1632708': 61, 'tt1637706': 62, 'tt1657301': 63, 'tt1707386': 64, 'tt1924435': 65, 'tt2096673': 66, 'tt2251217': 67, 'tt2557490': 68, 'tt2574698': 69, 'tt3203616': 70, 'tt3254460': 71, 'tt3510098': 72, 'tt3637328': 73, 'tt3793764': 74, 'tt4052394': 75, 'tt4411490': 76, 'ttnanana1': 77, 'ttnanana2': 78}\n",
      "\n",
      "{0: 'tt0088763', 1: 'tt0109830', 2: 'tt0110357', 3: 'tt0110475', 4: 'tt0111161', 5: 'tt0114148', 6: 'tt0114369', 7: 'tt0120338', 8: 'tt0120912', 9: 'tt0125439', 10: 'tt0133093', 11: 'tt0138097', 12: 'tt0147800', 13: 'tt0169547', 14: 'tt0181689', 15: 'tt0211915', 16: 'tt0213149', 17: 'tt0232500', 18: 'tt0266543', 19: 'tt0268380', 20: 'tt0289879', 21: 'tt0293662', 22: 'tt0315733', 23: 'tt0319262', 24: 'tt0327084', 25: 'tt0343660', 26: 'tt0356910', 27: 'tt0362165', 28: 'tt0367594', 29: 'tt0376541', 30: 'tt0378194', 31: 'tt0382625', 32: 'tt0388795', 33: 'tt0405422', 34: 'tt0407304', 35: 'tt0413267', 36: 'tt0441773', 37: 'tt0454848', 38: 'tt0454876', 39: 'tt0462538', 40: 'tt0489099', 41: 'tt0800369', 42: 'tt0816199', 43: 'tt0944835', 44: 'tt0945513', 45: 'tt0993846', 46: 'tt1041829', 47: 'tt1055369', 48: 'tt1068680', 49: 'tt1099212', 50: 'tt1133985', 51: 'tt1190080', 52: 'tt1232829', 53: 'tt1291150', 54: 'tt1369829', 55: 'tt1375666', 56: 'tt1453405', 57: 'tt1478338', 58: 'tt1499658', 59: 'tt1564367', 60: 'tt1596343', 61: 'tt1632708', 62: 'tt1637706', 63: 'tt1657301', 64: 'tt1707386', 65: 'tt1924435', 66: 'tt2096673', 67: 'tt2251217', 68: 'tt2557490', 69: 'tt2574698', 70: 'tt3203616', 71: 'tt3254460', 72: 'tt3510098', 73: 'tt3637328', 74: 'tt3793764', 75: 'tt4052394', 76: 'tt4411490', 77: 'ttnanana1', 78: 'ttnanana2'}\n"
     ]
    }
   ],
   "source": [
    "encoder = preprocessing.LabelEncoder()\n",
    "\n",
    "user_item_context_encodings = []\n",
    "user_item_context_reverse_encodings = []\n",
    "maximum_rating = df[df.columns[2]].max()\n",
    "\n",
    "encoded_df = df.copy()\n",
    "# Encode userid, itemid, and contextual informations for item splitting\n",
    "for column_index in range(len(df.columns)):\n",
    "    \n",
    "    # Column attribute is not rating\n",
    "    if column_index != 2:\n",
    "        \n",
    "        # Fit encoder\n",
    "        encoder.fit(df[df.columns[column_index]])\n",
    "        encoded_df[df.columns[column_index]] = encoder.transform(\n",
    "                df[df.columns[column_index]]\n",
    "            )\n",
    "    \n",
    "    # Column is nor user or rating\n",
    "    if column_index != 2:\n",
    "            user_item_context_encodings.append(\n",
    "                dict(zip(encoder.classes_, encoder.transform(encoder.classes_)))\n",
    "            )\n",
    "            user_item_context_reverse_encodings.append(\n",
    "                dict(zip(encoder.transform(encoder.classes_), encoder.classes_))\n",
    "            )\n",
    "\n",
    "print(user_item_context_encodings[1], end=\"\\n\\n\")\n",
    "\n",
    "print(user_item_context_reverse_encodings[1])"
   ]
  },
  {
   "cell_type": "code",
   "execution_count": 701,
   "id": "26a86eb1",
   "metadata": {},
   "outputs": [
    {
     "data": {
      "text/html": [
       "<div>\n",
       "<style scoped>\n",
       "    .dataframe tbody tr th:only-of-type {\n",
       "        vertical-align: middle;\n",
       "    }\n",
       "\n",
       "    .dataframe tbody tr th {\n",
       "        vertical-align: top;\n",
       "    }\n",
       "\n",
       "    .dataframe thead th {\n",
       "        text-align: right;\n",
       "    }\n",
       "</style>\n",
       "<table border=\"1\" class=\"dataframe\">\n",
       "  <thead>\n",
       "    <tr style=\"text-align: right;\">\n",
       "      <th></th>\n",
       "      <th>userid</th>\n",
       "      <th>itemid</th>\n",
       "      <th>rating</th>\n",
       "      <th>Time</th>\n",
       "      <th>Location</th>\n",
       "      <th>Companion</th>\n",
       "    </tr>\n",
       "  </thead>\n",
       "  <tbody>\n",
       "    <tr>\n",
       "      <th>0</th>\n",
       "      <td>2</td>\n",
       "      <td>38</td>\n",
       "      <td>1</td>\n",
       "      <td>0</td>\n",
       "      <td>0</td>\n",
       "      <td>0</td>\n",
       "    </tr>\n",
       "    <tr>\n",
       "      <th>1</th>\n",
       "      <td>2</td>\n",
       "      <td>8</td>\n",
       "      <td>1</td>\n",
       "      <td>0</td>\n",
       "      <td>0</td>\n",
       "      <td>0</td>\n",
       "    </tr>\n",
       "    <tr>\n",
       "      <th>2</th>\n",
       "      <td>2</td>\n",
       "      <td>74</td>\n",
       "      <td>1</td>\n",
       "      <td>0</td>\n",
       "      <td>0</td>\n",
       "      <td>0</td>\n",
       "    </tr>\n",
       "    <tr>\n",
       "      <th>3</th>\n",
       "      <td>2</td>\n",
       "      <td>5</td>\n",
       "      <td>1</td>\n",
       "      <td>0</td>\n",
       "      <td>0</td>\n",
       "      <td>0</td>\n",
       "    </tr>\n",
       "    <tr>\n",
       "      <th>4</th>\n",
       "      <td>2</td>\n",
       "      <td>2</td>\n",
       "      <td>1</td>\n",
       "      <td>0</td>\n",
       "      <td>0</td>\n",
       "      <td>0</td>\n",
       "    </tr>\n",
       "    <tr>\n",
       "      <th>...</th>\n",
       "      <td>...</td>\n",
       "      <td>...</td>\n",
       "      <td>...</td>\n",
       "      <td>...</td>\n",
       "      <td>...</td>\n",
       "      <td>...</td>\n",
       "    </tr>\n",
       "    <tr>\n",
       "      <th>7009</th>\n",
       "      <td>65</td>\n",
       "      <td>35</td>\n",
       "      <td>1</td>\n",
       "      <td>1</td>\n",
       "      <td>1</td>\n",
       "      <td>2</td>\n",
       "    </tr>\n",
       "    <tr>\n",
       "      <th>7010</th>\n",
       "      <td>65</td>\n",
       "      <td>62</td>\n",
       "      <td>2</td>\n",
       "      <td>1</td>\n",
       "      <td>1</td>\n",
       "      <td>2</td>\n",
       "    </tr>\n",
       "    <tr>\n",
       "      <th>7011</th>\n",
       "      <td>65</td>\n",
       "      <td>25</td>\n",
       "      <td>1</td>\n",
       "      <td>1</td>\n",
       "      <td>1</td>\n",
       "      <td>2</td>\n",
       "    </tr>\n",
       "    <tr>\n",
       "      <th>7012</th>\n",
       "      <td>65</td>\n",
       "      <td>50</td>\n",
       "      <td>1</td>\n",
       "      <td>1</td>\n",
       "      <td>1</td>\n",
       "      <td>2</td>\n",
       "    </tr>\n",
       "    <tr>\n",
       "      <th>7013</th>\n",
       "      <td>65</td>\n",
       "      <td>49</td>\n",
       "      <td>1</td>\n",
       "      <td>1</td>\n",
       "      <td>1</td>\n",
       "      <td>2</td>\n",
       "    </tr>\n",
       "  </tbody>\n",
       "</table>\n",
       "<p>7014 rows × 6 columns</p>\n",
       "</div>"
      ],
      "text/plain": [
       "      userid  itemid  rating  Time  Location  Companion\n",
       "0          2      38       1     0         0          0\n",
       "1          2       8       1     0         0          0\n",
       "2          2      74       1     0         0          0\n",
       "3          2       5       1     0         0          0\n",
       "4          2       2       1     0         0          0\n",
       "...      ...     ...     ...   ...       ...        ...\n",
       "7009      65      35       1     1         1          2\n",
       "7010      65      62       2     1         1          2\n",
       "7011      65      25       1     1         1          2\n",
       "7012      65      50       1     1         1          2\n",
       "7013      65      49       1     1         1          2\n",
       "\n",
       "[7014 rows x 6 columns]"
      ]
     },
     "metadata": {},
     "output_type": "display_data"
    }
   ],
   "source": [
    "display(encoded_df)"
   ]
  },
  {
   "cell_type": "markdown",
   "id": "4f44d5fe",
   "metadata": {},
   "source": [
    "## Item Splitting"
   ]
  },
  {
   "cell_type": "code",
   "execution_count": 702,
   "id": "367e3034",
   "metadata": {},
   "outputs": [],
   "source": [
    "# Cartesian product all items and contexts\n",
    "\n",
    "users = user_item_context_encodings[0].values()\n",
    "items = user_item_context_encodings[1].values()\n",
    "contexts = [\n",
    "    context_trans.values() for context_trans in user_item_context_encodings[2:]\n",
    "]\n",
    "\n",
    "context_T = list(cartesian_product(items, *contexts))"
   ]
  },
  {
   "cell_type": "code",
   "execution_count": 703,
   "id": "25a18d77",
   "metadata": {},
   "outputs": [],
   "source": [
    "# Generate new user-item matrix for new items\n",
    "rating_matrix = np.zeros((len(users), len(context_T)), dtype=object)"
   ]
  },
  {
   "cell_type": "code",
   "execution_count": 704,
   "id": "85a120f7",
   "metadata": {
    "scrolled": true
   },
   "outputs": [],
   "source": [
    "for row in encoded_df.iterrows():\n",
    "    data = tuple(row[1])\n",
    "    user = data[0]\n",
    "    item = data[1]\n",
    "    rating = data[2]\n",
    "    context_item = (item, *data[3:])\n",
    "    \n",
    "    index = context_T.index(context_item)\n",
    "    \n",
    "    rating_matrix[user][index] = rating/maximum_rating"
   ]
  },
  {
   "cell_type": "code",
   "execution_count": 705,
   "id": "9518c4cf",
   "metadata": {},
   "outputs": [
    {
     "data": {
      "text/plain": [
       "array([[0, 0, 0, ..., 0, 0, 0],\n",
       "       [0, 0, 0, ..., 0, 0, 0],\n",
       "       [0.2, 0, 0, ..., 0, 0, 0],\n",
       "       ...,\n",
       "       [0, 0, 0, ..., 0, 0, 0],\n",
       "       [1.0, 0.8, 1.0, ..., 0, 0, 0],\n",
       "       [0, 0, 0, ..., 0, 0, 0]], dtype=object)"
      ]
     },
     "metadata": {},
     "output_type": "display_data"
    }
   ],
   "source": [
    "display(rating_matrix)"
   ]
  },
  {
   "cell_type": "markdown",
   "id": "e11a9967",
   "metadata": {},
   "source": [
    "## Graph Similarity Calculation (User-Based)"
   ]
  },
  {
   "cell_type": "code",
   "execution_count": 706,
   "id": "a2efb160",
   "metadata": {},
   "outputs": [],
   "source": [
    "rating_matrix_transposed = np.transpose(rating_matrix)"
   ]
  },
  {
   "cell_type": "code",
   "execution_count": 707,
   "id": "30c841d5",
   "metadata": {},
   "outputs": [],
   "source": [
    "L = 0\n",
    "\n",
    "WWT = np.matmul(rating_matrix, rating_matrix_transposed)\n",
    "M = np.matmul(rating_matrix, rating_matrix_transposed)\n",
    "\n",
    "while L != LMAX:\n",
    "    M = np.matmul(WWT, M)\n",
    "    L = L + 2"
   ]
  },
  {
   "cell_type": "code",
   "execution_count": 708,
   "id": "c17f8e87",
   "metadata": {},
   "outputs": [
    {
     "data": {
      "text/plain": [
       "array([[2.0237070794127122e+70, 1.9021091831483966e+70,\n",
       "        6.2630634360575696e+69, ..., 4.1071533836889e+70,\n",
       "        5.193301979878106e+70, 1.7600611425969454e+70],\n",
       "       [1.9021091831483947e+70, 1.787817705017248e+70,\n",
       "        5.886736579053427e+69, ..., 3.860368052073188e+70,\n",
       "        4.881253566705946e+70, 1.6543048637552317e+70],\n",
       "       [6.263063436057566e+69, 5.886736579053426e+69,\n",
       "        1.938322207062486e+69, ..., 1.2711010567230068e+70,\n",
       "        1.607247422009859e+70, 5.4471196538455e+69],\n",
       "       ...,\n",
       "       [4.107153383688897e+70, 3.8603680520731864e+70,\n",
       "        1.2711010567230069e+70, ..., 8.335548752830638e+70,\n",
       "        1.0539908618300876e+71, 3.572078752874245e+70],\n",
       "       [5.193301979878103e+70, 4.8812535667059455e+70,\n",
       "        1.6072474220098604e+70, ..., 1.053990861830088e+71,\n",
       "        1.33272180784875e+71, 4.5167253342893486e+70],\n",
       "       [1.7600611425969448e+70, 1.6543048637552317e+70,\n",
       "        5.4471196538455004e+69, ..., 3.572078752874246e+70,\n",
       "        4.516725334289347e+70, 1.5307626582969934e+70]], dtype=object)"
      ]
     },
     "metadata": {},
     "output_type": "display_data"
    }
   ],
   "source": [
    "display(M)"
   ]
  },
  {
   "cell_type": "markdown",
   "id": "17fc56ae",
   "metadata": {},
   "source": [
    "# Prediction"
   ]
  },
  {
   "cell_type": "code",
   "execution_count": 709,
   "id": "a54b82fc",
   "metadata": {},
   "outputs": [],
   "source": [
    "USER = 1016   # User to check\n",
    "N = 10"
   ]
  },
  {
   "cell_type": "code",
   "execution_count": 710,
   "id": "e1cf1e08",
   "metadata": {},
   "outputs": [],
   "source": [
    "# # Context translation\n",
    "# translated_context = []\n",
    "\n",
    "# for cnt_index in range(len(CONTEXT)):\n",
    "#     # 0 --> User\n",
    "#     # 1 --> Item\n",
    "#     # >= 2 --> context\n",
    "#     map_index = cnt_index + 2\n",
    "#     translation_table = user_item_context_encodings[map_index]\n",
    "    \n",
    "#     translated_context.append(translation_table[CONTEXT[cnt_index]])\n",
    "\n",
    "# translated_context = tuple(translated_context)\n",
    "# display(translated_context)"
   ]
  },
  {
   "cell_type": "markdown",
   "id": "1cd6ffbb",
   "metadata": {},
   "source": [
    "## Ratings Prediction"
   ]
  },
  {
   "cell_type": "code",
   "execution_count": 711,
   "id": "3423ee0a",
   "metadata": {},
   "outputs": [
    {
     "name": "stdout",
     "output_type": "stream",
     "text": [
      "1064 3.0088390844481863e+70\n",
      "1018 3.063597409891779e+70\n",
      "1075 3.126710021778636e+70\n",
      "1037 3.21376470744407e+70\n",
      "1045 3.3633130592679916e+70\n",
      "1056 3.4373436534436326e+70\n",
      "1084 3.602023775308071e+70\n",
      "1114 3.6516222299606774e+70\n",
      "1011 3.707634963264652e+70\n",
      "1112 3.787164048406158e+70\n",
      "1054 3.867252294681388e+70\n",
      "1035 3.9731575916660455e+70\n",
      "1113 3.9973225828947753e+70\n",
      "1109 4.011394002757031e+70\n",
      "1014 4.012661634463937e+70\n",
      "1040 4.095512121463542e+70\n",
      "1105 4.280744870156414e+70\n",
      "1068 4.408595616998372e+70\n",
      "1047 4.472856586424395e+70\n",
      "1034 4.4775688136045637e+70\n",
      "1039 4.5848318974036184e+70\n",
      "1065 4.598242415378376e+70\n",
      "1060 4.6661564469133324e+70\n",
      "1055 4.6920350831529694e+70\n",
      "1044 5.041127837267102e+70\n",
      "1049 5.0480067519547914e+70\n",
      "1061 5.1815930234859014e+70\n",
      "1015 5.54293579640467e+70\n",
      "1005 5.647823728783339e+70\n",
      "1119 5.799892607524853e+70\n",
      "1006 6.42504362608687e+70\n",
      "1008 6.454333771843442e+70\n",
      "1077 6.46208150809425e+70\n",
      "1004 6.620537999532373e+70\n",
      "1033 6.780390581424756e+70\n",
      "1041 6.883446264653437e+70\n",
      "1078 7.021704322158921e+70\n",
      "1043 7.321837149513771e+70\n",
      "1120 7.333691007141288e+70\n",
      "1115 7.45845277851807e+70\n",
      "1070 7.486786065739644e+70\n",
      "1053 8.113300990052396e+70\n",
      "1042 8.25929570508694e+70\n",
      "1079 8.413448241081005e+70\n",
      "1028 8.514546296841368e+70\n",
      "1097 8.685584746774113e+70\n",
      "1051 8.814681563768112e+70\n",
      "1076 9.677680849181312e+70\n",
      "1069 9.846938423760898e+70\n",
      "1052 1.0309453087212706e+71\n",
      "1050 1.0353412471095142e+71\n",
      "1062 1.132515276587758e+71\n",
      "1087 1.181192180914825e+71\n",
      "1071 1.2504449905564323e+71\n",
      "1032 1.3537566522191948e+71\n",
      "1031 1.3862611581822536e+71\n",
      "1116 1.4821620084185769e+71\n",
      "1098 1.658540456283689e+71\n",
      "1058 1.7359288456303048e+71\n",
      "1082 2.8869435497790627e+71\n"
     ]
    }
   ],
   "source": [
    "# Get K most similar users\n",
    "wanted_user = user_item_context_encodings[0][USER]\n",
    "\n",
    "scores = M[wanted_user]\n",
    "K_similar_users = np.argpartition(scores, -(K+1))[-(K+1):]\n",
    "\n",
    "if wanted_user in K_similar_users:\n",
    "    K_similar_users = K_similar_users[K_similar_users != wanted_user]\n",
    "else:\n",
    "    K_similar_users = K_similar_users[:-1]\n",
    "\n",
    "for usr in K_similar_users:\n",
    "    print(user_item_context_reverse_encodings[0][usr], scores[usr])"
   ]
  },
  {
   "cell_type": "markdown",
   "id": "5ea9689e",
   "metadata": {},
   "source": [
    "### Get list of rated items"
   ]
  },
  {
   "cell_type": "code",
   "execution_count": 712,
   "id": "e1e80732",
   "metadata": {},
   "outputs": [],
   "source": [
    "inferred_ratings = []\n",
    "user_rated_items = rating_matrix[wanted_user]"
   ]
  },
  {
   "cell_type": "code",
   "execution_count": 713,
   "id": "33194670",
   "metadata": {},
   "outputs": [
    {
     "data": {
      "text/plain": [
       "64"
      ]
     },
     "execution_count": 713,
     "metadata": {},
     "output_type": "execute_result"
    }
   ],
   "source": [
    "user_item_context_encodings[1]['tt1707386']"
   ]
  },
  {
   "cell_type": "markdown",
   "id": "dcabbfc3",
   "metadata": {},
   "source": [
    "### KNN"
   ]
  },
  {
   "cell_type": "code",
   "execution_count": 714,
   "id": "787573da",
   "metadata": {},
   "outputs": [],
   "source": [
    "for item in range(len(user_rated_items)):\n",
    "    rating = user_rated_items[item]\n",
    "    \n",
    "    # Item has not been rated\n",
    "    if rating == 0:\n",
    "        rating_sum = 0\n",
    "        neighbor_count = 0\n",
    "        \n",
    "        for neighbor in K_similar_users:\n",
    "            neighbor_rating = rating_matrix[neighbor][item]\n",
    "            \n",
    "            # If neighbor has rated the item\n",
    "            if neighbor_rating != 0:\n",
    "                rating_sum += neighbor_rating\n",
    "                neighbor_count += 1\n",
    "            \n",
    "        inferred_rating = rating_sum / neighbor_count if neighbor_count != 0 else 0\n",
    "        \n",
    "        if inferred_rating != 0:\n",
    "            inferred_ratings.append((item, inferred_rating))"
   ]
  },
  {
   "cell_type": "code",
   "execution_count": 715,
   "id": "ddfd8290",
   "metadata": {},
   "outputs": [],
   "source": [
    "mapped_ratings = []\n",
    "for i in inferred_ratings:\n",
    "    # Get actual item encoding (from the cartesian product result)\n",
    "    item_context = context_T[i[0]]\n",
    "    \n",
    "    item = user_item_context_reverse_encodings[1][item_context[0]]\n",
    "    \n",
    "    new_entry = [item]\n",
    "    \n",
    "    for j in range(1, len(item_context)):\n",
    "        new_entry.append(item_context[j])\n",
    "    \n",
    "    new_entry.append(i[1])\n",
    "    \n",
    "    mapped_ratings.append(new_entry)"
   ]
  },
  {
   "cell_type": "code",
   "execution_count": 716,
   "id": "d1241102",
   "metadata": {},
   "outputs": [
    {
     "data": {
      "text/html": [
       "<div>\n",
       "<style scoped>\n",
       "    .dataframe tbody tr th:only-of-type {\n",
       "        vertical-align: middle;\n",
       "    }\n",
       "\n",
       "    .dataframe tbody tr th {\n",
       "        vertical-align: top;\n",
       "    }\n",
       "\n",
       "    .dataframe thead th {\n",
       "        text-align: right;\n",
       "    }\n",
       "</style>\n",
       "<table border=\"1\" class=\"dataframe\">\n",
       "  <thead>\n",
       "    <tr style=\"text-align: right;\">\n",
       "      <th></th>\n",
       "      <th>Item</th>\n",
       "      <th>Time</th>\n",
       "      <th>Location</th>\n",
       "      <th>Companion</th>\n",
       "      <th>predicted_rating</th>\n",
       "    </tr>\n",
       "  </thead>\n",
       "  <tbody>\n",
       "    <tr>\n",
       "      <th>85</th>\n",
       "      <td>tt0120338</td>\n",
       "      <td>1</td>\n",
       "      <td>1</td>\n",
       "      <td>2</td>\n",
       "      <td>1.0</td>\n",
       "    </tr>\n",
       "    <tr>\n",
       "      <th>797</th>\n",
       "      <td>ttnanana2</td>\n",
       "      <td>0</td>\n",
       "      <td>0</td>\n",
       "      <td>2</td>\n",
       "      <td>1.0</td>\n",
       "    </tr>\n",
       "    <tr>\n",
       "      <th>776</th>\n",
       "      <td>tt4411490</td>\n",
       "      <td>0</td>\n",
       "      <td>0</td>\n",
       "      <td>2</td>\n",
       "      <td>1.0</td>\n",
       "    </tr>\n",
       "    <tr>\n",
       "      <th>451</th>\n",
       "      <td>tt0816199</td>\n",
       "      <td>1</td>\n",
       "      <td>0</td>\n",
       "      <td>1</td>\n",
       "      <td>1.0</td>\n",
       "    </tr>\n",
       "    <tr>\n",
       "      <th>317</th>\n",
       "      <td>tt0378194</td>\n",
       "      <td>0</td>\n",
       "      <td>1</td>\n",
       "      <td>2</td>\n",
       "      <td>1.0</td>\n",
       "    </tr>\n",
       "    <tr>\n",
       "      <th>...</th>\n",
       "      <td>...</td>\n",
       "      <td>...</td>\n",
       "      <td>...</td>\n",
       "      <td>...</td>\n",
       "      <td>...</td>\n",
       "    </tr>\n",
       "    <tr>\n",
       "      <th>718</th>\n",
       "      <td>tt3203616</td>\n",
       "      <td>1</td>\n",
       "      <td>0</td>\n",
       "      <td>0</td>\n",
       "      <td>0.2</td>\n",
       "    </tr>\n",
       "    <tr>\n",
       "      <th>752</th>\n",
       "      <td>tt3637328</td>\n",
       "      <td>1</td>\n",
       "      <td>1</td>\n",
       "      <td>2</td>\n",
       "      <td>0.2</td>\n",
       "    </tr>\n",
       "    <tr>\n",
       "      <th>715</th>\n",
       "      <td>tt2574698</td>\n",
       "      <td>1</td>\n",
       "      <td>0</td>\n",
       "      <td>0</td>\n",
       "      <td>0.2</td>\n",
       "    </tr>\n",
       "    <tr>\n",
       "      <th>713</th>\n",
       "      <td>tt2574698</td>\n",
       "      <td>0</td>\n",
       "      <td>1</td>\n",
       "      <td>0</td>\n",
       "      <td>0.2</td>\n",
       "    </tr>\n",
       "    <tr>\n",
       "      <th>716</th>\n",
       "      <td>tt2574698</td>\n",
       "      <td>1</td>\n",
       "      <td>0</td>\n",
       "      <td>2</td>\n",
       "      <td>0.2</td>\n",
       "    </tr>\n",
       "  </tbody>\n",
       "</table>\n",
       "<p>806 rows × 5 columns</p>\n",
       "</div>"
      ],
      "text/plain": [
       "          Item  Time  Location  Companion  predicted_rating\n",
       "85   tt0120338     1         1          2               1.0\n",
       "797  ttnanana2     0         0          2               1.0\n",
       "776  tt4411490     0         0          2               1.0\n",
       "451  tt0816199     1         0          1               1.0\n",
       "317  tt0378194     0         1          2               1.0\n",
       "..         ...   ...       ...        ...               ...\n",
       "718  tt3203616     1         0          0               0.2\n",
       "752  tt3637328     1         1          2               0.2\n",
       "715  tt2574698     1         0          0               0.2\n",
       "713  tt2574698     0         1          0               0.2\n",
       "716  tt2574698     1         0          2               0.2\n",
       "\n",
       "[806 rows x 5 columns]"
      ]
     },
     "metadata": {},
     "output_type": "display_data"
    }
   ],
   "source": [
    "predicted_df = pd.DataFrame(\n",
    "    mapped_ratings, \n",
    "    columns=[\n",
    "        'Item', \n",
    "        *encoded_df.columns[3:], \n",
    "        'predicted_rating']\n",
    ").sort_values(by='predicted_rating', ascending=False)\n",
    "display(predicted_df)"
   ]
  },
  {
   "cell_type": "markdown",
   "id": "c94c9938",
   "metadata": {},
   "source": [
    "## Recommendation Generation"
   ]
  },
  {
   "cell_type": "code",
   "execution_count": 717,
   "id": "ae4e77da",
   "metadata": {},
   "outputs": [
    {
     "name": "stdout",
     "output_type": "stream",
     "text": [
      "tt0120338 Weekend Home Partner 1.0\n",
      "ttnanana2 Weekday Cinema Partner 1.0\n",
      "tt4411490 Weekday Cinema Partner 1.0\n",
      "tt0816199 Weekend Cinema Family 1.0\n",
      "tt0378194 Weekday Home Partner 1.0\n",
      "tt2096673 Weekday Cinema Partner 1.0\n",
      "tt0110357 Weekday Home Partner 1.0\n",
      "tt0125439 Weekend Home Alone 1.0\n",
      "tt0268380 Weekend Cinema Family 1.0\n",
      "tt2096673 Weekday Home Alone 1.0\n"
     ]
    }
   ],
   "source": [
    "# Select N items to be recommended\n",
    "chosen = []\n",
    "\n",
    "for data in predicted_df.iterrows():\n",
    "    data_tup = tuple(data[1])\n",
    "        \n",
    "    if len(chosen) < N:\n",
    "        chosen.append(data_tup)\n",
    "\n",
    "for i in chosen:\n",
    "    print(\n",
    "        i[0], \n",
    "        user_item_context_reverse_encodings[2][i[1]],\n",
    "        user_item_context_reverse_encodings[3][i[2]],\n",
    "        user_item_context_reverse_encodings[4][i[3]],\n",
    "        i[4]\n",
    "    )"
   ]
  },
  {
   "cell_type": "markdown",
   "id": "036d69a1",
   "metadata": {},
   "source": [
    "## Rating Prediction Translated Result"
   ]
  },
  {
   "cell_type": "code",
   "execution_count": 718,
   "id": "3c2a00c6",
   "metadata": {},
   "outputs": [],
   "source": [
    "mapped_ratings = []\n",
    "for i in inferred_ratings:\n",
    "    \n",
    "    # Get actual item encoding (from the cartesian product result)\n",
    "    item_context = context_T[i[0]]\n",
    "    \n",
    "    item = user_item_context_reverse_encodings[1][item_context[0]]\n",
    "    \n",
    "    new_entry = [item]\n",
    "    \n",
    "    # Translate remaining context\n",
    "    for j in range(1, len(item_context)):\n",
    "        # 1 --> item\n",
    "        # >= 2 --> context\n",
    "        translator = user_item_context_reverse_encodings[j+1]\n",
    "        new_entry.append(translator[item_context[j]])\n",
    "    \n",
    "    new_entry.append(i[1])\n",
    "    \n",
    "    mapped_ratings.append(new_entry)"
   ]
  },
  {
   "cell_type": "code",
   "execution_count": 719,
   "id": "397316f1",
   "metadata": {},
   "outputs": [
    {
     "data": {
      "text/html": [
       "<div>\n",
       "<style scoped>\n",
       "    .dataframe tbody tr th:only-of-type {\n",
       "        vertical-align: middle;\n",
       "    }\n",
       "\n",
       "    .dataframe tbody tr th {\n",
       "        vertical-align: top;\n",
       "    }\n",
       "\n",
       "    .dataframe thead th {\n",
       "        text-align: right;\n",
       "    }\n",
       "</style>\n",
       "<table border=\"1\" class=\"dataframe\">\n",
       "  <thead>\n",
       "    <tr style=\"text-align: right;\">\n",
       "      <th></th>\n",
       "      <th>Item</th>\n",
       "      <th>Time</th>\n",
       "      <th>Location</th>\n",
       "      <th>Companion</th>\n",
       "      <th>predicted_rating</th>\n",
       "    </tr>\n",
       "  </thead>\n",
       "  <tbody>\n",
       "    <tr>\n",
       "      <th>85</th>\n",
       "      <td>tt0120338</td>\n",
       "      <td>Weekend</td>\n",
       "      <td>Home</td>\n",
       "      <td>Partner</td>\n",
       "      <td>1.0</td>\n",
       "    </tr>\n",
       "    <tr>\n",
       "      <th>797</th>\n",
       "      <td>ttnanana2</td>\n",
       "      <td>Weekday</td>\n",
       "      <td>Cinema</td>\n",
       "      <td>Partner</td>\n",
       "      <td>1.0</td>\n",
       "    </tr>\n",
       "    <tr>\n",
       "      <th>776</th>\n",
       "      <td>tt4411490</td>\n",
       "      <td>Weekday</td>\n",
       "      <td>Cinema</td>\n",
       "      <td>Partner</td>\n",
       "      <td>1.0</td>\n",
       "    </tr>\n",
       "    <tr>\n",
       "      <th>451</th>\n",
       "      <td>tt0816199</td>\n",
       "      <td>Weekend</td>\n",
       "      <td>Cinema</td>\n",
       "      <td>Family</td>\n",
       "      <td>1.0</td>\n",
       "    </tr>\n",
       "    <tr>\n",
       "      <th>317</th>\n",
       "      <td>tt0378194</td>\n",
       "      <td>Weekday</td>\n",
       "      <td>Home</td>\n",
       "      <td>Partner</td>\n",
       "      <td>1.0</td>\n",
       "    </tr>\n",
       "    <tr>\n",
       "      <th>...</th>\n",
       "      <td>...</td>\n",
       "      <td>...</td>\n",
       "      <td>...</td>\n",
       "      <td>...</td>\n",
       "      <td>...</td>\n",
       "    </tr>\n",
       "    <tr>\n",
       "      <th>718</th>\n",
       "      <td>tt3203616</td>\n",
       "      <td>Weekend</td>\n",
       "      <td>Cinema</td>\n",
       "      <td>Alone</td>\n",
       "      <td>0.2</td>\n",
       "    </tr>\n",
       "    <tr>\n",
       "      <th>752</th>\n",
       "      <td>tt3637328</td>\n",
       "      <td>Weekend</td>\n",
       "      <td>Home</td>\n",
       "      <td>Partner</td>\n",
       "      <td>0.2</td>\n",
       "    </tr>\n",
       "    <tr>\n",
       "      <th>715</th>\n",
       "      <td>tt2574698</td>\n",
       "      <td>Weekend</td>\n",
       "      <td>Cinema</td>\n",
       "      <td>Alone</td>\n",
       "      <td>0.2</td>\n",
       "    </tr>\n",
       "    <tr>\n",
       "      <th>713</th>\n",
       "      <td>tt2574698</td>\n",
       "      <td>Weekday</td>\n",
       "      <td>Home</td>\n",
       "      <td>Alone</td>\n",
       "      <td>0.2</td>\n",
       "    </tr>\n",
       "    <tr>\n",
       "      <th>716</th>\n",
       "      <td>tt2574698</td>\n",
       "      <td>Weekend</td>\n",
       "      <td>Cinema</td>\n",
       "      <td>Partner</td>\n",
       "      <td>0.2</td>\n",
       "    </tr>\n",
       "  </tbody>\n",
       "</table>\n",
       "<p>806 rows × 5 columns</p>\n",
       "</div>"
      ],
      "text/plain": [
       "          Item     Time Location Companion  predicted_rating\n",
       "85   tt0120338  Weekend     Home   Partner               1.0\n",
       "797  ttnanana2  Weekday   Cinema   Partner               1.0\n",
       "776  tt4411490  Weekday   Cinema   Partner               1.0\n",
       "451  tt0816199  Weekend   Cinema    Family               1.0\n",
       "317  tt0378194  Weekday     Home   Partner               1.0\n",
       "..         ...      ...      ...       ...               ...\n",
       "718  tt3203616  Weekend   Cinema     Alone               0.2\n",
       "752  tt3637328  Weekend     Home   Partner               0.2\n",
       "715  tt2574698  Weekend   Cinema     Alone               0.2\n",
       "713  tt2574698  Weekday     Home     Alone               0.2\n",
       "716  tt2574698  Weekend   Cinema   Partner               0.2\n",
       "\n",
       "[806 rows x 5 columns]"
      ]
     },
     "metadata": {},
     "output_type": "display_data"
    }
   ],
   "source": [
    "predicted = pd.DataFrame(\n",
    "    mapped_ratings, \n",
    "    columns=[\n",
    "        'Item', \n",
    "        *encoded_df.columns[3:], \n",
    "        'predicted_rating']\n",
    ").sort_values(by='predicted_rating', ascending=False)\n",
    "display(predicted)"
   ]
  },
  {
   "cell_type": "code",
   "execution_count": 720,
   "id": "a56c29f7",
   "metadata": {},
   "outputs": [
    {
     "data": {
      "text/html": [
       "<div>\n",
       "<style scoped>\n",
       "    .dataframe tbody tr th:only-of-type {\n",
       "        vertical-align: middle;\n",
       "    }\n",
       "\n",
       "    .dataframe tbody tr th {\n",
       "        vertical-align: top;\n",
       "    }\n",
       "\n",
       "    .dataframe thead th {\n",
       "        text-align: right;\n",
       "    }\n",
       "</style>\n",
       "<table border=\"1\" class=\"dataframe\">\n",
       "  <thead>\n",
       "    <tr style=\"text-align: right;\">\n",
       "      <th></th>\n",
       "      <th>Item</th>\n",
       "      <th>Time</th>\n",
       "      <th>Location</th>\n",
       "      <th>Companion</th>\n",
       "      <th>predicted_rating</th>\n",
       "    </tr>\n",
       "  </thead>\n",
       "  <tbody>\n",
       "  </tbody>\n",
       "</table>\n",
       "</div>"
      ],
      "text/plain": [
       "Empty DataFrame\n",
       "Columns: [Item, Time, Location, Companion, predicted_rating]\n",
       "Index: []"
      ]
     },
     "execution_count": 720,
     "metadata": {},
     "output_type": "execute_result"
    }
   ],
   "source": [
    "predicted[\n",
    "    (predicted['Item'] == 'tt0110357') &\n",
    "    (predicted['Time'] == 'Weekend') &\n",
    "    (predicted['Location'] == 'Cinema') &\n",
    "    (predicted['Companion'] == 'Partner')\n",
    "]"
   ]
  },
  {
   "cell_type": "code",
   "execution_count": null,
   "id": "2e6e0fe3",
   "metadata": {},
   "outputs": [],
   "source": []
  }
 ],
 "metadata": {
  "kernelspec": {
   "display_name": "Python 3 (ipykernel)",
   "language": "python",
   "name": "python3"
  },
  "language_info": {
   "codemirror_mode": {
    "name": "ipython",
    "version": 3
   },
   "file_extension": ".py",
   "mimetype": "text/x-python",
   "name": "python",
   "nbconvert_exporter": "python",
   "pygments_lexer": "ipython3",
   "version": "3.9.12"
  }
 },
 "nbformat": 4,
 "nbformat_minor": 5
}
